{
 "cells": [
  {
   "cell_type": "markdown",
   "metadata": {
    "colab_type": "text",
    "id": "9BBP50kTmlz1"
   },
   "source": [
    "# Lab 10: Sentiment Analysis for Beer Reviews (1/2)\n"
   ]
  },
  {
   "cell_type": "markdown",
   "metadata": {
    "colab_type": "text",
    "id": "_rs6-xIHmlz2"
   },
   "source": [
    "<img width=400 src=\"sentiments.png\">"
   ]
  },
  {
   "cell_type": "markdown",
   "metadata": {
    "colab_type": "text",
    "id": "TiPYhccEmlz4"
   },
   "source": [
    "Sentiment analysis is the extraction of sentiment, which is the positive or negative orientation that an author of a text expresses towards an object. Typically, sentiment analysis systems do the following:\n",
    "- Subjectivity classification: Is the text objective or subjective?\n",
    "- Polarity classification: Is the expressed opinion positive, neutral or negative? How positive, neutral or negative is the text?\n",
    "- Subject identification: Who/what is the target of the sentiment?\n",
    "\n",
    "Sentiment analysis is one of the key areas of text data science that has found widespread interest in various fields like [politics](https://www.aaai.org/ocs/index.php/ICWSM/ICWSM10/paper/viewFile/1441/1852) (voter sentiment), [business](https://www.forbes.com/sites/jiawertz/2018/11/30/why-sentiment-analysis-could-be-your-best-kept-marketing-secret/#11d682642bbe) (product opinion mining), and [finance](https://ieeexplore.ieee.org/document/7955659). These systems are either rule-based (with manually crafted rules) or machine learning based (to automatically learn relationships betweeen text and sentiment).\n",
    "\n",
    "In this lab we will use a dataset of beer reviews to motivate sentiment analysis of product reviews. We will manually build our own sentiment lexicon to analyze sentiment by inspecting some positive and negative reviews, and we will also try using a general purpose sentiment [lexicon](https://www.cs.uic.edu/~liub/FBS/sentiment-analysis.html#lexicon). Finally, we will try automatically building the sentiment lexicon using the `Counter` class as before.\n",
    "\n",
    "A good overview of sentiment analysis with useful links can be found [here](https://monkeylearn.com/sentiment-analysis/#sentiment-analysis-lexicons) or [here](https://www.sciencedirect.com/science/article/pii/S2090447914000550)."
   ]
  },
  {
   "cell_type": "markdown",
   "metadata": {
    "colab_type": "text",
    "id": "E6cVdT39mlz5"
   },
   "source": [
    "As always, load the usual modules."
   ]
  },
  {
   "cell_type": "code",
   "execution_count": 1,
   "metadata": {
    "colab": {
     "base_uri": "https://localhost:8080/",
     "height": 105
    },
    "colab_type": "code",
    "id": "GkyVVe8vmlz6",
    "outputId": "5653b3d2-6ae7-4f8c-d009-40317b592ffa"
   },
   "outputs": [],
   "source": [
    "from datascience import *\n",
    "import numpy as np\n",
    "import re\n",
    "import gensim\n",
    "\n",
    "from collections import Counter\n",
    "\n",
    "import logging\n",
    "logging.basicConfig(format='%(asctime)s : %(levelname)s : %(message)s', level=logging.ERROR)\n",
    "logging.root.level = logging.CRITICAL \n",
    "\n",
    "import warnings\n",
    "warnings.filterwarnings(\"ignore\",category=DeprecationWarning)\n",
    "\n",
    "# direct plots to appear within the cell, and set their style\n",
    "%matplotlib inline\n",
    "import matplotlib.pyplot as plt\n",
    "plt.style.use('fivethirtyeight')"
   ]
  },
  {
   "cell_type": "markdown",
   "metadata": {
    "colab_type": "text",
    "id": "m3HOTfNoml0C"
   },
   "source": [
    "## Load and Preprocess Dataset"
   ]
  },
  {
   "cell_type": "markdown",
   "metadata": {
    "colab_type": "text",
    "id": "P-jm5cFHml0D"
   },
   "source": [
    "The dataset we will use is of beer reviews. Each line of the dataset is a JSON object like so:\n",
    "\n",
    "```\n",
    "{\"beer_brewerId\": \"8481\", \"review_time\": \"1157587200\", \"review_overall\": \"13/20\", \"review_text\": \"On tap at the Springfield, PA location. Poured a deep and cloudy orange (almost a copper) color with a small sized off white head. Aromas or oranges and all around citric. Tastes of oranges, light caramel and a very light grapefruit finish. I too would not believe the 80+ IBUs - I found this one to have a very light bitterness with a medium sweetness to it. Light lacing left on the glass.\", \"review_aroma\": \"6/10\", \"review_appearance\": \"4/5\", \"review_profileName\": \"hopdog\", \"beer_style\": \"India Pale Ale &#40;IPA&#41;\", \"review_palate\": \"3/5\", \"review_taste\": \"6/10\", \"beer_name\": \"John Harvards Simcoe IPA\", \"beer_ABV\": \"5.4\", \"beer_beerId\": \"63836\"}\n",
    "```\n",
    "\n",
    "We will read and select 10000 of these objects (due to memory constraints)."
   ]
  },
  {
   "cell_type": "code",
   "execution_count": 2,
   "metadata": {
    "colab": {
     "base_uri": "https://localhost:8080/",
     "height": 313
    },
    "colab_type": "code",
    "id": "bhBLAvLfml0F",
    "outputId": "4f04d4e6-12b5-47c7-f340-05f2459bb363"
   },
   "outputs": [
    {
     "data": {
      "text/html": [
       "<table border=\"1\" class=\"dataframe\">\n",
       "    <thead>\n",
       "        <tr>\n",
       "            <th>beer_ABV</th> <th>beer_beerId</th> <th>beer_brewerId</th> <th>beer_name</th> <th>beer_style</th> <th>review_appearance</th> <th>review_aroma</th> <th>review_overall</th> <th>review_palate</th> <th>review_profileName</th> <th>review_taste</th> <th>review_text</th> <th>review_time</th>\n",
       "        </tr>\n",
       "    </thead>\n",
       "    <tbody>\n",
       "        <tr>\n",
       "            <td>5.4     </td> <td>63836      </td> <td>8481         </td> <td>John Harvards Simcoe IPA</td> <td>India Pale Ale &#40;IPA&#41;</td> <td>4/5              </td> <td>6/10        </td> <td>13/20         </td> <td>3/5          </td> <td>hopdog            </td> <td>6/10        </td> <td>On tap at the Springfield, PA location. Poured a deep an ...</td> <td>1157587200 </td>\n",
       "        </tr>\n",
       "        <tr>\n",
       "            <td>6.5     </td> <td>58511      </td> <td>3228         </td> <td>Barley Island Barfly IPA</td> <td>India Pale Ale &#40;IPA&#41;</td> <td>3/5              </td> <td>5/10        </td> <td>8/20          </td> <td>2/5          </td> <td>jake65            </td> <td>4/10        </td> <td>Bottle:  Pours a murky caramel color with a modest, crea ...</td> <td>1227744000 </td>\n",
       "        </tr>\n",
       "    </tbody>\n",
       "</table>\n",
       "<p>... (9998 rows omitted)</p>"
      ],
      "text/plain": [
       "<IPython.core.display.HTML object>"
      ]
     },
     "metadata": {},
     "output_type": "display_data"
    }
   ],
   "source": [
    "# load file and build table\n",
    "filename = \"ratings.csv\"\n",
    "data = Table.read_table(filename)\n",
    "sample_size = data.num_rows\n",
    "data.show(2)"
   ]
  },
  {
   "cell_type": "markdown",
   "metadata": {
    "colab_type": "text",
    "id": "bgv3whL-ml0J"
   },
   "source": [
    "An example of a beer review is the following:"
   ]
  },
  {
   "cell_type": "code",
   "execution_count": 3,
   "metadata": {
    "colab": {
     "base_uri": "https://localhost:8080/",
     "height": 54
    },
    "colab_type": "code",
    "id": "VjwV9jOIml0K",
    "outputId": "8569cd5a-7b8a-4de6-86f5-9ae5dc7f5324"
   },
   "outputs": [
    {
     "name": "stdout",
     "output_type": "stream",
     "text": [
      "Bottle:  Pours a murky caramel color with a modest, creamy beige head.  Smells strong of floral hops, but also wheaty.  Maybe even a bit soapy?  Taste is rather dry and abrasive.  Florals, again soapy, and some wheat.  Hot and brash.  Plain and simple, I just didnt like it.\n"
     ]
    }
   ],
   "source": [
    "print(data.column('review_text')[1])"
   ]
  },
  {
   "cell_type": "markdown",
   "metadata": {
    "colab_type": "text",
    "id": "4E13PZvsml0R"
   },
   "source": [
    "Currently, the review scores are strings like `\"4/5\"`. We want to transform these into integers like `4` so that processing will be easier later. This can be done by using regex to match until the `'/'`."
   ]
  },
  {
   "cell_type": "code",
   "execution_count": 4,
   "metadata": {
    "colab": {
     "base_uri": "https://localhost:8080/",
     "height": 313
    },
    "colab_type": "code",
    "id": "vu4u1Fvsml0S",
    "outputId": "4d1bfb68-71cd-44bd-a50f-10dd1fc21fd9"
   },
   "outputs": [
    {
     "data": {
      "text/html": [
       "<table border=\"1\" class=\"dataframe\">\n",
       "    <thead>\n",
       "        <tr>\n",
       "            <th>beer_ABV</th> <th>beer_beerId</th> <th>beer_brewerId</th> <th>beer_name</th> <th>beer_style</th> <th>review_profileName</th> <th>review_text</th> <th>review_time</th> <th>review_appearance</th> <th>review_aroma</th> <th>review_overall</th> <th>review_palate</th> <th>review_taste</th>\n",
       "        </tr>\n",
       "    </thead>\n",
       "    <tbody>\n",
       "        <tr>\n",
       "            <td>5.4     </td> <td>63836      </td> <td>8481         </td> <td>John Harvards Simcoe IPA</td> <td>India Pale Ale &#40;IPA&#41;</td> <td>hopdog            </td> <td>On tap at the Springfield, PA location. Poured a deep an ...</td> <td>1157587200 </td> <td>4                </td> <td>6           </td> <td>13            </td> <td>3            </td> <td>6           </td>\n",
       "        </tr>\n",
       "        <tr>\n",
       "            <td>6.5     </td> <td>58511      </td> <td>3228         </td> <td>Barley Island Barfly IPA</td> <td>India Pale Ale &#40;IPA&#41;</td> <td>jake65            </td> <td>Bottle:  Pours a murky caramel color with a modest, crea ...</td> <td>1227744000 </td> <td>3                </td> <td>5           </td> <td>8             </td> <td>2            </td> <td>4           </td>\n",
       "        </tr>\n",
       "    </tbody>\n",
       "</table>\n",
       "<p>... (9998 rows omitted)</p>"
      ],
      "text/plain": [
       "<IPython.core.display.HTML object>"
      ]
     },
     "metadata": {},
     "output_type": "display_data"
    }
   ],
   "source": [
    "# transform columns with scoring into ints\n",
    "review_cols = [\"review_appearance\", \"review_aroma\", \"review_overall\", \"review_palate\", \"review_taste\"]\n",
    "\n",
    "def transform_int(score):\n",
    "    return int(re.match(r'([0-9]*)\\/', score)[1])\n",
    "\n",
    "for col in review_cols:\n",
    "    review_score = data.apply(transform_int, col)\n",
    "    data = data.drop(col)\n",
    "    data = data.with_column(col, review_score)\n",
    "\n",
    "data.show(2)"
   ]
  },
  {
   "cell_type": "markdown",
   "metadata": {
    "colab_type": "text",
    "id": "Pulvyrraml0Z"
   },
   "source": [
    "Let's see the distribution of overall review scores."
   ]
  },
  {
   "cell_type": "code",
   "execution_count": 5,
   "metadata": {
    "colab": {
     "base_uri": "https://localhost:8080/",
     "height": 282
    },
    "colab_type": "code",
    "id": "zDvMoG36ml0a",
    "outputId": "d1cdbf20-bb1b-4891-f887-8774f061543a"
   },
   "outputs": [
    {
     "data": {
      "image/png": "[encoded data removed]",
      "text/plain": [
       "<Figure size 432x288 with 1 Axes>"
      ]
     },
     "metadata": {},
     "output_type": "display_data"
    }
   ],
   "source": [
    "data.hist(\"review_overall\")"
   ]
  },
  {
   "cell_type": "markdown",
   "metadata": {
    "colab_type": "text",
    "id": "uLnznfnzml0g"
   },
   "source": [
    "We will classify reviews into three categories: positive, neutral and negative. To simplify matters, we will sort the reviews in increasing order of overall review score. The first third will be labelled negative, the next third neutral, and the last third positive."
   ]
  },
  {
   "cell_type": "code",
   "execution_count": 6,
   "metadata": {
    "colab": {
     "base_uri": "https://localhost:8080/",
     "height": 313
    },
    "colab_type": "code",
    "id": "FHNkUeVYml0h",
    "outputId": "25491e7b-da38-4081-9f68-15de623a4098"
   },
   "outputs": [
    {
     "data": {
      "text/html": [
       "<table border=\"1\" class=\"dataframe\">\n",
       "    <thead>\n",
       "        <tr>\n",
       "            <th>beer_ABV</th> <th>beer_beerId</th> <th>beer_brewerId</th> <th>beer_name</th> <th>beer_style</th> <th>review_profileName</th> <th>review_text</th> <th>review_time</th> <th>review_appearance</th> <th>review_aroma</th> <th>review_overall</th> <th>review_palate</th> <th>review_taste</th> <th>class</th>\n",
       "        </tr>\n",
       "    </thead>\n",
       "    <tbody>\n",
       "        <tr>\n",
       "            <td>5       </td> <td>51707      </td> <td>156          </td> <td>Lakefront New Grist Sorghum Beer</td> <td>Specialty Grain     </td> <td>roder60           </td> <td>Poured a very light offwhite offyellow color with almost ...</td> <td>1193875200 </td> <td>1                </td> <td>2           </td> <td>1             </td> <td>1            </td> <td>2           </td> <td>1    </td>\n",
       "        </tr>\n",
       "        <tr>\n",
       "            <td>5       </td> <td>44918      </td> <td>49           </td> <td>Molson Kick                     </td> <td>Spice/Herb/Vegetable</td> <td>Kinger            </td> <td>UPDATED: JAN 2, 2006 Bottle. I cant believe I was into t ...</td> <td>1135987200 </td> <td>1                </td> <td>1           </td> <td>1             </td> <td>1            </td> <td>1           </td> <td>1    </td>\n",
       "        </tr>\n",
       "    </tbody>\n",
       "</table>\n",
       "<p>... (9998 rows omitted)</p>"
      ],
      "text/plain": [
       "<IPython.core.display.HTML object>"
      ]
     },
     "metadata": {},
     "output_type": "display_data"
    }
   ],
   "source": [
    "# sort by increasing review overall score\n",
    "data = data.sort(\"review_overall\")\n",
    "\n",
    "# label class\n",
    "c2i = {\"negative\": 1,\n",
    "       \"neutral\": 2,\n",
    "       \"positive\": 3}\n",
    "labels = [c2i[\"negative\"]] * int(sample_size/3)\n",
    "labels.extend([c2i[\"neutral\"]] * int(sample_size/3))\n",
    "labels.extend([c2i[\"positive\"]] * (int(sample_size/3)+1))\n",
    "\n",
    "# add to data\n",
    "data = data.with_column(\"class\", labels)\n",
    "data.show(2)"
   ]
  },
  {
   "cell_type": "markdown",
   "metadata": {
    "colab_type": "text",
    "id": "ww_7eNvkml0n"
   },
   "source": [
    "In the subsequent sections, we will develop different models for scoring the sentiment of a beer review. To do so, we will split the dataset into a training set (80%) and a test set (20%). The training set will be used to develop the model, while the test set will be used to evaluate the model. This allows us to evaluate the model in a manner that is independent from how it was developed. \n",
    "\n",
    "We treat the problem of scoring the sentiment of beer review text as a two-step procedure:\n",
    "- Continuous score: Our models will output a sentiment score. We treat the provided overall review score (`scores_train`) as the gold standard metric of the review sentiment. The correlation of these two types of scores will indicate how well the model's predicted sentiment follows the actual sentiment.\n",
    "<p>\n",
    "- Discrete class: Using the predicted sentiment score, we will classify the reviews into negative, neutral and positive class. We treat the labelled actual classes as the gold standard class of the review. The accuracy of the predicted classes matching the actual classes also indicates model performance."
   ]
  },
  {
   "cell_type": "code",
   "execution_count": 7,
   "metadata": {
    "colab": {},
    "colab_type": "code",
    "id": "iq2OO_Vaml0o"
   },
   "outputs": [],
   "source": [
    "# split to training and test set\n",
    "from sklearn.model_selection import train_test_split\n",
    "seed = 123\n",
    "\n",
    "train, test = train_test_split(data.to_df(), test_size=0.20, random_state=seed)\n",
    "train = Table.from_df(train)\n",
    "test = Table.from_df(test)\n",
    "\n",
    "x_train = train.column(\"review_text\")\n",
    "y_train = train.column(\"class\")\n",
    "scores_train = train.column(\"review_overall\")\n",
    "\n",
    "x_test = test.column(\"review_text\")\n",
    "y_test = test.column(\"class\")\n",
    "scores_test = test.column(\"review_overall\")"
   ]
  },
  {
   "cell_type": "markdown",
   "metadata": {
    "colab_type": "text",
    "id": "_j6loNEUml0s"
   },
   "source": [
    "## Manually Created Sentiment Lexicon"
   ]
  },
  {
   "cell_type": "markdown",
   "metadata": {
    "colab_type": "text",
    "id": "La_aSVPNml0t"
   },
   "source": [
    "In the rest of this lab, we will explore rule-based approaches to sentiment analysis. We are concerned with different ways of building a sentiment lexicon, which is a dictionary of positive and negative words.\n",
    "\n",
    "To manually construct this, we can explore a few of the reviews and pick out words that stand out as indicative of either negative or positive sentiment."
   ]
  },
  {
   "cell_type": "code",
   "execution_count": 8,
   "metadata": {
    "colab": {
     "base_uri": "https://localhost:8080/",
     "height": 394
    },
    "colab_type": "code",
    "id": "0fyOQUAwml0t",
    "outputId": "54f1f83b-1031-466f-849b-99954dbe118e"
   },
   "outputs": [
    {
     "name": "stdout",
     "output_type": "stream",
     "text": [
      "Negative reviews\n",
      "(8): The Lure:Great head lingers and shields the light caramel and citrus fruit. Yeast is bullying the sweetness, and gives it a Belgian intonation. This growler seems in fine condition, the filled glass shows no sign of being tired.\t\tThe Festivities:Acidic, predominant yeast and citrusy hops run rampant over the frail malt sweetness. Fruity esters could have benefited from a generous dose of caramel, but it is sadly absent. Carbonations fine, but that dry tartness is just everywhere. And the malt could not have just disappeared.\t\tTranscendence:Withered and wrinkled, the grove is soon asphyxiated. \n",
      "\n",
      "(12): A vigorous produces a hazy orange copper colour with a medium sudsy biege head, fading to a thin cap. The nose reminds me of raw caramel malt with mild citrus tones and an overall impression of autumn. There is some spice present in the aroma, too. The flavour is lightly toasted malt, steamed vegatables and nuts. The hops are hardly present. The flavours are raw and uncooked tasting with a bit of odd zest. The palate is sharp and thin. Not so good. \n",
      "\n",
      "(9): Not a very good IPA at all.  Little complexity and a whole lot of bitterness.  Lacks the fine aroma of good hops. \n",
      "\n",
      "Neutral reviews\n",
      "(14): Pour a clean deep amber colour with a beige head that is smaller than average with decent retention and not much lacing. Great nose of malts, with notes of butterscotch and hop. Medium-full mouthfeel and still refreshing. Cereal malt taste with a touch of caramel and a little hop in the finish. I quite like this beer and nice to see this brewery making an altbier. \n",
      "\n",
      "(13): Pours with a hazy orange body and a long lasting off-white head. Aroma of fruity esters, dry grain, grass, alcohol caramel. A bit of \"generic German beer smell\" (pils malt + noble hops?). A bit of dust. Flavor is a bit bitter, butter, caramel, toast, bread, some fruitiness. Creamy to fizzy bubbles. Not bad. \n",
      "\n",
      "(13): UPDATED: JAN 17, 2009 \tName: Censored (Kronik)\tDate: July 13, 2006\tMode: Draft\tSource: Capitol Ale House, Richmond\tAppearance: opaque rusty amber, thin fine white head, touch of lace\tAroma: sweet fruity malt aroma\tFlavor: big malt flavor with some gritty brown sugar sweetness, a bit of fruit character, nice bitter balance in the finish\t\tName: Censored (Kronik)\tDate: September 17, 2006\tMode: draft\tSource: brick store\tAppearance: nice lace\tAroma: fruity aroma is a bit lighter than the bottle\tBody: very creamy and smooth body\tFlavor: flavor has a light fruity character with nice balancing hops\t\tAroma: 6/10; Appearance: 7/10; Flavor: 7/10; Palate: 6/10; Overall: 13/20\tRating: 3.3/5.0Drinkability: 8/10\tScore: **+/4 \n",
      "\n",
      "Positive reviews\n",
      "(16): Nutty bourbon and oak nose with some mild spice notes. Some soft vanilla and fruit on the palate.  Clean rich, complex and wonderfully drinkable. \n",
      "\n",
      "(15): An interesting beer, for sure.  Brightly colored golden-hue.  Frothy white head with a very active rising of bubbles.  Quite musty and heavily cellared.  Not too sweet at all.  Tart and has a Belgian/pilsner qualities to it that make it quite unique. \n",
      "\n",
      "(16): UPDATED: OCT 16, 2008 Bottle.  Pours cloudy deep orange with a purplish reddish hue.  Foamy off white head with good retention.  Fruity, spicy (mostly clove), and yeasty wheat aromas.  Notes of bananas, toasted banana bread, and some slightly dusty earthiness.  Probably the wheatiest (grainiest-tasting) wheat beer Ive had.  Definitely different from something like Schneider Aventinus, but still quite good. \n",
      "\n"
     ]
    }
   ],
   "source": [
    "# explore negative reviews \n",
    "data_neg = train.where(\"class\", c2i[\"negative\"])\n",
    "samples_neg = data_neg.sample(k=3,  with_replacement=False)\n",
    "texts_neg = samples_neg.column(\"review_text\")\n",
    "scores_neg = samples_neg.column(\"review_overall\")\n",
    "\n",
    "print(\"Negative reviews\")\n",
    "for text, score in zip(texts_neg, scores_neg):\n",
    "    print(\"(%d): %s\" % (score, text), \"\\n\")\n",
    "    \n",
    "# explore neutral reviews \n",
    "data_neu = train.where(\"class\", c2i[\"neutral\"])\n",
    "samples_neu = data_neu.sample(k=3,  with_replacement=False)\n",
    "texts_neu = samples_neu.column(\"review_text\")\n",
    "scores_neu = samples_neu.column(\"review_overall\")\n",
    "\n",
    "print(\"Neutral reviews\")\n",
    "for text, score in zip(texts_neu, scores_neu):\n",
    "    print(\"(%d): %s\" % (score, text), \"\\n\")\n",
    "    \n",
    "# explore positive reviews \n",
    "data_pos = train.where(\"class\", c2i[\"positive\"])\n",
    "samples_pos = data_pos.sample(k=3,  with_replacement=False)\n",
    "texts_pos = samples_pos.column(\"review_text\")\n",
    "scores_pos = samples_pos.column(\"review_overall\")\n",
    "\n",
    "print(\"Positive reviews\")\n",
    "for text, score in zip(texts_pos, scores_pos):\n",
    "    print(\"(%d): %s\" % (score, text), \"\\n\")"
   ]
  },
  {
   "cell_type": "markdown",
   "metadata": {
    "colab_type": "text",
    "id": "xn7j4XDuml0x"
   },
   "source": [
    "Based on the words we identified from the samples of negative and positive reviews, we build the positive and negative sentiment lexicons as sets of words (effectively, vocabularies)."
   ]
  },
  {
   "cell_type": "code",
   "execution_count": 9,
   "metadata": {
    "colab": {},
    "colab_type": "code",
    "id": "ekpix5ARml0y"
   },
   "outputs": [],
   "source": [
    "# build negative and positive lexicon     \n",
    "neg_lex = {\"bizarre\", \"rotten\", \"horrible\", \"bad\", \"terrible\", \n",
    "           \"bland\", \"unpleasant\", \"boring\", \"worse\", \"ew\", \n",
    "           \"disgusting\"}\n",
    "\n",
    "pos_lex = {\"sweet\", \"beautiful\",  \"wonderful\", \"smooth\", \"enjoyable\", \n",
    "           \"correct\", \"drinkable\", \"recommended\", \"good\", \"refreshing\",\n",
    "           \"incredible\"}"
   ]
  },
  {
   "cell_type": "markdown",
   "metadata": {
    "colab_type": "text",
    "id": "f_qGCxZ8ml06"
   },
   "source": [
    "Recall that in lab06 we relied on the following functions to process our text strings, removing any tokens with numerics, possessives, or empty strings. These functions also apply here in removing tokens that we do not want to consider in our scoring.\n",
    "\n",
    "Our scoring procedure is simply the following: +1 for a token in a positive lexicon, and -1 for a token in a negative lexicon. Then, a document has positive sentiment if its overall score is above 0, a negative sentiment if its overall score is below 0, and a neutral sentiment if its overall score is 0. This is a **bag of words** approach to sentiment analysis, where we treat each token in the review as an individual atomic unit. Can you think of problems with this approach?"
   ]
  },
  {
   "cell_type": "code",
   "execution_count": 10,
   "metadata": {
    "colab": {},
    "colab_type": "code",
    "id": "JfsTfwQ-ml07"
   },
   "outputs": [],
   "source": [
    "# simple scoring function and auxiliary functions    \n",
    "def is_numeric(string):\n",
    "    return any(char.isdigit() for char in string)\n",
    "\n",
    "def has_poss_contr(string):\n",
    "    return '\\'s' in string\n",
    "\n",
    "def empty_string(string):\n",
    "    return not string\n",
    "\n",
    "def remove_string(string):\n",
    "    return is_numeric(string) or has_poss_contr(string) or empty_string(string)\n",
    "\n",
    "def score(text):\n",
    "    text = re.sub(r'[^\\w\\s]', '', text)\n",
    "    tokens = text.lower().strip().split(' ')\n",
    "    tokens = [token for token in tokens if not remove_string(token)]\n",
    "\n",
    "    score = 0\n",
    "    for token in tokens:\n",
    "        if token in neg_lex:\n",
    "            score -= 1\n",
    "        elif token in pos_lex:\n",
    "            score += 1\n",
    "    return score\n",
    "\n",
    "def classify(score):\n",
    "    if score < 0:\n",
    "        return 1\n",
    "    elif score == 0:\n",
    "        return 2\n",
    "    else:\n",
    "        return 3"
   ]
  },
  {
   "cell_type": "markdown",
   "metadata": {
    "colab_type": "text",
    "id": "4UiQiivnml0-"
   },
   "source": [
    "Given the above sentiment lexicons and procedure described, we then score all beer reviews in the test set. Using the predicted scores, we also classify each beer review into a class of positive, neutral or negative sentiment.\n",
    "\n",
    "To evaluate the model, we compute the following:\n",
    "- Correlation coefficient: a numerical measure of the relationship between two variables. A higher value indicates a stronger correlation. To visualize this, we also plot a scatterplot.\n",
    "- Accuracy: the % accuracy of the model in predicting the class of a sentiment. "
   ]
  },
  {
   "cell_type": "code",
   "execution_count": 11,
   "metadata": {
    "colab": {
     "base_uri": "https://localhost:8080/",
     "height": 296
    },
    "colab_type": "code",
    "id": "df1kMXOXml0-",
    "outputId": "1296c124-01be-4847-d89b-828d39e74848"
   },
   "outputs": [
    {
     "name": "stdout",
     "output_type": "stream",
     "text": [
      "Correlation coefficient: 0.228099\n",
      "Classification accuracy: 0.367500\n"
     ]
    },
    {
     "data": {
      "image/png": "[encoded data removed]",
      "text/plain": [
       "<Figure size 432x288 with 1 Axes>"
      ]
     },
     "metadata": {},
     "output_type": "display_data"
    }
   ],
   "source": [
    "# score test set\n",
    "pred_scores = [score(text) for text in x_test]\n",
    "pred_class = [classify(score) for score in pred_scores]\n",
    "\n",
    "# correlation (for scores), accuracy (for class)\n",
    "corr = np.corrcoef(scores_test, pred_scores)[0,1]\n",
    "acc = np.mean(np.equal(y_test, pred_class))\n",
    "print(\"Correlation coefficient: %f\" % corr)\n",
    "print(\"Classification accuracy: %f\" % acc)\n",
    "\n",
    "# scatterplot\n",
    "plt.scatter(scores_test, pred_scores)\n",
    "plt.show()"
   ]
  },
  {
   "cell_type": "markdown",
   "metadata": {
    "colab_type": "text",
    "id": "0qXO97C-ml1B"
   },
   "source": [
    "The model performs only slightly better than chance (36.8% compared to 33.3%), and has a weak correlation coefficient. How can we do better?"
   ]
  },
  {
   "cell_type": "markdown",
   "metadata": {
    "colab_type": "text",
    "id": "ShmTH8IOml1B"
   },
   "source": [
    "### Your turn!\n",
    "\n",
    "Using the procedure above, expand the negative and positive lexicons by manually adding in 5 words *each*, which correspond to a negative and positive sentiment respectively. \n",
    "\n",
    "To do so, you should sample negative, neutral and positive reviews as above, and then pick out words that you think uniquely represent the corresponding sentiment. Show your results in terms of correlation coefficieent and classification accuracy.\n",
    "\n",
    "How much improvement are you able to attain?"
   ]
  },
  {
   "cell_type": "markdown",
   "metadata": {
    "colab_type": "text",
    "id": "UrOS6L4eml1C"
   },
   "source": [
    "## General Purpose Sentiment Lexicon\n"
   ]
  },
  {
   "cell_type": "markdown",
   "metadata": {
    "colab_type": "text",
    "id": "8I9QYo3-ml1C"
   },
   "source": [
    "Now, instead of manually building our sentiment lexicon, we'll adopt a general purpose sentiment lexicon created by Hu and Liu. This lexicon was specifically [created](https://www.cs.uic.edu/~liub/publications/kdd04-revSummary.pdf) to handle customer reviews, so we expect performance of our model to increase. "
   ]
  },
  {
   "cell_type": "code",
   "execution_count": 12,
   "metadata": {
    "colab": {
     "base_uri": "https://localhost:8080/",
     "height": 51
    },
    "colab_type": "code",
    "id": "PvO7uPVtml1D",
    "outputId": "99e3c8c6-768a-4194-a539-f373c6a54003"
   },
   "outputs": [
    {
     "name": "stdout",
     "output_type": "stream",
     "text": [
      "Archive:  opinion-lexicon-English.zip\r\n",
      "   creating: opinion-lexicon-English/\r\n",
      "  inflating: opinion-lexicon-English/positive-words.txt  \r\n",
      "   creating: __MACOSX/\r\n",
      "   creating: __MACOSX/opinion-lexicon-English/\r\n",
      "  inflating: __MACOSX/opinion-lexicon-English/._positive-words.txt  \r\n",
      "  inflating: opinion-lexicon-English/negative-words.txt  \r\n",
      "  inflating: __MACOSX/opinion-lexicon-English/._negative-words.txt  \r\n"
     ]
    }
   ],
   "source": [
    "!unzip opinion-lexicon-English.zip\n",
    "\n",
    "def load_lexicon(filename):\n",
    "    \"\"\"\n",
    "    Load a file from Bing Liu's sentiment lexicon\n",
    "    (https://www.cs.uic.edu/~liub/FBS/sentiment-analysis.html#lexicon), containing\n",
    "    English words in Latin-1 encoding.\n",
    "    \n",
    "    One file contains a list of positive words, and the other contains\n",
    "    a list of negative words. The files contain comment lines starting\n",
    "    with ';' and blank lines, which should be skipped.\n",
    "    \n",
    "    With thanks to Robyn Speer (http://blog.conceptnet.io/posts/2017/how-to-make-a-racist-ai-without-really-trying/)\n",
    "    \"\"\"\n",
    "    lexicon = []\n",
    "    with open(filename, encoding='latin-1') as infile:\n",
    "        for line in infile:\n",
    "            line = line.rstrip()\n",
    "            if line and not line.startswith(';'):\n",
    "                lexicon.append(line)\n",
    "    return lexicon\n",
    "\n",
    "pos_lex = set(load_lexicon('opinion-lexicon-English/positive-words.txt'))\n",
    "neg_lex = set(load_lexicon('opinion-lexicon-English/negative-words.txt'))"
   ]
  },
  {
   "cell_type": "markdown",
   "metadata": {
    "colab_type": "text",
    "id": "5bFQDvxDml1G"
   },
   "source": [
    "As before, evaluate this model built on the general purpose sentiment lexicon by calculating the correlation coefficieent and classification accuracy on the test set."
   ]
  },
  {
   "cell_type": "code",
   "execution_count": 13,
   "metadata": {
    "colab": {
     "base_uri": "https://localhost:8080/",
     "height": 296
    },
    "colab_type": "code",
    "id": "4sXthBU9ml1G",
    "outputId": "a2013c47-5735-4c39-9654-861fca34faa9"
   },
   "outputs": [
    {
     "name": "stdout",
     "output_type": "stream",
     "text": [
      "Correlation coefficient: 0.302706\n",
      "Classification accuracy: 0.386500\n"
     ]
    },
    {
     "data": {
      "image/png": "[encoded data removed]",
      "text/plain": [
       "<Figure size 432x288 with 1 Axes>"
      ]
     },
     "metadata": {},
     "output_type": "display_data"
    }
   ],
   "source": [
    "# score test set\n",
    "pred_scores = [score(text) for text in x_test]\n",
    "pred_class = [classify(score) for score in pred_scores]\n",
    "\n",
    "# correlation (for scores), accuracy (for class)\n",
    "corr = np.corrcoef(scores_test, pred_scores)[0,1]\n",
    "acc = np.mean(np.equal(y_test, pred_class))\n",
    "print(\"Correlation coefficient: %f\" % corr)\n",
    "print(\"Classification accuracy: %f\" % acc)\n",
    "\n",
    "# scatterplot\n",
    "plt.scatter(scores_test, pred_scores)\n",
    "plt.show()"
   ]
  },
  {
   "cell_type": "markdown",
   "metadata": {
    "colab_type": "text",
    "id": "QhbXjtxcml1J"
   },
   "source": [
    "We achieve only slightly better correlation and classification accuracy. The lesson here is that sentiment lexicons created in a general purpose manner tend not to generalize well to domain specific datasets. Intuitively, beer reviews contain tokens that carry positive and negative sentiment specific to the domain of rating beer."
   ]
  },
  {
   "cell_type": "markdown",
   "metadata": {
    "colab_type": "text",
    "id": "uodASegfml1K"
   },
   "source": [
    "## Automatically Created Sentiment Lexicon"
   ]
  },
  {
   "cell_type": "markdown",
   "metadata": {
    "colab_type": "text",
    "id": "xP0i26Fgml1L"
   },
   "source": [
    "Now, we will automatically create our sentiment lexicons by building a pos/neg dictionary of words over the positive beer reviews and negative beer reviews respectively. Take note that we should only do this over the training set! **Why?** \n",
    "\n",
    "Using previous techniques (the `Counter` class), we can easily build this lexicon. Since the positive and negative lexicons are likely to contain many common words, we only want to count words that do not appear in both lexicons in the respective positive / negative lexicon."
   ]
  },
  {
   "cell_type": "code",
   "execution_count": 14,
   "metadata": {
    "colab": {},
    "colab_type": "code",
    "id": "9ugPivtbml1L"
   },
   "outputs": [],
   "source": [
    "# build negative lexicon\n",
    "texts_neg = train.where(\"class\", c2i[\"negative\"]).column(\"review_text\")\n",
    "vocab_neg = Counter()\n",
    "texts_neg_tok = [text.lower().strip().split(' ') for text in texts_neg]\n",
    "texts_neg_tok = [[token for token in text if not remove_string(token)] for text in texts_neg_tok]\n",
    "for text in texts_neg_tok:\n",
    "    vocab_neg.update(text)\n",
    "neg_lex = set(vocab_neg)\n",
    "\n",
    "# build positive lexicon\n",
    "texts_pos = train.where(\"class\", c2i[\"positive\"]).column(\"review_text\")\n",
    "vocab_pos = Counter()\n",
    "texts_pos_tok = [text.lower().strip().split(' ') for text in texts_pos]\n",
    "texts_pos_tok = [[token for token in text if not remove_string(token)] for text in texts_pos_tok]\n",
    "for text in texts_pos_tok:\n",
    "    vocab_pos.update(text)\n",
    "pos_lex = set(vocab_pos)\n",
    "\n",
    "intersect = neg_lex.intersection(pos_lex)\n",
    "neg_lex = neg_lex - intersect\n",
    "pos_lex = pos_lex - intersect"
   ]
  },
  {
   "cell_type": "code",
   "execution_count": 15,
   "metadata": {
    "colab": {
     "base_uri": "https://localhost:8080/",
     "height": 296
    },
    "colab_type": "code",
    "id": "aOfFUCMHml1O",
    "outputId": "2dd4b706-2822-4985-87fe-bf9979f4f5e4"
   },
   "outputs": [
    {
     "name": "stdout",
     "output_type": "stream",
     "text": [
      "Correlation coefficient: 0.231229\n",
      "Classification accuracy: 0.410000\n"
     ]
    },
    {
     "data": {
      "image/png": "[encoded data removed]",
      "text/plain": [
       "<Figure size 432x288 with 1 Axes>"
      ]
     },
     "metadata": {},
     "output_type": "display_data"
    }
   ],
   "source": [
    "# score test set\n",
    "pred_scores = [score(text) for text in x_test]\n",
    "pred_class = [classify(score) for score in pred_scores]\n",
    "\n",
    "# correlation (for scores), accuracy (for class)\n",
    "corr = np.corrcoef(scores_test, pred_scores)[0,1]\n",
    "acc = np.mean(np.equal(y_test, pred_class))\n",
    "print(\"Correlation coefficient: %f\" % corr)\n",
    "print(\"Classification accuracy: %f\" % acc)\n",
    "\n",
    "# scatterplot\n",
    "plt.scatter(scores_test, pred_scores)\n",
    "plt.show()"
   ]
  },
  {
   "cell_type": "markdown",
   "metadata": {
    "colab_type": "text",
    "id": "ZQY5WN_Qml1R"
   },
   "source": [
    "Our performance is the best yet! This is not too surprising, since this method manages to capture the domain specific semantics for rating beer in a positive or negative manner."
   ]
  },
  {
   "cell_type": "markdown",
   "metadata": {
    "colab_type": "text",
    "id": "F2-Rh9tvml1S"
   },
   "source": [
    "### Your turn!\n",
    "\n",
    "Currently, we build both sentiment lexicons over the full training data. How does model performance change when we only use a smaller subset of the training data?\n",
    "\n",
    "Analyze how the performance of this model (automatically constructing the negative and positive lexicon) varies as you change the size of training set over which to build the lexicons. Make sure your size range is between 800 to 8000 inclusive! \n",
    "\n",
    "Discuss and suggest reasons for the observed trend.\n",
    "\n",
    "You can use the following to get started:\n",
    "\n",
    "```\n",
    "def build_lexicons(train, c2i, size):\n",
    "    \n",
    "    # sample train set\n",
    "    subset = train.sample(size, with_replacement=False)\n",
    "    \n",
    "    # build negative lexicon\n",
    "    \n",
    "    # build positive lexicon\n",
    "    \n",
    "    # return lexicons\n",
    "    \n",
    "# define step size and list of sizes to use\n",
    "\n",
    "# for each size\n",
    "\n",
    "    # build lexicons\n",
    "    \n",
    "    # obtain predicted scores and classes\n",
    "    \n",
    "    # compute correlation coefficient and accuracy\n",
    "    \n",
    "# plot the correlation and accuracy, against sizes, on same graph\n",
    "```"
   ]
  },
  {
   "cell_type": "code",
   "execution_count": null,
   "metadata": {},
   "outputs": [],
   "source": []
  },
  {
   "cell_type": "code",
   "execution_count": 21,
   "metadata": {
    "colab": {
     "base_uri": "https://localhost:8080/",
     "height": 34
    },
    "colab_type": "code",
    "id": "3s3qZzTfpg8q",
    "outputId": "a8484b1e-985a-40b9-8bff-0c97ebdcd33e"
   },
   "outputs": [],
   "source": [
    "def build_lexicons(train, c2i, size):\n",
    " \n",
    "    # sample /train set\n",
    "    subset = train.sample(size, with_replacement=False)\n",
    " \n",
    "    # build negative lexicon\n",
    "    texts_neg = subset.where(\"class\", c2i[\"negative\"]).column(\"review_text\")\n",
    "    vocab_neg = Counter()\n",
    "    texts_neg_tok = [text.lower().strip().split(' ') for text in texts_neg]\n",
    "    texts_neg_tok = [[token for token in text if not remove_string(token)] for text in texts_neg_tok]\n",
    "    for text in texts_neg_tok:\n",
    "        vocab_neg.update(text)\n",
    "    neg_lex = set(vocab_neg)\n",
    "\n",
    " \n",
    "    # build positive lexicon\n",
    "    texts_pos = subset.where(\"class\", c2i[\"positive\"]).column(\"review_text\")\n",
    "    vocab_pos = Counter()\n",
    "    texts_pos_tok = [text.lower().strip().split(' ') for text in texts_pos]\n",
    "    texts_pos_tok = [[token for token in text if not remove_string(token)] for text in texts_pos_tok]\n",
    "    for text in texts_pos_tok:\n",
    "        vocab_pos.update(text)\n",
    "    pos_lex = set(vocab_pos)\n",
    " \n",
    "    # return lexicons\n",
    "    intersect = neg_lex.intersection(pos_lex)\n",
    "    neg_lex = neg_lex - intersect\n",
    "    pos_lex = pos_lex - intersect\n",
    "    return pos_lex, neg_lex\n",
    " \n",
    "# define step size and list of sizes to use\n",
    " \n",
    "# for each size\n",
    " \n",
    "    # build lexicons\n",
    " \n",
    "    # obtain predicted scores and classes\n",
    " \n",
    "    # compute correlation coefficient and accuracy\n",
    " \n",
    "# plot the correlation and accuracy, against sizes, on same graph\n",
    "step = 10\n",
    "corrl = []\n",
    "accu = []\n",
    "sizes = list(range(800, 8001, step))\n",
    "for i in sizes:\n",
    "    pos_lex, neg_lex = build_lexicons(train, c2i, i)\n",
    "\n",
    "    # score test set\n",
    "    pred_scores = [score(text) for text in x_test]\n",
    "    pred_class = [classify(score) for score in pred_scores]\n",
    "    \n",
    "    # correlation (for scores), accuracy (for class)\n",
    "    corr = np.corrcoef(scores_test, pred_scores)[0,1]\n",
    "    acc = np.mean(np.equal(y_test, pred_class))\n",
    "    corrl.append(corr)\n",
    "    accu.append(acc)\n",
    "    \n"
   ]
  },
  {
   "cell_type": "markdown",
   "metadata": {
    "colab_type": "text",
    "id": "d4BTDClD_vSF"
   },
   "source": []
  },
  {
   "cell_type": "code",
   "execution_count": 22,
   "metadata": {
    "colab": {
     "base_uri": "https://localhost:8080/",
     "height": 296
    },
    "colab_type": "code",
    "id": "912ewW81sT49",
    "outputId": "028b2080-5216-47a0-ea3c-9d0442064948"
   },
   "outputs": [
    {
     "data": {
      "text/plain": [
       "[<matplotlib.lines.Line2D at 0x7f10e7b80ba8>,\n",
       " <matplotlib.lines.Line2D at 0x7f10e7b80da0>]"
      ]
     },
     "execution_count": 22,
     "metadata": {},
     "output_type": "execute_result"
    },
    {
     "data": {
      "image/png": "[encoded data removed]",
      "text/plain": [
       "<Figure size 432x288 with 1 Axes>"
      ]
     },
     "metadata": {},
     "output_type": "display_data"
    }
   ],
   "source": [
    "plt.plot(sizes, accu, sizes, corrl)"
   ]
  },
  {
   "cell_type": "markdown",
   "metadata": {
    "colab_type": "text",
    "id": "6yB8GhvhCN-W"
   },
   "source": [
    "Bottom is corrrelation, top is accuracy. It seems that the variance for both metrics is much higher in the beginning with smaller subsets. As we go on, both metrics seem to diverge to the mean of the smaller subsets."
   ]
  }
 ],
 "metadata": {
  "colab": {
   "name": "lab10.ipynb",
   "provenance": []
  },
  "kernelspec": {
   "display_name": "Python 3",
   "language": "python",
   "name": "python3"
  },
  "language_info": {
   "codemirror_mode": {
    "name": "ipython",
    "version": 3
   },
   "file_extension": ".py",
   "mimetype": "text/x-python",
   "name": "python",
   "nbconvert_exporter": "python",
   "pygments_lexer": "ipython3",
   "version": "3.6.7"
  }
 },
 "nbformat": 4,
 "nbformat_minor": 1
}
