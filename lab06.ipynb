{
 "cells": [
  {
   "cell_type": "markdown",
   "metadata": {},
   "source": [
    "# Lab 06: Abstracts of Scientific Articles (1/2)\n",
    "In this lab we will begin working with abstracts of scientific articles. These abstracts are obtained from [arXiv.org](http://arxiv.org), an open access repository for e-prints of articles in scientific fields maintained by Cornell University. For example, [here is a not-so-random example](https://arxiv.org/abs/1902.06034) of an article that was posted to arXiv just yesterday. In this first lab, we will begin by building a vocabulary of tokens. We will then build topic models using the python library gensim, and do some analysis over the topics obtained.\n",
    "\n",
    "In terms of programming content, we will build on the concepts of dictionaries and regular expressions. We will introduce the Counter class, an extension of dictionaries, as well as the concept of vocabularies, which are useful for using more powerful text processing techniques. We will also give a brief overview of topic models."
   ]
  },
  {
   "cell_type": "code",
   "execution_count": 1,
   "metadata": {},
   "outputs": [],
   "source": [
    "from datascience import *\n",
    "import numpy as np\n",
    "import re\n",
    "import gensim\n",
    "\n",
    "from collections import Counter\n",
    "\n",
    "import logging\n",
    "logging.basicConfig(format='%(asctime)s : %(levelname)s : %(message)s', level=logging.ERROR)\n",
    "logging.root.level = logging.CRITICAL \n",
    "\n",
    "import warnings\n",
    "warnings.filterwarnings(\"ignore\",category=DeprecationWarning)\n",
    "\n",
    "# direct plots to appear within the cell, and set their style\n",
    "%matplotlib inline\n",
    "import matplotlib.pyplot as plots\n",
    "plots.style.use('fivethirtyeight')"
   ]
  },
  {
   "cell_type": "markdown",
   "metadata": {},
   "source": [
    "The abstracts are in a JSON format in `abstracts.json`. Here is an excerpt from the data we'll be using.\n",
    "\n",
    "```\n",
    "{\n",
    "   \"1407.0001\": \"The topic of finding effective strategy to halt virus in complex network is of current interest. We propose an immunization strategy for seasonal epidemics that occur periodically. Based on the local information of the infection status from the previous epidemic season, the selection of vaccinated nodes is optimized gradually. The evolution of vaccinated nodes during iterations demonstrates that the immunization tends to locate in both global hubs and local hubs. We analyze the epidemic prevalence by a heterogeneous mean-field method and present numerical simulations of our model. This immunization performs superiorly to some other previously known strategies. Our work points out a new direction in immunization of seasonal epidemics.\", \n",
    "```\n",
    "\n",
    "Once again we will read this using the `json` package."
   ]
  },
  {
   "cell_type": "code",
   "execution_count": 2,
   "metadata": {},
   "outputs": [],
   "source": [
    "import json\n",
    "with open('abstracts.json') as f:\n",
    "    data = json.load(f)"
   ]
  },
  {
   "cell_type": "markdown",
   "metadata": {},
   "source": [
    "The JSON is in a key-value format, where the key is a unique arXiv identifier, and the value is the abstract. We are only concerned with the abstracts, so we will extract them into an array.\n",
    "\n",
    "**In the next cell and subsequent cells, you will see code commented out. The commented out code has the same functionality as the code prior. The only difference between them is that the commented out ones are written in for loops, while the ones not commented are written using list comprehensions. If you study them, you should be able to understand why they are equivalent!**"
   ]
  },
  {
   "cell_type": "code",
   "execution_count": 3,
   "metadata": {},
   "outputs": [
    {
     "name": "stdout",
     "output_type": "stream",
     "text": [
      "Number of documents: 50000\n",
      "\n",
      "\\noindent A statistical inconsistency of a zero-inflated Binomial likelihood model for count data is identified. This issue occurs when the response, $y$, is both zero and n-inflated, and results in statistically inconsistent and erroneous parameter inferences being drawn from the data. The zero-modified Binomial likelihood is amended to address this issue of \\textit{n-inflation}, resulting in a fully symmetric Binomial likelihood model for both zero and n-inflated counts. We present a simple regression example from the ecological literature which details the practical application of the new likelihood model.\n"
     ]
    }
   ],
   "source": [
    "sample = 30\n",
    "\n",
    "abstracts = [item[1] for item in data.items()]\n",
    "\n",
    "# abstracts = []\n",
    "# for item in data.items():\n",
    "#     abstracts.append(item[1])\n",
    "    \n",
    "print(\"Number of documents: %d\\n\" % len(abstracts))\n",
    "print(abstracts[sample])"
   ]
  },
  {
   "cell_type": "markdown",
   "metadata": {},
   "source": [
    "This abstract is from article [arXiv:1407.0064v1](https://arxiv.org/abs/1407.0064v1) on the arXiv. From the sample document, we see that the abstracts can have various marked up text such as `\\noindent`, `$y$`, or `\\textit{n-inflation}`. This is LaTeX, a text markup system that allows for more convenient scientific technical writing. For example, the text `\\sum_{i=1}^ni = \\frac{n(n+1)}{2}` is processed to\n",
    "\n",
    "$$\\sum_{i=1}^ni = \\frac{n(n+1)}{2}$$\n",
    "\n",
    "LaTeX is widely used in academia across fields like statistics, computer science, linguistics and political science.\n",
    "\n",
    "For our purposes, we have to remove such markup as we only want to process natural text. We can once again use regular expressions to remove the markup."
   ]
  },
  {
   "cell_type": "code",
   "execution_count": 4,
   "metadata": {},
   "outputs": [
    {
     "name": "stdout",
     "output_type": "stream",
     "text": [
      " A statistical inconsistency of a zero inflated Binomial likelihood model for count data is identified This issue occurs when the response  is both zero and n inflated and results in statistically inconsistent and erroneous parameter inferences being drawn from the data The zero modified Binomial likelihood is amended to address this issue of n inflation resulting in a fully symmetric Binomial likelihood model for both zero and n inflated counts We present a simple regression example from the ecological literature which details the practical application of the new likelihood model\n"
     ]
    }
   ],
   "source": [
    "# remove $...$ or $$...$$ math markup\n",
    "abstracts = [re.sub(r'\\$\\$.*?\\$\\$', r'', abstract) for abstract in abstracts]\n",
    "abstracts = [re.sub(r'\\$.*?\\$', r'', abstract) for abstract in abstracts]\n",
    "\n",
    "# remove \\emph{...}, \\textit{...} type markup and replace with ...\n",
    "abstracts = [re.sub(r'\\\\\\S*?\\{(.*?)\\}', r'\\1', abstract) for abstract in abstracts]\n",
    "\n",
    "# remove \\noindent type markup\n",
    "abstracts = [re.sub(r'\\\\(\\S*)', r'', abstract) for abstract in abstracts]\n",
    "\n",
    "# remove {{...}}, {...}, and (...) markup, and replace with ...\n",
    "abstracts = [re.sub(r'\\{\\{(.*?)\\}\\}', r'\\1', abstract) for abstract in abstracts]\n",
    "abstracts = [re.sub(r'\\{(.*?)\\}', r'\\1', abstract) for abstract in abstracts]\n",
    "abstracts = [re.sub(r'\\((.*?)\\)', r'\\1', abstract) for abstract in abstracts]\n",
    "\n",
    "# replace '-' with ' ', then remove punctuation\n",
    "abstracts = [re.sub(r'-', ' ', abstract) for abstract in abstracts]\n",
    "abstracts = [re.sub(r'[^\\w\\s]', '', abstract) for abstract in abstracts]\n",
    "\n",
    "print(abstracts[sample])"
   ]
  },
  {
   "cell_type": "markdown",
   "metadata": {},
   "source": [
    "Now, we want to further process each abstract by converting it to lower case, stripping leading and trailing white space, and then tokenizing by splitting on spaces."
   ]
  },
  {
   "cell_type": "code",
   "execution_count": 5,
   "metadata": {},
   "outputs": [],
   "source": [
    "abstracts_tok = [abstract.lower().strip().split(' ') for abstract in abstracts]\n",
    "\n",
    "# abstracts_tok = []\n",
    "# for abstract in abstracts:\n",
    "#     processed = abstract.lower().strip().split(' ')\n",
    "#     abstracts_tok.append(processed)"
   ]
  },
  {
   "cell_type": "markdown",
   "metadata": {},
   "source": [
    "Furthermore, we will remove tokens that have digits, have possessives or contractions, or are empty strings.\n",
    "\n",
    "### In Class Exercise!\n",
    "Write functions that will achieve that functionality described. Specifically, write\n",
    "- `is_numeric(string)` which checks if `string` has any numbers\n",
    "- `has_poss_contr(string)` which checks if `string` has possessives or contractions\n",
    "- `empty_string(string)` which checks if `string` is an empty string\n",
    "- `remove_string(string)` which checcks if `string` should be removed"
   ]
  },
  {
   "cell_type": "code",
   "execution_count": 6,
   "metadata": {},
   "outputs": [],
   "source": [
    "def is_numeric(string):\n",
    "    return any(char.isdigit() for char in string)\n",
    "\n",
    "def has_poss_contr(string):\n",
    "    return '\\'s' in string\n",
    "\n",
    "def empty_string(string):\n",
    "    return not string\n",
    "\n",
    "def remove_string(string):\n",
    "    return is_numeric(string) or has_poss_contr(string) or empty_string(string)"
   ]
  },
  {
   "cell_type": "code",
   "execution_count": 7,
   "metadata": {},
   "outputs": [],
   "source": [
    "# def is_numeric(string):\n",
    "#     for char in string:\n",
    "#         if char.isdigit():\n",
    "#             return True\n",
    "#     return False\n",
    "\n",
    "# def has_poss_contr(string):\n",
    "#     for i in range(len(string) - 1):\n",
    "#         if string[i] == '\\'' and string[i+1] == 's':\n",
    "#             return True\n",
    "#     return False\n",
    "\n",
    "# def empty_string(string):\n",
    "#     return string == ''\n",
    "\n",
    "# def remove_string(string):\n",
    "#     return is_numeric(string) | has_poss_contr(string) | empty_string(string)"
   ]
  },
  {
   "cell_type": "code",
   "execution_count": 8,
   "metadata": {},
   "outputs": [],
   "source": [
    "abstracts_tok = [[token for token in abstract if not remove_string(token)] for abstract in abstracts_tok]\n",
    "\n",
    "# temp = []\n",
    "# for abstract in abstracts_tok:\n",
    "#     filtered = []\n",
    "#     for token in abstract:\n",
    "#         if not remove_string(token):\n",
    "#             filtered.append(token)\n",
    "#     temp.append(filtered)\n",
    "# abstracts_tok = temp"
   ]
  },
  {
   "cell_type": "markdown",
   "metadata": {},
   "source": [
    "Topic modelling is a powerful statistical method for discovering abstract \"topics\" that occur in a collection of documents. The overall intuition behind topic models is that similar documents contain similar words. In this manner, the frequency of words in a document represent the hidden semantics of the document. If two documents have similar frequently appearing words, then they are more likely to belong to a similar topic. This frequency is determined in reference to a vocabulary of all words in the collection of documents.\n",
    "\n",
    "For example, the two documents below are similar because over the entire vocabulary of words, they contain similar frequently appearing words like \"complex\", \"network\", \"epidemic\".\n",
    "\n",
    "```\n",
    "{\n",
    "   \"1407.0001\": \"The topic of finding effective strategy to halt virus in complex network is of current interest. We propose an immunization strategy for seasonal epidemics that occur periodically. Based on the local information of the infection status from the previous epidemic season, the selection of vaccinated nodes is optimized gradually. The evolution of vaccinated nodes during iterations demonstrates that the immunization tends to locate in both global hubs and local hubs. We analyze the epidemic prevalence by a heterogeneous mean-field method and present numerical simulations of our model. This immunization performs superiorly to some other previously known strategies. Our work points out a new direction in immunization of seasonal epidemics.\", \n",
    "```\n",
    "\n",
    "```\n",
    "  \"1407.0774\": \"The spread of disease on complex networks has attracted widely attention in the physics community. Recent works have demonstrated that heterogeneous degree and weight distributions have a significant influence on the epidemic dynamics. In this study, a novel edge-weight based compartmental approach is developed to estimate the epidemic threshold and epidemic size (final infected density) on networks with general degree and weight distributions, and a remarkable agreement with numerics is obtained. Even in complex network with the strong heterogeneous degree and weight distributions, this approach is worked. We then propose an edge-weight based removal strategy with different biases, and find that such a strategy can effectively control the spread of epidemic when the highly weighted edges are preferentially removed, especially when the weight distribution of a network is extremely heterogenous. The theoretical results from the suggested method can accurately predict the above removal effectiveness.\", \n",
    "```\n",
    "\n",
    "To build topic models, we require the following components:\n",
    "- A vocabulary of tokens that appear across all documents.\n",
    "- A mapping of those tokens to a unique integer identifier, because topic model algorithms treat words by these identifiers, and not the strings themselves. For example, we represent `'epidemic'` as `word2id['epidemic'] = 50`\n",
    "- The corpus, where each document in the corpus is a collection of tokens, where each token is represented by the identifier and the number of times it appears in the document. For example, in the first document above the token `'epidemic'`, which appears twice, is represented as `(50, 2)`"
   ]
  },
  {
   "cell_type": "markdown",
   "metadata": {},
   "source": [
    "First, we will build a vocabulary representing the tokens that have appeared across all the abstracts we have. When doing this, we typically want to (1) remove rare words, (2) remove stop words and (3) stem/lemmatize words (which we will not do).\n",
    "\n",
    "To do this, we can use the `Counter` class. The `Counter` is an extension of the Python dictionary, and also has key-value pairs. For the `Counter`, keys are the objects to be counted, while values are their counts."
   ]
  },
  {
   "cell_type": "code",
   "execution_count": 9,
   "metadata": {},
   "outputs": [
    {
     "name": "stdout",
     "output_type": "stream",
     "text": [
      "Number of unique tokens: 75673\n"
     ]
    }
   ],
   "source": [
    "vocab = Counter()\n",
    "for abstract in abstracts_tok:\n",
    "    vocab.update(abstract)\n",
    "\n",
    "print(\"Number of unique tokens: %d\" % len(vocab))"
   ]
  },
  {
   "cell_type": "markdown",
   "metadata": {},
   "source": [
    "Removing rare words helps prevent our vocabulary from being too large. Many tokens appear only a few times across all the abstracts. Keeping them in the vocabulary increases subsequent computation time. Furthermore, their presence tends not to carry much significance for a document, since they can be considered as anomalies.\n",
    "\n",
    "We remove rare words by only keeping tokens that appear more than 25 times across all abstracts"
   ]
  },
  {
   "cell_type": "code",
   "execution_count": 10,
   "metadata": {},
   "outputs": [
    {
     "name": "stdout",
     "output_type": "stream",
     "text": [
      "Number of unique tokens: 10480\n"
     ]
    }
   ],
   "source": [
    "vocab = Counter(token for token in vocab.elements() if vocab[token] > 25)\n",
    "\n",
    "# tokens = []\n",
    "# for token in vocab.elements():\n",
    "#     if vocab[token] > 25:\n",
    "#         tokens.append(token)\n",
    "# vocab = Counter(tokens)\n",
    "\n",
    "print(\"Number of unique tokens: %d\" % len(vocab))"
   ]
  },
  {
   "cell_type": "markdown",
   "metadata": {},
   "source": [
    "Stop words are defined as very common words such as `'the'` and `'a'`. Removing stop words is important because their presence also does not carry much significance, since they appear in all kinds of texts.\n",
    "\n",
    "We will remove stop words by removing the 200 most common tokens across all abstracts"
   ]
  },
  {
   "cell_type": "code",
   "execution_count": 11,
   "metadata": {},
   "outputs": [
    {
     "name": "stdout",
     "output_type": "stream",
     "text": [
      "Number of unique tokens: 10280\n"
     ]
    }
   ],
   "source": [
    "stop_words = [item[0] for item in vocab.most_common(200)]\n",
    "vocab = Counter(token for token in vocab.elements() if token not in stop_words)\n",
    "\n",
    "# stop_words = []\n",
    "# for item in vocab.most_common(200):\n",
    "#     stop_word = item[0]\n",
    "#     stop_words.append(stop_word)\n",
    "# tokens = []\n",
    "# for token in vocab.elements():\n",
    "#     if token not in stop_words:\n",
    "#         tokens.append(token)\n",
    "# vocab = Counter(tokens)\n",
    "\n",
    "print(\"Number of unique tokens: %d\" % len(vocab))"
   ]
  },
  {
   "cell_type": "markdown",
   "metadata": {},
   "source": [
    "Now we create a mapping for tokens to unique identifiers. "
   ]
  },
  {
   "cell_type": "code",
   "execution_count": 12,
   "metadata": {},
   "outputs": [
    {
     "name": "stdout",
     "output_type": "stream",
     "text": [
      "Number of tokens mapped: 10280\n",
      "Identifier for 'epidemic': 15\n",
      "Word for identifier 15: epidemic\n"
     ]
    }
   ],
   "source": [
    "id2word = {idx: pair[0] for idx, pair in enumerate(vocab.items())}\n",
    "word2id = {pair[0]: idx for idx, pair in enumerate(vocab.items())}\n",
    "\n",
    "# items = vocab.items()\n",
    "# id2word = {}\n",
    "# word2id = {}\n",
    "# idx = 0\n",
    "# for word, count in vocab.items():\n",
    "#     id2word[idx] = word\n",
    "#     word2id[word] = idx\n",
    "#     idx += 1\n",
    "    \n",
    "print(\"Number of tokens mapped: %d\" % len(id2word))\n",
    "print(\"Identifier for 'epidemic': %d\" % word2id['epidemic'])\n",
    "print(\"Word for identifier %d: %s\" % (word2id['epidemic'], id2word[word2id['epidemic']]))"
   ]
  },
  {
   "cell_type": "markdown",
   "metadata": {},
   "source": [
    "Now, we will remove, for each abstract, the tokens that are not found in our vocabulary."
   ]
  },
  {
   "cell_type": "code",
   "execution_count": 13,
   "metadata": {},
   "outputs": [],
   "source": [
    "abstracts_tok = [[token for token in abstract if token in vocab] for abstract in abstracts_tok]\n",
    "\n",
    "# temp = []\n",
    "# for abstract in abstracts_tok:\n",
    "#     filtered = []\n",
    "#     for token in abstract:\n",
    "#         if token in vocab:\n",
    "#             filtered.append(token)\n",
    "#     temp.append(filtered)\n",
    "# abstracts_tok = temp"
   ]
  },
  {
   "cell_type": "markdown",
   "metadata": {},
   "source": [
    "Let's create the corpus. Recall that for the tokens in an abstract:\n",
    "\n",
    "```\n",
    "['statistical', 'inconsistency', 'binomial', 'likelihood', 'count', 'identified.', 'issue', 'occurs', 'when', 'response,', 'zero', 'statistically', 'inconsistent', 'erroneous', 'parameter', 'inferences', 'being', 'drawn', 'data.', 'binomial', 'likelihood', 'address', 'issue', 'resulting', 'fully', 'symmetric', 'binomial', 'likelihood', 'zero', 'counts.', 'present', 'simple', 'regression', 'example', 'ecological', 'literature', 'details', 'practical', 'application', 'likelihood', 'model.']\n",
    "```\n",
    "the corpus has the format\n",
    "```\n",
    "[(1396, 1), (1397, 1), (1398, 3), (1399, 4), (1400, 1), (1401, 1), (1402, 2), (1403, 1), (591, 1), (672, 1), (34, 2), (1404, 2), (1405, 1), (1406, 1), (1407, 1), (444, 1), (1408, 1), (1409, 1), (1410, 1), (1187, 1), (610, 1), (1411, 1), (857, 1), (1412, 1), (41, 1), (554, 1), (1413, 1), (1414, 1), (1415, 1), (1416, 1), (1205, 1), (91, 1), (945, 1)]\n",
    "```\n",
    "\n",
    "where each element is a pair containing the identifier for the token and the count of that token in just that abstract."
   ]
  },
  {
   "cell_type": "code",
   "execution_count": 14,
   "metadata": {},
   "outputs": [
    {
     "name": "stdout",
     "output_type": "stream",
     "text": [
      "Abstract, tokenized:\n",
      " ['statistical', 'inconsistency', 'zero', 'inflated', 'binomial', 'likelihood', 'count', 'identified', 'issue', 'occurs', 'response', 'zero', 'n', 'inflated', 'statistically', 'inconsistent', 'erroneous', 'inferences', 'being', 'drawn', 'zero', 'modified', 'binomial', 'likelihood', 'address', 'issue', 'n', 'inflation', 'resulting', 'fully', 'symmetric', 'binomial', 'likelihood', 'zero', 'n', 'inflated', 'counts', 'regression', 'example', 'ecological', 'literature', 'details', 'practical', 'application', 'likelihood'] \n",
      "\n",
      "Abstract, in corpus format:\n",
      " [(1204, 1), (1205, 1), (1206, 4), (1207, 3), (1208, 3), (1209, 4), (1210, 1), (1211, 1), (1212, 2), (1213, 1), (555, 1), (1131, 3), (1214, 1), (1215, 1), (1216, 1), (1217, 1), (1218, 1), (1219, 1), (464, 1), (1017, 1), (1220, 1), (505, 1), (1221, 1), (722, 1), (1222, 1), (1223, 1), (1224, 1), (1225, 1), (1226, 1), (1034, 1), (68, 1), (797, 1)]\n"
     ]
    }
   ],
   "source": [
    "corpus = []\n",
    "for abstract in abstracts_tok:\n",
    "    abstract_count = Counter(abstract)\n",
    "    corpus.append([(word2id[item[0]], item[1]) for item in abstract_count.items()])\n",
    "\n",
    "# corpus = []\n",
    "# for abstract in abstracts_tok:\n",
    "#     abstract_count = Counter(abstract)\n",
    "#     corpus_doc = []\n",
    "#     for item in abstract_count.items():\n",
    "#         pair = (word2id[item[0]], item[1])\n",
    "#         corpus_doc.append(pair)\n",
    "#     corpus.append(corpus_doc)\n",
    "\n",
    "print(\"Abstract, tokenized:\\n\", abstracts_tok[sample], \"\\n\")\n",
    "print(\"Abstract, in corpus format:\\n\", corpus[sample])"
   ]
  },
  {
   "cell_type": "markdown",
   "metadata": {},
   "source": [
    "Now, we are ready to create our topic model!\n",
    "\n",
    "We will use gensim, a Python library to create topic models. We will use the algorithm called latent dirichlet allocation implemented in the gensim library. \n",
    "\n",
    "**This step takes some time (about 4 min)**"
   ]
  },
  {
   "cell_type": "code",
   "execution_count": 15,
   "metadata": {},
   "outputs": [
    {
     "name": "stdout",
     "output_type": "stream",
     "text": [
      "CPU times: user 3min 30s, sys: 7.7 s, total: 3min 37s\n",
      "Wall time: 3min 25s\n"
     ]
    }
   ],
   "source": [
    "%%time\n",
    "lda_model = gensim.models.ldamodel.LdaModel(corpus=corpus,\n",
    "                                            id2word=id2word,\n",
    "                                            num_topics=10, \n",
    "                                            random_state=100,\n",
    "                                            update_every=1,\n",
    "                                            chunksize=100,\n",
    "                                            passes=10,\n",
    "                                            alpha='auto',\n",
    "                                            per_word_topics=True)"
   ]
  },
  {
   "cell_type": "markdown",
   "metadata": {},
   "source": [
    "After building the topic model, we want to view the 10 topics. The topics are represented as a combination of keywords with corresponding weight on the keyword. Note that the order of these topics can change between different training runs of the topic model, since there is no ordering between topics and gensim returns them in an arbitrary order."
   ]
  },
  {
   "cell_type": "code",
   "execution_count": 16,
   "metadata": {},
   "outputs": [
    {
     "data": {
      "text/html": [
       "<table border=\"1\" class=\"dataframe\">\n",
       "    <thead>\n",
       "        <tr>\n",
       "            <th>word rank</th> <th>topic 0</th> <th>topic 1</th> <th>topic 2</th> <th>topic 3</th> <th>topic 4</th> <th>topic 5</th> <th>topic 6</th> <th>topic 7</th> <th>topic 8</th> <th>topic 9</th>\n",
       "        </tr>\n",
       "    </thead>\n",
       "    <tbody>\n",
       "        <tr>\n",
       "            <td>1        </td> <td>bound     </td> <td>boundary     </td> <td>spectral    </td> <td>classical</td> <td>light      </td> <td>flow          </td> <td>multiple     </td> <td>interaction </td> <td>algorithms    </td> <td>deep        </td>\n",
       "        </tr>\n",
       "        <tr>\n",
       "            <td>2        </td> <td>matter    </td> <td>approximation</td> <td>spectrum    </td> <td>cluster  </td> <td>frequency  </td> <td>points        </td> <td>noise        </td> <td>interactions</td> <td>neural        </td> <td>ray         </td>\n",
       "        </tr>\n",
       "        <tr>\n",
       "            <td>3        </td> <td>dark      </td> <td>graphs       </td> <td>region      </td> <td>out      </td> <td>topological</td> <td>groups        </td> <td>existing     </td> <td>critical    </td> <td>image         </td> <td>observations</td>\n",
       "        </tr>\n",
       "        <tr>\n",
       "            <td>4        </td> <td>lower     </td> <td>nonlinear    </td> <td>measurements</td> <td>stable   </td> <td>induced    </td> <td>dimension     </td> <td>techniques   </td> <td>particle    </td> <td>applications  </td> <td>x           </td>\n",
       "        </tr>\n",
       "        <tr>\n",
       "            <td>5        </td> <td>task      </td> <td>existence    </td> <td>line        </td> <td>those    </td> <td>scalar     </td> <td>spaces        </td> <td>multi        </td> <td>symmetry    </td> <td>control       </td> <td>star        </td>\n",
       "        </tr>\n",
       "        <tr>\n",
       "            <td>6        </td> <td>radio     </td> <td>convergence  </td> <td>velocity    </td> <td>similar  </td> <td>gravity    </td> <td>symmetric     </td> <td>scheme       </td> <td>lattice     </td> <td>classification</td> <td>galaxies    </td>\n",
       "        </tr>\n",
       "        <tr>\n",
       "            <td>7        </td> <td>upper     </td> <td>operator     </td> <td>resolution  </td> <td>so       </td> <td>optical    </td> <td>algebra       </td> <td>communication</td> <td>electron    </td> <td>novel         </td> <td>emission    </td>\n",
       "        </tr>\n",
       "        <tr>\n",
       "            <td>8        </td> <td>decay     </td> <td>derive       </td> <td>family      </td> <td>fields   </td> <td>modes      </td> <td>theorem       </td> <td>available    </td> <td>scattering  </td> <td>training      </td> <td>sample      </td>\n",
       "        </tr>\n",
       "        <tr>\n",
       "            <td>9        </td> <td>generation</td> <td>second       </td> <td>ratio       </td> <td>black    </td> <td>physics    </td> <td>metric        </td> <td>action       </td> <td>dependent   </td> <td>optimization  </td> <td>gas         </td>\n",
       "        </tr>\n",
       "        <tr>\n",
       "            <td>10       </td> <td>core      </td> <td>positive     </td> <td>stability   </td> <td>initial  </td> <td>measurement</td> <td>representation</td> <td>compared     </td> <td>particles   </td> <td>accuracy      </td> <td>formation   </td>\n",
       "        </tr>\n",
       "        <tr>\n",
       "            <td>11       </td> <td>flux      </td> <td>value        </td> <td>background  </td> <td>long     </td> <td>description</td> <td>condition     </td> <td>distributed  </td> <td>coupled     </td> <td>features      </td> <td>stars       </td>\n",
       "        </tr>\n",
       "        <tr>\n",
       "            <td>12       </td> <td>change    </td> <td>probability  </td> <td>cross       </td> <td>motion   </td> <td>mode       </td> <td>complex       </td> <td>code         </td> <td>ground      </td> <td>art           </td> <td>galaxy      </td>\n",
       "        </tr>\n",
       "        <tr>\n",
       "            <td>13       </td> <td>memory    </td> <td>measure      </td> <td>were        </td> <td>dynamical</td> <td>photon     </td> <td>arbitrary     </td> <td>channel      </td> <td>charge      </td> <td>stochastic    </td> <td>sources     </td>\n",
       "        </tr>\n",
       "        <tr>\n",
       "            <td>14       </td> <td>game      </td> <td>discrete     </td> <td>near        </td> <td>i        </td> <td>vector     </td> <td>invariant     </td> <td>nodes        </td> <td>momentum    </td> <td>images        </td> <td>stellar     </td>\n",
       "        </tr>\n",
       "        <tr>\n",
       "            <td>15       </td> <td>strength  </td> <td>operators    </td> <td>prediction  </td> <td>every    </td> <td>define     </td> <td>defined       </td> <td>achieve      </td> <td>regime      </td> <td>design        </td> <td>massive     </td>\n",
       "        </tr>\n",
       "    </tbody>\n",
       "</table>"
      ],
      "text/plain": [
       "<IPython.core.display.HTML object>"
      ]
     },
     "metadata": {},
     "output_type": "display_data"
    }
   ],
   "source": [
    "num_topics = 10\n",
    "num_words = 15\n",
    "top_words = Table().with_column('word rank', np.arange(1,num_words+1))\n",
    "for k in np.arange(num_topics): \n",
    "    topic = lda_model.get_topic_terms(k, num_words)\n",
    "    words = [id2word[topic[i][0]] for i in np.arange(num_words)]\n",
    "    probs = [topic[i][1] for i in np.arange(num_words)]\n",
    "    top_words = top_words.with_column('topic %d' % k, words)\n",
    "    \n",
    "top_words.show()"
   ]
  },
  {
   "cell_type": "markdown",
   "metadata": {},
   "source": [
    "We can compute the probability distribution for a given abstract in the `corpus`. This represents how likely it is for the abstract to belong to each topic."
   ]
  },
  {
   "cell_type": "code",
   "execution_count": 17,
   "metadata": {},
   "outputs": [
    {
     "data": {
      "text/plain": [
       "[(0, 0.058510438),\n",
       " (1, 0.07150704),\n",
       " (2, 0.019132024),\n",
       " (3, 0.046507403),\n",
       " (4, 0.021020714),\n",
       " (6, 0.011875558),\n",
       " (7, 0.07668403),\n",
       " (8, 0.061220784),\n",
       " (9, 0.6250375)]"
      ]
     },
     "execution_count": 17,
     "metadata": {},
     "output_type": "execute_result"
    }
   ],
   "source": [
    "sample = 10\n",
    "lda_model.get_document_topics(corpus[sample])"
   ]
  },
  {
   "cell_type": "markdown",
   "metadata": {},
   "source": [
    "Let's represent this as a table."
   ]
  },
  {
   "cell_type": "code",
   "execution_count": 18,
   "metadata": {},
   "outputs": [
    {
     "data": {
      "text/html": [
       "<table border=\"1\" class=\"dataframe\">\n",
       "    <thead>\n",
       "        <tr>\n",
       "            <th>Topic</th> <th>Probabilities</th>\n",
       "        </tr>\n",
       "    </thead>\n",
       "    <tbody>\n",
       "        <tr>\n",
       "            <td>0    </td> <td>0.0585105    </td>\n",
       "        </tr>\n",
       "        <tr>\n",
       "            <td>1    </td> <td>0.0715064    </td>\n",
       "        </tr>\n",
       "        <tr>\n",
       "            <td>2    </td> <td>0.0191403    </td>\n",
       "        </tr>\n",
       "        <tr>\n",
       "            <td>3    </td> <td>0.0465094    </td>\n",
       "        </tr>\n",
       "        <tr>\n",
       "            <td>4    </td> <td>0.0210206    </td>\n",
       "        </tr>\n",
       "        <tr>\n",
       "            <td>6    </td> <td>0.0118605    </td>\n",
       "        </tr>\n",
       "        <tr>\n",
       "            <td>7    </td> <td>0.0766863    </td>\n",
       "        </tr>\n",
       "        <tr>\n",
       "            <td>8    </td> <td>0.0612212    </td>\n",
       "        </tr>\n",
       "        <tr>\n",
       "            <td>9    </td> <td>0.62504      </td>\n",
       "        </tr>\n",
       "    </tbody>\n",
       "</table>"
      ],
      "text/plain": [
       "<IPython.core.display.HTML object>"
      ]
     },
     "metadata": {},
     "output_type": "display_data"
    },
    {
     "name": "stdout",
     "output_type": "stream",
     "text": [
      "Topic with highest probability: 8 (0.625040)\n"
     ]
    }
   ],
   "source": [
    "topic_dist = lda_model.get_document_topics(corpus[sample])\n",
    "topics = [pair[0] for pair in topic_dist]\n",
    "probabilities = [pair[1] for pair in topic_dist]\n",
    "topic_dist_table = Table().with_columns('Topic', topics, 'Probabilities', probabilities)\n",
    "topic_dist_table.show(20)\n",
    "t = np.argmax(probabilities)\n",
    "print(\"Topic with highest probability: %d (%f)\" % (t, probabilities[t]))"
   ]
  },
  {
   "cell_type": "markdown",
   "metadata": {},
   "source": [
    "And now as a histogram."
   ]
  },
  {
   "cell_type": "code",
   "execution_count": 19,
   "metadata": {},
   "outputs": [
    {
     "data": {
      "image/png": "[encoded data removed]",
      "text/plain": [
       "<Figure size 792x288 with 1 Axes>"
      ]
     },
     "metadata": {
      "needs_background": "light"
     },
     "output_type": "display_data"
    }
   ],
   "source": [
    "import matplotlib.pyplot as plt\n",
    "%matplotlib inline\n",
    "\n",
    "fig = plt.figure()\n",
    "fig.set_size_inches(11,4)\n",
    "plt.bar(topic_dist_table.column('Topic'), topic_dist_table.column('Probabilities'), align='center', alpha=1, color='salmon')\n",
    "plt.xlabel('topic')\n",
    "plt.ylabel('probability')\n",
    "plt.title('Per Topic Probability Distribution')\n",
    "plt.show()"
   ]
  },
  {
   "cell_type": "markdown",
   "metadata": {},
   "source": [
    "So it seems the document\n",
    "\n",
    "```\n",
    "  \"1407.0034\": \"We use cosmological simulations to assess how the explosion of the first stars in supernovae (SNe) influences early cosmic history. Specifically, we investigate the impact by SNe on the host systems for Population~III (Pop~III) star formation and explore its dependence on halo environment and Pop~III progenitor mass. We then trace the evolution of the enriched gas until conditions are met to trigger second-generation star formation. To this extent, we quantify the recovery timescale, which measures the time delay between a Pop~III SN explosion and the appearance of cold, dense gas, out of which second-generation stars can form. We find that this timescale is highly sensitive to the Pop~III progenitor mass, and less so to the halo environment. For Pop~III progenitor masses, $M_{\\\\ast}=15{{\\\\,M_\\\\odot}}$, $25{{\\\\,M_\\\\odot}}$, and $40{{\\\\,M_\\\\odot}}$ in a halo of $5\\\\times10^5{{\\\\,M_\\\\odot}}$, recovery times are $\\\\sim10$\\\\,Myr, $25$\\\\,Myr, and $90$\\\\,Myr, respectively. For more massive progenitors, including those exploding in pair instability SNe, second-generation star formation is delayed significantly, for up to a Hubble time. The dependence of the recovery time on the mass of the SN progenitor is mainly due to the ionizing impact of the progenitor star. Photoionization heating increases the gas pressure and initiates a hydrodynamical response that reduces the central gas density, an effect that is stronger in more massive. The gas around lower mass Pop~III stars remains denser and hence the SN remnants cool more rapidly, facilitating the subsequent re-condensation of the gas and formation of a second generation of stars. In most cases, the second-generation stars are already metal-enriched to $\\\\sim2-5\\\\times10^{-4}{{\\\\rm \\\\,Z_\\\\odot}}$, thus belonging to Population~II. The recovery timescale is a key quantity governing the nature of the first galaxies, able to host low-mass, long-lived stellar systems. These in turn are the target of future deep-field campaigns with the {\\\\it James Webb Space Telescope}.\", \n",
    "```\n",
    "\n",
    "has the greatest likelihood to fall under the topic number with topic relating to cosmology, which matches our intuition."
   ]
  },
  {
   "cell_type": "markdown",
   "metadata": {},
   "source": [
    "## Topics for Abstracts\n",
    "\n",
    "*Your turn!* Your task is broken down into three parts\n",
    "\n",
    "#### 1. Label Topics\n",
    "Label all the 10 topics with your interpretation of what the topics are. This may not come naturally since we are dealing with scientific articles, but do your best! Incorporate the labels by changing the names of the columns in the `top_words` table above. Also form a new table `labels` with 2 columns, where the column names are `topic_num` and `topic_label`\n",
    "\n",
    "#### 2. Table of Topics for Abstracts\n",
    "Create a function `create_topic_table(data, abstracts, corpus, lda_model)` which does the following:\n",
    "- Goes through every abstract in the word-index form `corpus`, finding the most likely topic for that abstract\n",
    "- Creates a table `topic_table` that has the following columns\n",
    "    - `arxiv id`: the arXiv document number of each abstract\n",
    "    - `topic`: the topic number of the most likely topic for each abstract\n",
    "    - `label`: the topic label of that topic number, which you assigned in part 1\n",
    "    - `prob`: the probability of that topic number for each abstract\n",
    "    - `abstract`: a string containing the first 200 characters of the abstract\n",
    "- Show the first 10 rows of the table, then return the table\n",
    "\n",
    "You can refer to the function skeleton below."
   ]
  },
  {
   "cell_type": "code",
   "execution_count": 20,
   "metadata": {},
   "outputs": [
    {
     "data": {
      "text/html": [
       "<table border=\"1\" class=\"dataframe\">\n",
       "    <thead>\n",
       "        <tr>\n",
       "            <th>word rank</th> <th>Energy Physics</th> <th>Boundary Value Problem</th> <th>Optics</th> <th>Dynamics</th> <th>Photonics</th> <th>Abstract Algebra</th> <th>Engineering</th> <th>Kinetics</th> <th>Machine Learning</th> <th>Astronomy</th>\n",
       "        </tr>\n",
       "    </thead>\n",
       "    <tbody>\n",
       "        <tr>\n",
       "            <td>1        </td> <td>bound         </td> <td>boundary              </td> <td>spectral    </td> <td>classical</td> <td>light      </td> <td>flow            </td> <td>multiple     </td> <td>interaction </td> <td>algorithms      </td> <td>deep        </td>\n",
       "        </tr>\n",
       "        <tr>\n",
       "            <td>2        </td> <td>matter        </td> <td>approximation         </td> <td>spectrum    </td> <td>cluster  </td> <td>frequency  </td> <td>points          </td> <td>noise        </td> <td>interactions</td> <td>neural          </td> <td>ray         </td>\n",
       "        </tr>\n",
       "        <tr>\n",
       "            <td>3        </td> <td>dark          </td> <td>graphs                </td> <td>region      </td> <td>out      </td> <td>topological</td> <td>groups          </td> <td>existing     </td> <td>critical    </td> <td>image           </td> <td>observations</td>\n",
       "        </tr>\n",
       "        <tr>\n",
       "            <td>4        </td> <td>lower         </td> <td>nonlinear             </td> <td>measurements</td> <td>stable   </td> <td>induced    </td> <td>dimension       </td> <td>techniques   </td> <td>particle    </td> <td>applications    </td> <td>x           </td>\n",
       "        </tr>\n",
       "        <tr>\n",
       "            <td>5        </td> <td>task          </td> <td>existence             </td> <td>line        </td> <td>those    </td> <td>scalar     </td> <td>spaces          </td> <td>multi        </td> <td>symmetry    </td> <td>control         </td> <td>star        </td>\n",
       "        </tr>\n",
       "        <tr>\n",
       "            <td>6        </td> <td>radio         </td> <td>convergence           </td> <td>velocity    </td> <td>similar  </td> <td>gravity    </td> <td>symmetric       </td> <td>scheme       </td> <td>lattice     </td> <td>classification  </td> <td>galaxies    </td>\n",
       "        </tr>\n",
       "        <tr>\n",
       "            <td>7        </td> <td>upper         </td> <td>operator              </td> <td>resolution  </td> <td>so       </td> <td>optical    </td> <td>algebra         </td> <td>communication</td> <td>electron    </td> <td>novel           </td> <td>emission    </td>\n",
       "        </tr>\n",
       "        <tr>\n",
       "            <td>8        </td> <td>decay         </td> <td>derive                </td> <td>family      </td> <td>fields   </td> <td>modes      </td> <td>theorem         </td> <td>available    </td> <td>scattering  </td> <td>training        </td> <td>sample      </td>\n",
       "        </tr>\n",
       "        <tr>\n",
       "            <td>9        </td> <td>generation    </td> <td>second                </td> <td>ratio       </td> <td>black    </td> <td>physics    </td> <td>metric          </td> <td>action       </td> <td>dependent   </td> <td>optimization    </td> <td>gas         </td>\n",
       "        </tr>\n",
       "        <tr>\n",
       "            <td>10       </td> <td>core          </td> <td>positive              </td> <td>stability   </td> <td>initial  </td> <td>measurement</td> <td>representation  </td> <td>compared     </td> <td>particles   </td> <td>accuracy        </td> <td>formation   </td>\n",
       "        </tr>\n",
       "    </tbody>\n",
       "</table>\n",
       "<p>... (5 rows omitted)</p>"
      ],
      "text/plain": [
       "word rank | Energy Physics | Boundary Value Problem | Optics       | Dynamics  | Photonics   | Abstract Algebra | Engineering   | Kinetics     | Machine Learning | Astronomy\n",
       "1         | bound          | boundary               | spectral     | classical | light       | flow             | multiple      | interaction  | algorithms       | deep\n",
       "2         | matter         | approximation          | spectrum     | cluster   | frequency   | points           | noise         | interactions | neural           | ray\n",
       "3         | dark           | graphs                 | region       | out       | topological | groups           | existing      | critical     | image            | observations\n",
       "4         | lower          | nonlinear              | measurements | stable    | induced     | dimension        | techniques    | particle     | applications     | x\n",
       "5         | task           | existence              | line         | those     | scalar      | spaces           | multi         | symmetry     | control          | star\n",
       "6         | radio          | convergence            | velocity     | similar   | gravity     | symmetric        | scheme        | lattice      | classification   | galaxies\n",
       "7         | upper          | operator               | resolution   | so        | optical     | algebra          | communication | electron     | novel            | emission\n",
       "8         | decay          | derive                 | family       | fields    | modes       | theorem          | available     | scattering   | training         | sample\n",
       "9         | generation     | second                 | ratio        | black     | physics     | metric           | action        | dependent    | optimization     | gas\n",
       "10        | core           | positive               | stability    | initial   | measurement | representation   | compared      | particles    | accuracy         | formation\n",
       "... (5 rows omitted)"
      ]
     },
     "execution_count": 20,
     "metadata": {},
     "output_type": "execute_result"
    }
   ],
   "source": [
    "#top_words.show()\n",
    "top_words.relabel('topic 0','Energy Physics')\n",
    "top_words.relabel('topic 1','Boundary Value Problem')\n",
    "top_words.relabel('topic 2','Optics')\n",
    "top_words.relabel('topic 3','Dynamics')\n",
    "top_words.relabel('topic 4','Photonics')\n",
    "top_words.relabel('topic 5','Abstract Algebra')\n",
    "top_words.relabel('topic 6','Engineering')\n",
    "top_words.relabel('topic 7','Kinetics')\n",
    "top_words.relabel('topic 8','Machine Learning')\n",
    "top_words.relabel('topic 9','Astronomy')"
   ]
  },
  {
   "cell_type": "code",
   "execution_count": 21,
   "metadata": {},
   "outputs": [
    {
     "data": {
      "text/html": [
       "<table border=\"1\" class=\"dataframe\">\n",
       "    <thead>\n",
       "        <tr>\n",
       "            <th>topic label</th> <th>topic num</th>\n",
       "        </tr>\n",
       "    </thead>\n",
       "    <tbody>\n",
       "        <tr>\n",
       "            <td>Energy Physics        </td> <td>1        </td>\n",
       "        </tr>\n",
       "        <tr>\n",
       "            <td>Boundary Value Problem</td> <td>2        </td>\n",
       "        </tr>\n",
       "        <tr>\n",
       "            <td>Optics                </td> <td>3        </td>\n",
       "        </tr>\n",
       "        <tr>\n",
       "            <td>Dynamics              </td> <td>4        </td>\n",
       "        </tr>\n",
       "        <tr>\n",
       "            <td>Photonics             </td> <td>5        </td>\n",
       "        </tr>\n",
       "        <tr>\n",
       "            <td>Abstract Algebra      </td> <td>6        </td>\n",
       "        </tr>\n",
       "        <tr>\n",
       "            <td>Engineering           </td> <td>7        </td>\n",
       "        </tr>\n",
       "        <tr>\n",
       "            <td>Kinetics              </td> <td>8        </td>\n",
       "        </tr>\n",
       "        <tr>\n",
       "            <td>Machine Learning      </td> <td>9        </td>\n",
       "        </tr>\n",
       "        <tr>\n",
       "            <td>Astronomy             </td> <td>10       </td>\n",
       "        </tr>\n",
       "    </tbody>\n",
       "</table>"
      ],
      "text/plain": [
       "topic label            | topic num\n",
       "Energy Physics         | 1\n",
       "Boundary Value Problem | 2\n",
       "Optics                 | 3\n",
       "Dynamics               | 4\n",
       "Photonics              | 5\n",
       "Abstract Algebra       | 6\n",
       "Engineering            | 7\n",
       "Kinetics               | 8\n",
       "Machine Learning       | 9\n",
       "Astronomy              | 10"
      ]
     },
     "execution_count": 21,
     "metadata": {},
     "output_type": "execute_result"
    }
   ],
   "source": [
    "label = ['Energy Physics','Boundary Value Problem','Optics','Dynamics','Photonics','Abstract Algebra','Engineering','Kinetics','Machine Learning','Astronomy']\n",
    "num = list(range(1,11))\n",
    "dt = Table().with_column('topic label', label)\n",
    "dt.with_column('topic num',num)"
   ]
  },
  {
   "cell_type": "code",
   "execution_count": 24,
   "metadata": {
    "scrolled": true
   },
   "outputs": [
    {
     "data": {
      "text/html": [
       "<table border=\"1\" class=\"dataframe\">\n",
       "    <thead>\n",
       "        <tr>\n",
       "            <th>arxiv id</th> <th>abstract</th> <th>topic</th> <th>label</th> <th>probability</th>\n",
       "        </tr>\n",
       "    </thead>\n",
       "    <tbody>\n",
       "        <tr>\n",
       "            <td>1407.0001</td> <td>The topic of finding effective strategy to halt virus in ...</td> <td>8    </td> <td>Machine Learning</td> <td>0.323207   </td>\n",
       "        </tr>\n",
       "        <tr>\n",
       "            <td>1407.0004</td> <td>Linear precoding exploits the spatial degrees of freedom ...</td> <td>5    </td> <td>Abstract Algebra</td> <td>0.499424   </td>\n",
       "        </tr>\n",
       "        <tr>\n",
       "            <td>1407.0016</td> <td>We present completed observations of the NGC 7448 galaxy ...</td> <td>8    </td> <td>Machine Learning</td> <td>0.444529   </td>\n",
       "        </tr>\n",
       "        <tr>\n",
       "            <td>1407.0017</td> <td>Increasingly stringent limits from LHC searches for new  ...</td> <td>0    </td> <td>Energy Physics  </td> <td>0.224428   </td>\n",
       "        </tr>\n",
       "        <tr>\n",
       "            <td>1407.0023</td> <td>Results are presented for an initial survey of the Norma ...</td> <td>7    </td> <td>Kinetics        </td> <td>0.397316   </td>\n",
       "        </tr>\n",
       "        <tr>\n",
       "            <td>1407.0026</td> <td>Current time domain wide field sky surveys generally ope ...</td> <td>7    </td> <td>Kinetics        </td> <td>0.522318   </td>\n",
       "        </tr>\n",
       "        <tr>\n",
       "            <td>1407.0029</td> <td>Spinless fermions on a honeycomb lattice provide a minim ...</td> <td>6    </td> <td>Engineering     </td> <td>0.61491    </td>\n",
       "        </tr>\n",
       "        <tr>\n",
       "            <td>1407.0030</td> <td> 3pt  The strong CP violating parameter is small today a ...</td> <td>4    </td> <td>Photonics       </td> <td>0.588786   </td>\n",
       "        </tr>\n",
       "        <tr>\n",
       "            <td>1407.0031</td> <td>Cross correlating the Planck High Frequency Instrument H ...</td> <td>9    </td> <td>Astronomy       </td> <td>0.40898    </td>\n",
       "        </tr>\n",
       "        <tr>\n",
       "            <td>1407.0033</td> <td>We study low energy effective field theories for non Fer ...</td> <td>7    </td> <td>Kinetics        </td> <td>0.272531   </td>\n",
       "        </tr>\n",
       "        <tr>\n",
       "            <td>1407.0034</td> <td>We use cosmological simulations to assess how the explos ...</td> <td>8    </td> <td>Machine Learning</td> <td>0.62504    </td>\n",
       "        </tr>\n",
       "        <tr>\n",
       "            <td>1407.0035</td> <td>This paper describes the advantages and challenges of ap ...</td> <td>6    </td> <td>Engineering     </td> <td>0.305041   </td>\n",
       "        </tr>\n",
       "        <tr>\n",
       "            <td>1407.0036</td> <td>Slow parameter drift is common in many systems eg the am ...</td> <td>6    </td> <td>Engineering     </td> <td>0.265752   </td>\n",
       "        </tr>\n",
       "        <tr>\n",
       "            <td>1407.0037</td> <td> Actively shought since the turn of the century two dime ...</td> <td>6    </td> <td>Engineering     </td> <td>0.581976   </td>\n",
       "        </tr>\n",
       "        <tr>\n",
       "            <td>1407.0038</td> <td>We continue our exploration of the nearly Peccei Quinn s ...</td> <td>0    </td> <td>Energy Physics  </td> <td>0.417254   </td>\n",
       "        </tr>\n",
       "        <tr>\n",
       "            <td>1407.0039</td> <td>The following  document accompanies the papers GZGRS ava ...</td> <td>9    </td> <td>Astronomy       </td> <td>0.40593    </td>\n",
       "        </tr>\n",
       "        <tr>\n",
       "            <td>1407.0040</td> <td>The contact interaction is often used in modeling ultrac ...</td> <td>6    </td> <td>Engineering     </td> <td>0.294946   </td>\n",
       "        </tr>\n",
       "        <tr>\n",
       "            <td>1407.0041</td> <td>The paper describes an explicit variational modification ...</td> <td>7    </td> <td>Kinetics        </td> <td>0.347405   </td>\n",
       "        </tr>\n",
       "        <tr>\n",
       "            <td>1407.0042</td> <td>Where the doped holes reside in cuprate superconductors  ...</td> <td>2    </td> <td>Optics          </td> <td>0.466394   </td>\n",
       "        </tr>\n",
       "        <tr>\n",
       "            <td>1407.0043</td> <td>A subgraph in an  edge colored graph is  multicolored if ...</td> <td>8    </td> <td>Machine Learning</td> <td>0.710595   </td>\n",
       "        </tr>\n",
       "    </tbody>\n",
       "</table>\n",
       "<p>... (49980 rows omitted)</p>"
      ],
      "text/plain": [
       "<IPython.core.display.HTML object>"
      ]
     },
     "metadata": {},
     "output_type": "display_data"
    }
   ],
   "source": [
    "def create_topic_table(data, abstracts, corpus, lda_model):\n",
    "    \n",
    "    # retrieve the arXiv ids by iterating over data.items()\n",
    "    arxiv_id = [item[0] for item in data.items()]\n",
    "    \n",
    "    # initialize some arrays\n",
    "    probs = []\n",
    "    topic = []\n",
    "    label = []\n",
    "    short_abstract = []\n",
    "    \n",
    "    # retrieve the topic numbers, labels and probabilities\n",
    "    \n",
    "    # for each abstract in the corpus, \n",
    "    for sample in np.arange(len(corpus)):\n",
    "         # - find the topic distribution for the abstract\n",
    "        topic_dist = lda_model.get_document_topics(corpus[sample])\n",
    "        short_abstract.append(abstracts[sample][0:200])\n",
    "         # - get the topic number with highest probability,\n",
    "        topics = [pair[0] for pair in topic_dist]\n",
    "        probabilities = [pair[1] for pair in topic_dist]\n",
    "        t = np.argmax(probabilities)\n",
    "        topic.append(t)\n",
    "        probs.append(probabilities[t])\n",
    "        \n",
    "        # - get the label for that topic\n",
    "        label.append(dt.row(t)[0])\n",
    "\n",
    "\n",
    "        # Now find the most probable topic by calling \n",
    "        # topic_dist = lda_model.get_document_topics(corpus[sample])\n",
    "        # Try using np.argmax\n",
    "\n",
    "    # create table with\n",
    "    # - column of arXiv ids\n",
    "    # - column of topic numbers\n",
    "    # - column of topic labels\n",
    "    # - columnn of topic probabilities of that topic\n",
    "    # - column of text for the abstract\n",
    "    table = Table().with_columns('arxiv id', arxiv_id, 'abstract', short_abstract, 'topic', topic, 'label', label, 'probability', probs)\n",
    "    # You'll need to add the topic, label, and probability for each abstract\n",
    "    # table = table.with_columns('topic', topic, 'prob', probs, 'label', label)\n",
    "    return table\n",
    "\n",
    "topic_table = create_topic_table(data, abstracts, corpus, lda_model)\n",
    "topic_table.show(20)"
   ]
  },
  {
   "cell_type": "code",
   "execution_count": 25,
   "metadata": {},
   "outputs": [
    {
     "data": {
      "text/html": [
       "<table border=\"1\" class=\"dataframe\">\n",
       "    <thead>\n",
       "        <tr>\n",
       "            <th>arxiv id</th> <th>abstract</th> <th>topic</th> <th>label</th> <th>probability</th>\n",
       "        </tr>\n",
       "    </thead>\n",
       "    <tbody>\n",
       "        <tr>\n",
       "            <td>1407.0001</td> <td>The topic of finding effective strategy to halt virus in ...</td> <td>8    </td> <td>Machine Learning</td> <td>0.323207   </td>\n",
       "        </tr>\n",
       "        <tr>\n",
       "            <td>1407.0004</td> <td>Linear precoding exploits the spatial degrees of freedom ...</td> <td>5    </td> <td>Abstract Algebra</td> <td>0.499424   </td>\n",
       "        </tr>\n",
       "        <tr>\n",
       "            <td>1407.0016</td> <td>We present completed observations of the NGC 7448 galaxy ...</td> <td>8    </td> <td>Machine Learning</td> <td>0.444529   </td>\n",
       "        </tr>\n",
       "        <tr>\n",
       "            <td>1407.0017</td> <td>Increasingly stringent limits from LHC searches for new  ...</td> <td>0    </td> <td>Energy Physics  </td> <td>0.224428   </td>\n",
       "        </tr>\n",
       "        <tr>\n",
       "            <td>1407.0023</td> <td>Results are presented for an initial survey of the Norma ...</td> <td>7    </td> <td>Kinetics        </td> <td>0.397316   </td>\n",
       "        </tr>\n",
       "        <tr>\n",
       "            <td>1407.0026</td> <td>Current time domain wide field sky surveys generally ope ...</td> <td>7    </td> <td>Kinetics        </td> <td>0.522318   </td>\n",
       "        </tr>\n",
       "        <tr>\n",
       "            <td>1407.0029</td> <td>Spinless fermions on a honeycomb lattice provide a minim ...</td> <td>6    </td> <td>Engineering     </td> <td>0.61491    </td>\n",
       "        </tr>\n",
       "        <tr>\n",
       "            <td>1407.0030</td> <td> 3pt  The strong CP violating parameter is small today a ...</td> <td>4    </td> <td>Photonics       </td> <td>0.588786   </td>\n",
       "        </tr>\n",
       "        <tr>\n",
       "            <td>1407.0031</td> <td>Cross correlating the Planck High Frequency Instrument H ...</td> <td>9    </td> <td>Astronomy       </td> <td>0.40898    </td>\n",
       "        </tr>\n",
       "        <tr>\n",
       "            <td>1407.0033</td> <td>We study low energy effective field theories for non Fer ...</td> <td>7    </td> <td>Kinetics        </td> <td>0.272531   </td>\n",
       "        </tr>\n",
       "    </tbody>\n",
       "</table>\n",
       "<p>... (49990 rows omitted)</p>"
      ],
      "text/plain": [
       "<IPython.core.display.HTML object>"
      ]
     },
     "metadata": {},
     "output_type": "display_data"
    }
   ],
   "source": [
    "# show first 10 rows of the table \n",
    "# return the table\n",
    "topic_table.show(10)"
   ]
  },
  {
   "cell_type": "markdown",
   "metadata": {},
   "source": [
    "#### 3. Discussion\n",
    "Discuss the results. Choose two or three articles and describe how the most probable topic does or does not seem to accurately represent the main theme of the paper. Include your comments in a Markdown cell, with code cells added as needed to pull out particular rows of your table. Note that you can see the original scientific article a given `<arxiv id>` by visiting the web site `http://arxiv.org/abs/<arxiv id>`.  For example, [http://arxiv.org/abs/1407.0001](http://arxiv.org/abs/1407.0001) shows the first paper in the table.\n",
    "\n",
    "Submit your lab in html and ipynb forms, as usual."
   ]
  },
  {
   "cell_type": "markdown",
   "metadata": {},
   "source": [
    "I chose arXiv 1407.0017 as my first paper. This is a paper that is related to dark matter in the early universe. It is related to the top words in topic 0, which was labeled energy physics. With two of the top words being matter, and dark, this predicted topic seems very appropriate.\n",
    "\n",
    "\n",
    "For the second paper, I chose arXiv 1407.0026. The paper is related to a gigapixel-scale telescope. This topic does not seem to be related to topic 8 and seems like it should be labeled topic 9 which has been labeled as astronomy. The only word in the abstract that appears in the top words for topic 8, machine learning, is image and variations. This predicted topic is unexpected.\n",
    "\n",
    "\n",
    "Finally, I examine arXiv 1407.0044 which is related to hidden semi-Markov models. This was labeled as topic 8, which is expected as machine learning is included as a subject in this paper. Interestingly enough, none of the words from the top 10 top words for topic 8 appeared in the abstract for this paper. Furthermore, the model only had 26.7% confidence that this was the correct label. Compared to 1407.0026 which had a confidence score of 77.1%, 1407.0044 seems to be mislabeled. However, having knowledge of the machine learning space and the top words being related to machine learning, I would say this is correctly labeled."
   ]
  },
  {
   "cell_type": "code",
   "execution_count": null,
   "metadata": {},
   "outputs": [],
   "source": []
  }
 ],
 "metadata": {
  "kernelspec": {
   "display_name": "Python 3",
   "language": "python",
   "name": "python3"
  },
  "language_info": {
   "codemirror_mode": {
    "name": "ipython",
    "version": 3
   },
   "file_extension": ".py",
   "mimetype": "text/x-python",
   "name": "python",
   "nbconvert_exporter": "python",
   "pygments_lexer": "ipython3",
   "version": "3.6.7"
  }
 },
 "nbformat": 4,
 "nbformat_minor": 2
}
