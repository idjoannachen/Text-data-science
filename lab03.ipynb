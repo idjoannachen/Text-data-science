{
 "cells": [
  {
   "cell_type": "markdown",
   "metadata": {},
   "source": [
    "## Lab 03: Project Gutenberg Books (2/2)\n",
    "\n",
    "In this lab we will continue working with books from the [Project Gutenberg](https://www.gutenberg.org/) collection.  We'll begin by discussing regular expressions, and then use these beautiful little gadgets to try to automatically find the main characters in a book. We'll apply this to the books from last week, and then try it on some new books.\n",
    "\n",
    "<br>\n",
    "\n"
   ]
  },
  {
   "cell_type": "code",
   "execution_count": 3,
   "metadata": {},
   "outputs": [],
   "source": [
    "from datascience import *\n",
    "import numpy as np\n",
    "import re\n",
    "\n",
    "# direct plots to appear within the cell, and set their style\n",
    "%matplotlib inline\n",
    "import matplotlib.pyplot as plots\n",
    "plots.style.use('fivethirtyeight')\n"
   ]
  },
  {
   "cell_type": "markdown",
   "metadata": {},
   "source": [
    "Regular expressions are a mainstay of working with text. They can be used to *quickly* find matches of expressions in strings, but with `wildcard' characters so that we don't need to know exactly what we're searching for. In a technical sense, a regular expression takes a pattern and automatically builds a special-purpose little program that is used to search text to match that pattern. We won't discuss the details of how these work&mdash;this is done in most beginning theoretical computer science courses&mdash;but we'll get some practice using them in Python.\n"
   ]
  },
  {
   "cell_type": "markdown",
   "metadata": {},
   "source": [
    "Here is a table of some of the primary syntax used for regular expressions in Python. The syntax is similar, but usually a little bit different, across different programming languages.\n",
    "\n",
    "| Expression| Description |\n",
    "| --- | --- | \n",
    "| `^` | Matches the expression to its right at the start of a string |\n",
    "| `$` | Matches the expression to its left at the end of a string |\n",
    "| `.` | Matches any character except line terminators like `\\n` |\n",
    "| `+` | Greedily matches the expression to its left 1 or more times |\n",
    "| `*` | Greedily matches the expression to its left 0 or more times |\n",
    "| `?` | Greedily matches the expression to its left 0 or 1 times |\n",
    "| `\\w` | Matches alphanumeric characters |\n",
    "| `\\d` | Matches digits 0-9 |\n",
    "| `\\D` | Matches any non-digits |\n",
    "| `\\s` | Matches whitespace characters |\n",
    "| `\\S` | Matches non-whitespace characters |\n",
    "| `[ ]` | Contains a set of characters to match \n",
    "| `[amk]` | Matches either a, m, or k. It does not match amk|\n",
    "| `[a-z]` | Matches any letter from a to z|\n",
    "| `[a-z0-9]` | Matches characters from a to z and also from 0 to 9 |\n",
    "| `[^ab5]` | Matches characters that are not a, b, or 5|\n"
   ]
  },
  {
   "cell_type": "markdown",
   "metadata": {},
   "source": [
    "So, the expression `\\w+` matches any alphanumeric string of length at least one character, excluding whitespace. Here is an example of a regular expression that tokenizes a string into words."
   ]
  },
  {
   "cell_type": "code",
   "execution_count": 4,
   "metadata": {},
   "outputs": [
    {
     "name": "stdout",
     "output_type": "stream",
     "text": [
      "['this', 'is', 'a', 'test']\n",
      "['this', 'is', 'a', 'test']\n"
     ]
    }
   ],
   "source": [
    "result = re.findall('\\w+', 'this is a test')\n",
    "print(result)\n",
    "\n",
    "# you can also `compile' the expression into a piece of code\n",
    "\n",
    "pattern = re.compile('\\w+')\n",
    "result = pattern.findall('this is a test')\n",
    "print(result)"
   ]
  },
  {
   "cell_type": "markdown",
   "metadata": {},
   "source": [
    "If we want to match only the first word of the string, we prefix by the `^` character, which means beginning-of-string."
   ]
  },
  {
   "cell_type": "code",
   "execution_count": 5,
   "metadata": {},
   "outputs": [
    {
     "name": "stdout",
     "output_type": "stream",
     "text": [
      "['this']\n"
     ]
    }
   ],
   "source": [
    "result = re.findall('^\\w+', 'this is a test')\n",
    "print(result)\n"
   ]
  },
  {
   "cell_type": "markdown",
   "metadata": {},
   "source": [
    "We can also use the `re.split` function to divide up a word by anything matching a regular expression.\n"
   ]
  },
  {
   "cell_type": "code",
   "execution_count": 6,
   "metadata": {},
   "outputs": [
    {
     "data": {
      "text/plain": [
       "['this', 'is', 'a', 'test']"
      ]
     },
     "execution_count": 6,
     "metadata": {},
     "output_type": "execute_result"
    }
   ],
   "source": [
    "re.split('\\s+', 'this is      a test')"
   ]
  },
  {
   "cell_type": "markdown",
   "metadata": {},
   "source": [
    "Note the difference if we only match a single space, changing the expression to `\\s`\n"
   ]
  },
  {
   "cell_type": "code",
   "execution_count": 7,
   "metadata": {},
   "outputs": [
    {
     "data": {
      "text/plain": [
       "['this', 'is', '', '', '', '', '', 'a', 'test']"
      ]
     },
     "execution_count": 7,
     "metadata": {},
     "output_type": "execute_result"
    }
   ],
   "source": [
    "re.split('\\s', 'this is      a test')"
   ]
  },
  {
   "cell_type": "markdown",
   "metadata": {},
   "source": [
    "You can test regular expressions using the web site [regex101.com](http://regex101.com). You may also find this [regex cheat sheet](https://www.dataquest.io/blog/regex-cheatsheet/) handy.\n",
    "\n",
    "The three primary methods in `re` are `re.match`, `re.search`, and `re.findall`. The difference between them is that \n",
    "`re.match` searches the pattern from the start of the string, `re.search` finds the *first* occurrence, while `re.findall` looks for occurrences of the pattern *anywhere* in the string.  Let's explore these a bit.\n"
   ]
  },
  {
   "cell_type": "code",
   "execution_count": 8,
   "metadata": {},
   "outputs": [
    {
     "name": "stdout",
     "output_type": "stream",
     "text": [
      "re.findall: ['This', 'Mr', 'Smith', 'Jones']\n",
      "re.search: <_sre.SRE_Match object; span=(1, 5), match='This'>\n",
      "re.match: None\n"
     ]
    }
   ],
   "source": [
    "print(\"re.findall: %s\" % re.findall('[A-Z]\\w+', '\"This is a test,\" Mr. Smith said to Jones'))\n",
    "print(\"re.search: %s\" % re.search('[A-Z]\\w+', '\"This is a test,\" Mr. Smith said to Jones'))\n",
    "print(\"re.match: %s\" % re.match('[A-Z]\\w+', '\"This is a test,\" Mr. Smith said to Jones'))"
   ]
  },
  {
   "cell_type": "markdown",
   "metadata": {},
   "source": [
    "Since we will be focusing on finding all of the characters in a book, we'll focus on the use of `re.findall`, but the regular expressions that can be used in all of these are the same. Ok, so now let's try out one of these gadgets on Huckleberry Finn. Let's first load the book into a big string.\n",
    "\n"
   ]
  },
  {
   "cell_type": "code",
   "execution_count": 9,
   "metadata": {},
   "outputs": [],
   "source": [
    "from urllib.request import urlopen \n",
    "import re\n",
    "def read_url(url): \n",
    "    return re.sub('\\\\s+', ' ', urlopen(url).read().decode())"
   ]
  },
  {
   "cell_type": "markdown",
   "metadata": {},
   "source": [
    "Recall that the online book for \"Adventures of Huckleberry Finn,\" by Mark Twain, is [here](https://www.gutenberg.org/ebooks/76).\n",
    "From this web site you can see various metadata for the book as well as the [link the text itself](https://www.gutenberg.org/files/76/76-0.txt), which is [https://www.gutenberg.org/files/76/76-0.txt](https://www.gutenberg.org/files/76/76-0.txt)\n"
   ]
  },
  {
   "cell_type": "code",
   "execution_count": 10,
   "metadata": {},
   "outputs": [],
   "source": [
    "huck_finn_url = 'https://www.gutenberg.org/files/76/76-0.txt'\n",
    "huck_finn_text = read_url(huck_finn_url)\n"
   ]
  },
  {
   "cell_type": "markdown",
   "metadata": {},
   "source": [
    "The following function takes a book url, opens it to get a text string, and then finds all occurrences of \"said NAME\" using regular expressions. For each name that it finds, it re-searches the string to count all occurrences of that name. Finally a `datascience.Table` is constructed with those data, which is then sorted in decreasing order"
   ]
  },
  {
   "cell_type": "code",
   "execution_count": 18,
   "metadata": {},
   "outputs": [
    {
     "data": {
      "text/html": [
       "<table border=\"1\" class=\"dataframe\">\n",
       "    <thead>\n",
       "        <tr>\n",
       "            <th>Name</th> <th>Count</th>\n",
       "        </tr>\n",
       "    </thead>\n",
       "    <tbody>\n",
       "        <tr>\n",
       "            <td>Jim     </td> <td>255  </td>\n",
       "        </tr>\n",
       "        <tr>\n",
       "            <td>Tom     </td> <td>175  </td>\n",
       "        </tr>\n",
       "        <tr>\n",
       "            <td>Aunt    </td> <td>56   </td>\n",
       "        </tr>\n",
       "        <tr>\n",
       "            <td>Sherburn</td> <td>12   </td>\n",
       "        </tr>\n",
       "    </tbody>\n",
       "</table>"
      ],
      "text/plain": [
       "Name     | Count\n",
       "Jim      | 255\n",
       "Tom      | 175\n",
       "Aunt     | 56\n",
       "Sherburn | 12"
      ]
     },
     "execution_count": 18,
     "metadata": {},
     "output_type": "execute_result"
    }
   ],
   "source": [
    "\n",
    "def find_characters(book_url):\n",
    "    book_text = read_url(book_url)\n",
    "    names = {name for name in re.findall('said ([A-Z]\\w+)', book_text)}\n",
    "    counts = [len(re.findall(\"(%s)\\s\" % name, book_text)) for name in names]\n",
    "    characters = Table().with_columns('Name', names, 'Count', counts)\n",
    "    return characters.sort('Count', descending=True)\n",
    "\n",
    "url = \"https://www.gutenberg.org/files/76/76-0.txt\"\n",
    "characters = find_characters(url)\n",
    "characters"
   ]
  },
  {
   "cell_type": "markdown",
   "metadata": {},
   "source": [
    "Can we do better? Of course we can! In the following, we will explore regular expressions that use different types of phrases like \"said NAME\", include \"NAME said\", and also look for `honorific' expressions like Dr. Doolittle.\n"
   ]
  },
  {
   "cell_type": "code",
   "execution_count": 12,
   "metadata": {
    "scrolled": true
   },
   "outputs": [
    {
     "name": "stdout",
     "output_type": "stream",
     "text": [
      "{'Joan', 'John', 'Steve', 'Strangeglove', 'Piggy'}\n"
     ]
    }
   ],
   "source": [
    "dialogue = re.findall('(said|told) ([A-Z]\\w+)', '\"hi\" said John, \"yo!\" told Joan! said Steve')\n",
    "names1 = {name[1] for name in dialogue}\n",
    "\n",
    "dialogue = re.findall('([A-Z]\\w+)\\s(said)', '\"hi\" John said, \"yo!\" told Joan! said Steve')\n",
    "names2 = {name[0] for name in dialogue}\n",
    "\n",
    "titles = re.findall('(Mr\\.|Mrs\\.|Ms\\.|Dr\\.)\\s([A-Z]\\w+)', '\"Hello\" said Dr. Strangeglove to Ms. Piggy')\n",
    "names3 = {name[1] for name in titles}\n",
    "\n",
    "\n",
    "print(names1.union(names2).union(names3))"
   ]
  },
  {
   "cell_type": "markdown",
   "metadata": {},
   "source": [
    "Now, let's extend the function above to include this richer set of regular expressions\n"
   ]
  },
  {
   "cell_type": "code",
   "execution_count": 31,
   "metadata": {},
   "outputs": [
    {
     "data": {
      "text/html": [
       "<table border=\"1\" class=\"dataframe\">\n",
       "    <thead>\n",
       "        <tr>\n",
       "            <th>Name</th> <th>Count</th>\n",
       "        </tr>\n",
       "    </thead>\n",
       "    <tbody>\n",
       "        <tr>\n",
       "            <td>Jim      </td> <td>255  </td>\n",
       "        </tr>\n",
       "        <tr>\n",
       "            <td>Tom      </td> <td>175  </td>\n",
       "        </tr>\n",
       "        <tr>\n",
       "            <td>Aunt     </td> <td>56   </td>\n",
       "        </tr>\n",
       "        <tr>\n",
       "            <td>Jane     </td> <td>30   </td>\n",
       "        </tr>\n",
       "        <tr>\n",
       "            <td>Sawyer   </td> <td>30   </td>\n",
       "        </tr>\n",
       "        <tr>\n",
       "            <td>Uncle    </td> <td>28   </td>\n",
       "        </tr>\n",
       "        <tr>\n",
       "            <td>Buck     </td> <td>22   </td>\n",
       "        </tr>\n",
       "        <tr>\n",
       "            <td>Everybody</td> <td>19   </td>\n",
       "        </tr>\n",
       "        <tr>\n",
       "            <td>Peter    </td> <td>18   </td>\n",
       "        </tr>\n",
       "        <tr>\n",
       "            <td>Sherburn </td> <td>12   </td>\n",
       "        </tr>\n",
       "    </tbody>\n",
       "</table>\n",
       "<p>... (21 rows omitted)</p>"
      ],
      "text/plain": [
       "Name      | Count\n",
       "Jim       | 255\n",
       "Tom       | 175\n",
       "Aunt      | 56\n",
       "Jane      | 30\n",
       "Sawyer    | 30\n",
       "Uncle     | 28\n",
       "Buck      | 22\n",
       "Everybody | 19\n",
       "Peter     | 18\n",
       "Sherburn  | 12\n",
       "... (21 rows omitted)"
      ]
     },
     "execution_count": 31,
     "metadata": {},
     "output_type": "execute_result"
    }
   ],
   "source": [
    "def find_characters(book_url):\n",
    "    book_text = read_url(book_url)\n",
    "    names1 = {name[1] for name in re.findall('(said|told) ([A-Z]\\w+)', book_text)}\n",
    "    names2 = {name[0] for name in re.findall('([A-Z]\\w+)\\s(said)', book_text)}\n",
    "    names3 = {name[1] for name in re.findall('(Mr\\.|Mrs\\.|Ms\\.|Dr\\.)\\s([A-Z]\\w+)', book_text)}\n",
    "    \n",
    "    # names5 = {name[0] for name in re.findall('([A-Z]\\w+)\\s(says)', book_text)}\n",
    "    \n",
    "    names = names1.union(names2).union(names3)\n",
    "    #names.remove('He')\n",
    "    #names.remove('It')\n",
    "    #names.remove('You')\n",
    "    #names.remove('We')\n",
    "    #names.remove('They')\n",
    "    \n",
    "    counts = [len(re.findall(\"(%s)\\s\" % name, book_text)) for name in names]\n",
    "    characters = Table().with_columns('Name', names, 'Count', counts)\n",
    "    return characters.sort('Count', descending=True)\n",
    "\n",
    "url = \"https://www.gutenberg.org/files/76/76-0.txt\"\n",
    "characters = find_characters(url)\n",
    "characters"
   ]
  },
  {
   "cell_type": "markdown",
   "metadata": {},
   "source": [
    "## Your turn!\n",
    "\n",
    "Your task is to now take this starter code and package up the regular expressions into a function that you can use to find the characters in the same book(s) you chose for Lab 02. \n",
    "\n",
    "* First apply it to your Lab 02 book(s)\n",
    "\n",
    "* Then, apply it to some new books. \n",
    "\n",
    "* How well does it work? Describe the results and any false positives or negatives. If needed you can use Wikipedia or even [Sparknotes](https://www.sparknotes.com/) to determine the true cast of characters in the books.\n",
    "\n",
    "Next, extend the function and regular expressions in order to do a better job pulling out the names in the book. \n",
    "\n",
    "* Write a new function that changes the regular expressions with the goal of more accurately finding a book's characters. \n",
    "\n",
    "* What are some of the errors that were made? How did you attempt to fix these errors? \n",
    "\n",
    "* Give a description of your findings together with an informal analysis of how accurate your final method is.\n",
    "\n",
    "\n",
    "\n",
    "\n"
   ]
  },
  {
   "cell_type": "code",
   "execution_count": 20,
   "metadata": {},
   "outputs": [
    {
     "data": {
      "text/html": [
       "<table border=\"1\" class=\"dataframe\">\n",
       "    <thead>\n",
       "        <tr>\n",
       "            <th>Name</th> <th>Count</th>\n",
       "        </tr>\n",
       "    </thead>\n",
       "    <tbody>\n",
       "        <tr>\n",
       "            <td>Monte       </td> <td>1135 </td>\n",
       "        </tr>\n",
       "        <tr>\n",
       "            <td>Madame      </td> <td>548  </td>\n",
       "        </tr>\n",
       "        <tr>\n",
       "            <td>Villefort   </td> <td>456  </td>\n",
       "        </tr>\n",
       "        <tr>\n",
       "            <td>Danglars    </td> <td>386  </td>\n",
       "        </tr>\n",
       "        <tr>\n",
       "            <td>Dantès      </td> <td>378  </td>\n",
       "        </tr>\n",
       "        <tr>\n",
       "            <td>Albert      </td> <td>338  </td>\n",
       "        </tr>\n",
       "        <tr>\n",
       "            <td>Morrel      </td> <td>335  </td>\n",
       "        </tr>\n",
       "        <tr>\n",
       "            <td>Franz       </td> <td>318  </td>\n",
       "        </tr>\n",
       "        <tr>\n",
       "            <td>Valentine   </td> <td>263  </td>\n",
       "        </tr>\n",
       "        <tr>\n",
       "            <td>Mademoiselle</td> <td>194  </td>\n",
       "        </tr>\n",
       "    </tbody>\n",
       "</table>\n",
       "<p>... (52 rows omitted)</p>"
      ],
      "text/plain": [
       "Name         | Count\n",
       "Monte        | 1135\n",
       "Madame       | 548\n",
       "Villefort    | 456\n",
       "Danglars     | 386\n",
       "Dantès       | 378\n",
       "Albert       | 338\n",
       "Morrel       | 335\n",
       "Franz        | 318\n",
       "Valentine    | 263\n",
       "Mademoiselle | 194\n",
       "... (52 rows omitted)"
      ]
     },
     "execution_count": 20,
     "metadata": {},
     "output_type": "execute_result"
    }
   ],
   "source": [
    "# Lab 2 book - The Count of Monte Cristo, using given code\n",
    "def find_characters(book_url):\n",
    "    book_text = read_url(book_url)\n",
    "    names = {name for name in re.findall('said ([A-Z]\\w+)', book_text)}\n",
    "    counts = [len(re.findall(\"(%s)\\s\" % name, book_text)) for name in names]\n",
    "    characters = Table().with_columns('Name', names, 'Count', counts)\n",
    "    return characters.sort('Count', descending=True)\n",
    "\n",
    "url = \"https://www.gutenberg.org/files/1184/1184-0.txt\"\n",
    "characters = find_characters(url)\n",
    "characters"
   ]
  },
  {
   "cell_type": "code",
   "execution_count": 21,
   "metadata": {},
   "outputs": [
    {
     "data": {
      "text/html": [
       "<table border=\"1\" class=\"dataframe\">\n",
       "    <thead>\n",
       "        <tr>\n",
       "            <th>Name</th> <th>Count</th>\n",
       "        </tr>\n",
       "    </thead>\n",
       "    <tbody>\n",
       "        <tr>\n",
       "            <td>Scrooge </td> <td>164  </td>\n",
       "        </tr>\n",
       "        <tr>\n",
       "            <td>Bob     </td> <td>24   </td>\n",
       "        </tr>\n",
       "        <tr>\n",
       "            <td>Tiny    </td> <td>22   </td>\n",
       "        </tr>\n",
       "        <tr>\n",
       "            <td>Cratchit</td> <td>16   </td>\n",
       "        </tr>\n",
       "        <tr>\n",
       "            <td>Peter   </td> <td>10   </td>\n",
       "        </tr>\n",
       "        <tr>\n",
       "            <td>Fezziwig</td> <td>9    </td>\n",
       "        </tr>\n",
       "        <tr>\n",
       "            <td>Joe     </td> <td>2    </td>\n",
       "        </tr>\n",
       "        <tr>\n",
       "            <td>Yes     </td> <td>2    </td>\n",
       "        </tr>\n",
       "        <tr>\n",
       "            <td>Fred    </td> <td>0    </td>\n",
       "        </tr>\n",
       "        <tr>\n",
       "            <td>Mrs     </td> <td>0    </td>\n",
       "        </tr>\n",
       "    </tbody>\n",
       "</table>"
      ],
      "text/plain": [
       "Name     | Count\n",
       "Scrooge  | 164\n",
       "Bob      | 24\n",
       "Tiny     | 22\n",
       "Cratchit | 16\n",
       "Peter    | 10\n",
       "Fezziwig | 9\n",
       "Joe      | 2\n",
       "Yes      | 2\n",
       "Fred     | 0\n",
       "Mrs      | 0"
      ]
     },
     "execution_count": 21,
     "metadata": {},
     "output_type": "execute_result"
    }
   ],
   "source": [
    "#  Lab 2 book - A Christmas Carol, using given code\n",
    "christmas_carol_url = \"https://www.gutenberg.org/files/46/46-0.txt\"\n",
    "characters = find_characters(christmas_carol_url)\n",
    "characters"
   ]
  },
  {
   "cell_type": "code",
   "execution_count": 22,
   "metadata": {},
   "outputs": [
    {
     "data": {
      "text/html": [
       "<table border=\"1\" class=\"dataframe\">\n",
       "    <thead>\n",
       "        <tr>\n",
       "            <th>Name</th> <th>Count</th>\n",
       "        </tr>\n",
       "    </thead>\n",
       "    <tbody>\n",
       "        <tr>\n",
       "            <td>Miss   </td> <td>284  </td>\n",
       "        </tr>\n",
       "        <tr>\n",
       "            <td>Adele  </td> <td>80   </td>\n",
       "        </tr>\n",
       "        <tr>\n",
       "            <td>Bessie </td> <td>64   </td>\n",
       "        </tr>\n",
       "        <tr>\n",
       "            <td>Diana  </td> <td>50   </td>\n",
       "        </tr>\n",
       "        <tr>\n",
       "            <td>Hannah </td> <td>20   </td>\n",
       "        </tr>\n",
       "        <tr>\n",
       "            <td>Mason  </td> <td>19   </td>\n",
       "        </tr>\n",
       "        <tr>\n",
       "            <td>Colonel</td> <td>18   </td>\n",
       "        </tr>\n",
       "        <tr>\n",
       "            <td>Leah   </td> <td>18   </td>\n",
       "        </tr>\n",
       "        <tr>\n",
       "            <td>Eliza  </td> <td>17   </td>\n",
       "        </tr>\n",
       "        <tr>\n",
       "            <td>Lord   </td> <td>11   </td>\n",
       "        </tr>\n",
       "    </tbody>\n",
       "</table>\n",
       "<p>... (7 rows omitted)</p>"
      ],
      "text/plain": [
       "Name    | Count\n",
       "Miss    | 284\n",
       "Adele   | 80\n",
       "Bessie  | 64\n",
       "Diana   | 50\n",
       "Hannah  | 20\n",
       "Mason   | 19\n",
       "Colonel | 18\n",
       "Leah    | 18\n",
       "Eliza   | 17\n",
       "Lord    | 11\n",
       "... (7 rows omitted)"
      ]
     },
     "execution_count": 22,
     "metadata": {},
     "output_type": "execute_result"
    }
   ],
   "source": [
    "# Other book - Jane Eyre, using given code\n",
    "def find_characters(book_url):\n",
    "    book_text = read_url(book_url)\n",
    "    names = {name for name in re.findall('said ([A-Z]\\w+)', book_text)}\n",
    "    counts = [len(re.findall(\"(%s)\\s\" % name, book_text)) for name in names]\n",
    "    characters = Table().with_columns('Name', names, 'Count', counts)\n",
    "    return characters.sort('Count', descending=True)\n",
    "\n",
    "jane_eyre_url = \"http://www.gutenberg.org/cache/epub/1260/pg1260.txt\"\n",
    "characters = find_characters(jane_eyre_url)\n",
    "characters"
   ]
  },
  {
   "cell_type": "markdown",
   "metadata": {},
   "source": [
    "The result seems not have too many false negative, but false positive such that it seperates character's first name and last name is common. For example, it will tokenize \"Miss Mary Smith\" into three words.\n",
    "\n",
    "I put the revised function in Chunk 11, and will take the Count of Monte Cristo as an example to illustrate my approach of improving the revised function."
   ]
  },
  {
   "cell_type": "code",
   "execution_count": 51,
   "metadata": {},
   "outputs": [
    {
     "data": {
      "text/html": [
       "<table border=\"1\" class=\"dataframe\">\n",
       "    <thead>\n",
       "        <tr>\n",
       "            <th>Name</th> <th>Count</th>\n",
       "        </tr>\n",
       "    </thead>\n",
       "    <tbody>\n",
       "        <tr>\n",
       "            <td>Monte       </td> <td>1135 </td>\n",
       "        </tr>\n",
       "        <tr>\n",
       "            <td>Madame      </td> <td>548  </td>\n",
       "        </tr>\n",
       "        <tr>\n",
       "            <td>Villefort   </td> <td>456  </td>\n",
       "        </tr>\n",
       "        <tr>\n",
       "            <td>Danglars    </td> <td>386  </td>\n",
       "        </tr>\n",
       "        <tr>\n",
       "            <td>Dantès      </td> <td>378  </td>\n",
       "        </tr>\n",
       "        <tr>\n",
       "            <td>Albert      </td> <td>338  </td>\n",
       "        </tr>\n",
       "        <tr>\n",
       "            <td>Morrel      </td> <td>335  </td>\n",
       "        </tr>\n",
       "        <tr>\n",
       "            <td>Franz       </td> <td>318  </td>\n",
       "        </tr>\n",
       "        <tr>\n",
       "            <td>Valentine   </td> <td>263  </td>\n",
       "        </tr>\n",
       "        <tr>\n",
       "            <td>Mademoiselle</td> <td>194  </td>\n",
       "        </tr>\n",
       "    </tbody>\n",
       "</table>\n",
       "<p>... (52 rows omitted)</p>"
      ],
      "text/plain": [
       "Name         | Count\n",
       "Monte        | 1135\n",
       "Madame       | 548\n",
       "Villefort    | 456\n",
       "Danglars     | 386\n",
       "Dantès       | 378\n",
       "Albert       | 338\n",
       "Morrel       | 335\n",
       "Franz        | 318\n",
       "Valentine    | 263\n",
       "Mademoiselle | 194\n",
       "... (52 rows omitted)"
      ]
     },
     "execution_count": 51,
     "metadata": {},
     "output_type": "execute_result"
    }
   ],
   "source": [
    "# Using given function (I copied this chunk from above for comparison purpose)\n",
    "def find_characters(book_url):\n",
    "    book_text = read_url(book_url)\n",
    "    names = {name for name in re.findall('said ([A-Z]\\w+)', book_text)}\n",
    "    counts = [len(re.findall(\"(%s)\\s\" % name, book_text)) for name in names]\n",
    "    characters = Table().with_columns('Name', names, 'Count', counts)\n",
    "    return characters.sort('Count', descending=True)\n",
    "\n",
    "url = \"https://www.gutenberg.org/files/1184/1184-0.txt\"\n",
    "characters = find_characters(url)\n",
    "characters"
   ]
  },
  {
   "cell_type": "markdown",
   "metadata": {},
   "source": [
    "The first error that was made was that the names2 output contain personal nouns such as \"He\",\"She\", etc (It's not obvious here, but was obvious using the example book). Based on orginal function I wrote above, I added a few lines using remove() function to remove them.  \n",
    "\n",
    "However, there were still errors. The second error was that the first name and last name was count seperately. For example, \"Madame\",\"Danglars\" was treated as two characters and counted. We can also see that the first name we extracted is \"Monte\", however, \"Monte\" also stands for an island name in this book. I revised names1 and names2 to let it count the full name and it gives the following results."
   ]
  },
  {
   "cell_type": "code",
   "execution_count": 52,
   "metadata": {},
   "outputs": [
    {
     "data": {
      "text/html": [
       "<table border=\"1\" class=\"dataframe\">\n",
       "    <thead>\n",
       "        <tr>\n",
       "            <th>Name</th> <th>Count</th>\n",
       "        </tr>\n",
       "    </thead>\n",
       "    <tbody>\n",
       "        <tr>\n",
       "            <td>Monte Cristo         </td> <td>534  </td>\n",
       "        </tr>\n",
       "        <tr>\n",
       "            <td>Madame Danglars      </td> <td>89   </td>\n",
       "        </tr>\n",
       "        <tr>\n",
       "            <td>Mademoiselle Danglars</td> <td>31   </td>\n",
       "        </tr>\n",
       "        <tr>\n",
       "            <td>La Carconte          </td> <td>19   </td>\n",
       "        </tr>\n",
       "        <tr>\n",
       "            <td>Lord Wilmore         </td> <td>10   </td>\n",
       "        </tr>\n",
       "        <tr>\n",
       "            <td>Madame Morrel        </td> <td>9    </td>\n",
       "        </tr>\n",
       "        <tr>\n",
       "            <td>Procureur            </td> <td>3    </td>\n",
       "        </tr>\n",
       "        <tr>\n",
       "            <td>King Charles         </td> <td>2    </td>\n",
       "        </tr>\n",
       "        <tr>\n",
       "            <td>Gregory              </td> <td>2    </td>\n",
       "        </tr>\n",
       "        <tr>\n",
       "            <td>Guillotin            </td> <td>1    </td>\n",
       "        </tr>\n",
       "    </tbody>\n",
       "</table>\n",
       "<p>... (6 rows omitted)</p>"
      ],
      "text/plain": [
       "Name                  | Count\n",
       "Monte Cristo          | 534\n",
       "Madame Danglars       | 89\n",
       "Mademoiselle Danglars | 31\n",
       "La Carconte           | 19\n",
       "Lord Wilmore          | 10\n",
       "Madame Morrel         | 9\n",
       "Procureur             | 3\n",
       "King Charles          | 2\n",
       "Gregory               | 2\n",
       "Guillotin             | 1\n",
       "... (6 rows omitted)"
      ]
     },
     "execution_count": 52,
     "metadata": {},
     "output_type": "execute_result"
    }
   ],
   "source": [
    "def find_characters(book_url):\n",
    "    book_text = read_url(book_url)\n",
    "    names1 = {name[1] for name in re.findall('(said|told) ([A-Z]\\w+ [A-Z]\\w+)', book_text)}\n",
    "    names2 = {name[0] for name in re.findall('([A-Z]\\w+ ?[A-Z]\\w+)\\s(said)', book_text)}\n",
    "    names3 = {name[1] for name in re.findall('(Mr\\.|Mrs\\.|Ms\\.|Dr\\.)\\s([A-Z]\\w+)', book_text)}\n",
    "    names = names1.union(names2).union(names3)\n",
    "   # names.remove('He')\n",
    "   # names.remove('She')\n",
    "   # names.remove('You')\n",
    "   # names.remove('They')\n",
    "  \n",
    "    counts = [len(re.findall(\"(%s)\\s\" % name, book_text)) for name in names]\n",
    "    characters = Table().with_columns('Name', names, 'Count', counts)\n",
    "    return characters.sort('Count', descending=True)\n",
    "\n",
    "url = \"https://www.gutenberg.org/files/1184/1184-0.txt\"\n",
    "characters = find_characters(url)\n",
    "characters"
   ]
  },
  {
   "cell_type": "markdown",
   "metadata": {},
   "source": [
    "Although it seem look better, but it doesn't consider first name only cases. So we revised the names1, names2 again and get the following result."
   ]
  },
  {
   "cell_type": "code",
   "execution_count": 70,
   "metadata": {},
   "outputs": [
    {
     "data": {
      "text/html": [
       "<table border=\"1\" class=\"dataframe\">\n",
       "    <thead>\n",
       "        <tr>\n",
       "            <th>Name</th> <th>Count</th>\n",
       "        </tr>\n",
       "    </thead>\n",
       "    <tbody>\n",
       "        <tr>\n",
       "            <td>Monte       </td> <td>1135 </td>\n",
       "        </tr>\n",
       "        <tr>\n",
       "            <td>Monte Cristo</td> <td>534  </td>\n",
       "        </tr>\n",
       "        <tr>\n",
       "            <td>Villefort   </td> <td>456  </td>\n",
       "        </tr>\n",
       "        <tr>\n",
       "            <td>Danglars    </td> <td>386  </td>\n",
       "        </tr>\n",
       "        <tr>\n",
       "            <td>Dantès      </td> <td>378  </td>\n",
       "        </tr>\n",
       "        <tr>\n",
       "            <td>Albert      </td> <td>338  </td>\n",
       "        </tr>\n",
       "        <tr>\n",
       "            <td>Morrel      </td> <td>335  </td>\n",
       "        </tr>\n",
       "        <tr>\n",
       "            <td>Franz       </td> <td>318  </td>\n",
       "        </tr>\n",
       "        <tr>\n",
       "            <td>Valentine   </td> <td>263  </td>\n",
       "        </tr>\n",
       "        <tr>\n",
       "            <td>Andrea      </td> <td>167  </td>\n",
       "        </tr>\n",
       "    </tbody>\n",
       "</table>\n",
       "<p>... (223 rows omitted)</p>"
      ],
      "text/plain": [
       "Name         | Count\n",
       "Monte        | 1135\n",
       "Monte Cristo | 534\n",
       "Villefort    | 456\n",
       "Danglars     | 386\n",
       "Dantès       | 378\n",
       "Albert       | 338\n",
       "Morrel       | 335\n",
       "Franz        | 318\n",
       "Valentine    | 263\n",
       "Andrea       | 167\n",
       "... (223 rows omitted)"
      ]
     },
     "execution_count": 70,
     "metadata": {},
     "output_type": "execute_result"
    }
   ],
   "source": [
    "def find_characters(book_url):\n",
    "    book_text = read_url(book_url)\n",
    "    names1 = {name[1] for name in re.findall('(said|told) ([A-Z]\\w+ ?[A-Z]?\\w+ ?[A-Z]?\\w+)', book_text)}\n",
    "    names2 = {name[0] for name in re.findall('([A-Z]\\w+ ?[A-Z]?\\w+)\\s(said)', book_text)}\n",
    "    names3 = {name[1] for name in re.findall('(Mr\\.|Mrs\\.|Ms\\.|Dr\\.)\\s([A-Z]\\w+)', book_text)}\n",
    "    names = names1.union(names2).union(names3)\n",
    "    names.remove('It is')\n",
    "    names.remove('It was')\n",
    "    names.remove('She')\n",
    "    names.remove('You')\n",
    "    names.remove('They')\n",
    "  \n",
    "    counts = [len(re.findall(\"(%s)\\s\" % name, book_text)) for name in names]\n",
    "    characters = Table().with_columns('Name', names, 'Count', counts)\n",
    "    return characters.sort('Count', descending=True)\n",
    "\n",
    "url = \"https://www.gutenberg.org/files/1184/1184-0.txt\"\n",
    "characters = find_characters(url)\n",
    "characters"
   ]
  },
  {
   "cell_type": "markdown",
   "metadata": {},
   "source": [
    "Now it looks much better! \n",
    "\n",
    "In summary, we improved the original code by considering different cases of how first name and last name of characters would appear in the text, as well as removing the personal pronoun. There are some limitation of this method, because we only consider \"say\",\"said\" but not other verb to extract the subject. It needs further exploration and work.\n",
    "\n",
    "Informal analysis of how accurate my final method is:"
   ]
  },
  {
   "cell_type": "code",
   "execution_count": 73,
   "metadata": {},
   "outputs": [
    {
     "name": "stdout",
     "output_type": "stream",
     "text": [
      "1130\n"
     ]
    }
   ],
   "source": [
    "url = \"https://www.gutenberg.org/files/1184/1184-0.txt\"\n",
    "result = len(re.findall('Monte Cristo', read_url(url)))\n",
    "print(result)"
   ]
  },
  {
   "cell_type": "markdown",
   "metadata": {},
   "source": [
    "Monte Cristo has appeared 1130 times, but it's not only used in character names in the context but also an island name. Let's try other names - how many times they appear in the text. "
   ]
  },
  {
   "cell_type": "code",
   "execution_count": 74,
   "metadata": {},
   "outputs": [
    {
     "name": "stdout",
     "output_type": "stream",
     "text": [
      "1092\n"
     ]
    }
   ],
   "source": [
    "Villefort = len(re.findall('Villefort', read_url(url)))\n",
    "print(Villefort)"
   ]
  },
  {
   "cell_type": "code",
   "execution_count": 77,
   "metadata": {},
   "outputs": [
    {
     "name": "stdout",
     "output_type": "stream",
     "text": [
      "732\n"
     ]
    }
   ],
   "source": [
    "Dantes = len(re.findall('Dantès', read_url(url)))\n",
    "print(Dantes)"
   ]
  },
  {
   "cell_type": "code",
   "execution_count": 82,
   "metadata": {},
   "outputs": [
    {
     "data": {
      "text/plain": [
       "0.5274336283185841"
      ]
     },
     "execution_count": 82,
     "metadata": {},
     "output_type": "execute_result"
    }
   ],
   "source": [
    "(1130-534)/1130"
   ]
  },
  {
   "cell_type": "code",
   "execution_count": 83,
   "metadata": {},
   "outputs": [
    {
     "data": {
      "text/plain": [
       "0.5824175824175825"
      ]
     },
     "execution_count": 83,
     "metadata": {},
     "output_type": "execute_result"
    }
   ],
   "source": [
    "(1092-456)/1092"
   ]
  },
  {
   "cell_type": "code",
   "execution_count": 84,
   "metadata": {},
   "outputs": [
    {
     "data": {
      "text/plain": [
       "0.48360655737704916"
      ]
     },
     "execution_count": 84,
     "metadata": {},
     "output_type": "execute_result"
    }
   ],
   "source": [
    "(732-378)/732"
   ]
  },
  {
   "cell_type": "markdown",
   "metadata": {},
   "source": [
    "Our relative accuracy is about 50%. As I mentioned, for the most part, it caused by that we didn't consider other verbs othan \"say/said\". It needs further exploration and work and using more NLP techniques. "
   ]
  },
  {
   "cell_type": "code",
   "execution_count": null,
   "metadata": {},
   "outputs": [],
   "source": []
  }
 ],
 "metadata": {
  "anaconda-cloud": {},
  "celltoolbar": "Raw Cell Format",
  "kernelspec": {
   "display_name": "Python 3",
   "language": "python",
   "name": "python3"
  },
  "language_info": {
   "codemirror_mode": {
    "name": "ipython",
    "version": 3
   },
   "file_extension": ".py",
   "mimetype": "text/x-python",
   "name": "python",
   "nbconvert_exporter": "python",
   "pygments_lexer": "ipython3",
   "version": "3.6.7"
  }
 },
 "nbformat": 4,
 "nbformat_minor": 1
}
