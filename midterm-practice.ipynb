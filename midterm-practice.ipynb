{
 "cells": [
  {
   "cell_type": "markdown",
   "metadata": {},
   "source": [
    "## Text Data Science:  Midterm (practice)\n",
    "\n",
    "Please complete all of the questions. Save your notebook as html->pdf, as well as ipynb, and submit to the course Canvas site. You may use any materials to solve the problems, including past Labs and the Internet. Have fun!\n",
    "\n",
    "\n",
    "\n"
   ]
  },
  {
   "cell_type": "code",
   "execution_count": 1,
   "metadata": {},
   "outputs": [],
   "source": [
    "from datascience import *\n",
    "import numpy as np\n",
    "import re\n",
    "from collections import Counter\n",
    "\n",
    "\n",
    "# direct plots to appear within the cell, and set their style\n",
    "%matplotlib inline\n",
    "import matplotlib.pyplot as plots\n",
    "plots.style.use('fivethirtyeight')\n",
    "\n",
    "# turn off some pesky warnings\n",
    "import warnings\n",
    "warnings.simplefilter(action=\"ignore\", category=FutureWarning)\n"
   ]
  },
  {
   "cell_type": "markdown",
   "metadata": {},
   "source": [
    "## 1. Analyzing a Gutenberg book"
   ]
  },
  {
   "cell_type": "code",
   "execution_count": 2,
   "metadata": {},
   "outputs": [],
   "source": [
    "from urllib.request import urlopen \n",
    "import re\n",
    "def read_url(url): \n",
    "    return re.sub('\\\\s+', ' ', urlopen(url).read().decode())"
   ]
  },
  {
   "cell_type": "markdown",
   "metadata": {},
   "source": [
    "The online book for \"Peter Pan,\" by J. M. Barrie, is [here](https://www.gutenberg.org/ebooks/16).\n",
    "From this web site you can see various metadata for the book as well as the [link the text itself](https://www.gutenberg.org/files/16/16-0.txt), which is [https://www.gutenberg.org/files/16/16-0.txt](https://www.gutenberg.org/files/16/16-0.txt)\n"
   ]
  },
  {
   "cell_type": "code",
   "execution_count": 3,
   "metadata": {},
   "outputs": [],
   "source": [
    "peter_pan_url = 'http://www.gutenberg.org/files/16/16-0.txt'\n",
    "peter_pan_text = read_url(peter_pan_url)\n",
    "peter_pan_chapters = peter_pan_text.split('Chapter ')[18:]\n",
    "\n"
   ]
  },
  {
   "cell_type": "markdown",
   "metadata": {},
   "source": [
    "For each of the following questions, give a Python expression that evaluates to the correct answer -- do not \"hard code\" the answer with a number or constant expression like `42` or `\"Peter Pan\"`"
   ]
  },
  {
   "cell_type": "markdown",
   "metadata": {},
   "source": [
    "### 1.1  What is the length of the text, in characters?"
   ]
  },
  {
   "cell_type": "code",
   "execution_count": 4,
   "metadata": {},
   "outputs": [
    {
     "name": "stdout",
     "output_type": "stream",
     "text": [
      "275933\n"
     ]
    }
   ],
   "source": [
    "pp_len_chars = len(peter_pan_text)\n",
    "print(pp_len_chars)"
   ]
  },
  {
   "cell_type": "markdown",
   "metadata": {},
   "source": [
    "### 1.2 How many chapters are there in the book?"
   ]
  },
  {
   "cell_type": "code",
   "execution_count": 7,
   "metadata": {},
   "outputs": [
    {
     "name": "stdout",
     "output_type": "stream",
     "text": [
      "17\n",
      "['1', '2', '3', '4', '5', '6', '7', '8', '9', '10', '11', '12', '13', '14', '15', '16', '17', '1', '2', '3', '4', '5', '6', '7', '8', '9', '10', '11', '12', '13', '14', '15', '16', '17']\n",
      "17\n"
     ]
    }
   ],
   "source": [
    "pp_num_chapters = len(peter_pan_chapters)\n",
    "print(pp_num_chapters)\n",
    "\n",
    "nums = re.findall(\"Chapter (\\d+)\", peter_pan_text)\n",
    "print(nums)\n",
    "nums = [int(num) for num in nums]\n",
    "pp_num_chapters = max(nums)\n",
    "print(pp_num_chapters)"
   ]
  },
  {
   "cell_type": "markdown",
   "metadata": {},
   "source": [
    "### 1.3 Number of words function\n",
    "\n",
    "Write a function `num_words(str)` that takes an input string and returns the number of space-delimited tokens in the string. Hint: Try using the `split()` function.\n"
   ]
  },
  {
   "cell_type": "code",
   "execution_count": null,
   "metadata": {},
   "outputs": [],
   "source": [
    "def ex_function(var1, var2, var3):\n",
    "    return"
   ]
  },
  {
   "cell_type": "code",
   "execution_count": 13,
   "metadata": {},
   "outputs": [
    {
     "name": "stdout",
     "output_type": "stream",
     "text": [
      "2\n"
     ]
    }
   ],
   "source": [
    "def num_words(str):\n",
    "    return len(str.split(\" \"))\n",
    "\n",
    "\n",
    "print(num_words(\"test it\"))"
   ]
  },
  {
   "cell_type": "markdown",
   "metadata": {},
   "source": [
    "### 1.4 Lengths of the chapters\n",
    "\n",
    "Using your `num_words` function, create a table `pp_counts` that has a row for each chapter in \"Peter Pan\", and three columns: A  `chapter` column with the chapter number, a `characters` column with the number of characters in the chapter (as a long string), and the `words` column containing the number of space-delimited tokens."
   ]
  },
  {
   "cell_type": "code",
   "execution_count": null,
   "metadata": {},
   "outputs": [],
   "source": [
    "help(Table().with_columns)"
   ]
  },
  {
   "cell_type": "code",
   "execution_count": 15,
   "metadata": {},
   "outputs": [
    {
     "name": "stdout",
     "output_type": "stream",
     "text": [
      "[16403, 15807, 22325, 15383, 19537, 13567, 12870, 20784, 5829, 10749, 12761, 9086, 15434, 12533, 17256, 15697, 38446]\n",
      "[3055, 2954, 4145, 2879, 3599, 2490, 2414, 3921, 1069, 1966, 2319, 1650, 2877, 2317, 3161, 2983, 6733]\n"
     ]
    },
    {
     "data": {
      "text/html": [
       "<table border=\"1\" class=\"dataframe\">\n",
       "    <thead>\n",
       "        <tr>\n",
       "            <th>chapter</th> <th>characters</th> <th>words</th>\n",
       "        </tr>\n",
       "    </thead>\n",
       "    <tbody>\n",
       "        <tr>\n",
       "            <td>1      </td> <td>16403     </td> <td>3055 </td>\n",
       "        </tr>\n",
       "        <tr>\n",
       "            <td>2      </td> <td>15807     </td> <td>2954 </td>\n",
       "        </tr>\n",
       "        <tr>\n",
       "            <td>3      </td> <td>22325     </td> <td>4145 </td>\n",
       "        </tr>\n",
       "        <tr>\n",
       "            <td>4      </td> <td>15383     </td> <td>2879 </td>\n",
       "        </tr>\n",
       "        <tr>\n",
       "            <td>5      </td> <td>19537     </td> <td>3599 </td>\n",
       "        </tr>\n",
       "        <tr>\n",
       "            <td>6      </td> <td>13567     </td> <td>2490 </td>\n",
       "        </tr>\n",
       "        <tr>\n",
       "            <td>7      </td> <td>12870     </td> <td>2414 </td>\n",
       "        </tr>\n",
       "        <tr>\n",
       "            <td>8      </td> <td>20784     </td> <td>3921 </td>\n",
       "        </tr>\n",
       "        <tr>\n",
       "            <td>9      </td> <td>5829      </td> <td>1069 </td>\n",
       "        </tr>\n",
       "        <tr>\n",
       "            <td>10     </td> <td>10749     </td> <td>1966 </td>\n",
       "        </tr>\n",
       "    </tbody>\n",
       "</table>\n",
       "<p>... (7 rows omitted)</p>"
      ],
      "text/plain": [
       "chapter | characters | words\n",
       "1       | 16403      | 3055\n",
       "2       | 15807      | 2954\n",
       "3       | 22325      | 4145\n",
       "4       | 15383      | 2879\n",
       "5       | 19537      | 3599\n",
       "6       | 13567      | 2490\n",
       "7       | 12870      | 2414\n",
       "8       | 20784      | 3921\n",
       "9       | 5829       | 1069\n",
       "10      | 10749      | 1966\n",
       "... (7 rows omitted)"
      ]
     },
     "execution_count": 15,
     "metadata": {},
     "output_type": "execute_result"
    }
   ],
   "source": [
    "chapter_list = []\n",
    "character_list = []\n",
    "words_list = []\n",
    "\n",
    "# we'll need a loop to go through everything\n",
    "for i in range(len(peter_pan_chapters)):\n",
    "    chapter_list.append(i)\n",
    "    num_characters = len(peter_pan_chapters[i])\n",
    "    character_list.append(num_characters)\n",
    "    \n",
    "    num_toks = len(peter_pan_chapters[i].split(\" \"))\n",
    "    words_list.append(num_toks)\n",
    "    \n",
    "print(character_list)\n",
    "print(words_list)\n",
    "\n",
    "\n",
    "pp_counts = Table().with_columns('chapter',list(range(1,18)),'characters',character_list,'words',words_list)\n",
    "pp_counts\n"
   ]
  },
  {
   "cell_type": "markdown",
   "metadata": {},
   "source": [
    "### 1.5 Longest chapter\n",
    "\n",
    "What is the chapter with the most words? (Take the appropriate row from the table.)\n"
   ]
  },
  {
   "cell_type": "code",
   "execution_count": 17,
   "metadata": {},
   "outputs": [
    {
     "data": {
      "text/plain": [
       "17"
      ]
     },
     "execution_count": 17,
     "metadata": {},
     "output_type": "execute_result"
    }
   ],
   "source": [
    "pp_longest_chapter = pp_counts.sort('words',descending = True)['chapter'][0] \n",
    "pp_longest_chapter"
   ]
  },
  {
   "cell_type": "markdown",
   "metadata": {},
   "source": [
    "### 1.6 Plotting the chapter lengths\n",
    "\n",
    "Give a bar plot showing the number of words in each chapter\n"
   ]
  },
  {
   "cell_type": "code",
   "execution_count": 37,
   "metadata": {},
   "outputs": [
    {
     "data": {
      "image/png": "[encoded data removed]",
      "text/plain": [
       "<Figure size 432x288 with 1 Axes>"
      ]
     },
     "metadata": {},
     "output_type": "display_data"
    }
   ],
   "source": [
    "#help(bar())\n",
    "pp_counts.bar('chapter','words')"
   ]
  },
  {
   "cell_type": "markdown",
   "metadata": {},
   "source": [
    "## 2. Analyzing a TED Talk\n",
    "\n",
    "Now you will carry out some text processing on one of the TED talks\n"
   ]
  },
  {
   "cell_type": "code",
   "execution_count": 21,
   "metadata": {},
   "outputs": [
    {
     "data": {
      "text/html": [
       "<table border=\"1\" class=\"dataframe\">\n",
       "    <thead>\n",
       "        <tr>\n",
       "            <th>transcript</th> <th>url</th>\n",
       "        </tr>\n",
       "    </thead>\n",
       "    <tbody>\n",
       "        <tr>\n",
       "            <td>Good morning. How are you?(Laughter)It's been great, has ...</td> <td>https://www.ted.com/talks/ken_robinson_says_schools_kill ...</td>\n",
       "        </tr>\n",
       "        <tr>\n",
       "            <td>Thank you so much, Chris. And it's truly a great honor t ...</td> <td>https://www.ted.com/talks/al_gore_on_averting_climate_crisis</td>\n",
       "        </tr>\n",
       "        <tr>\n",
       "            <td>(Music: \"The Sound of Silence,\" Simon & Garfunkel)Hello  ...</td> <td>https://www.ted.com/talks/david_pogue_says_simplicity_sells </td>\n",
       "        </tr>\n",
       "        <tr>\n",
       "            <td>If you're here today — and I'm very happy that you are — ...</td> <td>https://www.ted.com/talks/majora_carter_s_tale_of_urban_ ...</td>\n",
       "        </tr>\n",
       "        <tr>\n",
       "            <td>About 10 years ago, I took on the task to teach global d ...</td> <td>https://www.ted.com/talks/hans_rosling_shows_the_best_st ...</td>\n",
       "        </tr>\n",
       "        <tr>\n",
       "            <td>Thank you. I have to tell you I'm both challenged and ex ...</td> <td>https://www.ted.com/talks/tony_robbins_asks_why_we_do_wh ...</td>\n",
       "        </tr>\n",
       "        <tr>\n",
       "            <td>On September 10, the morning of my seventh birthday, I c ...</td> <td>https://www.ted.com/talks/julia_sweeney_on_letting_go_of_god</td>\n",
       "        </tr>\n",
       "        <tr>\n",
       "            <td>I'm going to present three projects in rapid fire. I don ...</td> <td>https://www.ted.com/talks/joshua_prince_ramus_on_seattle ...</td>\n",
       "        </tr>\n",
       "        <tr>\n",
       "            <td>It's wonderful to be back. I love this wonderful gatheri ...</td> <td>https://www.ted.com/talks/dan_dennett_s_response_to_rick ...</td>\n",
       "        </tr>\n",
       "        <tr>\n",
       "            <td>I'm often asked, \"What surprised you about the book?\" An ...</td> <td>https://www.ted.com/talks/rick_warren_on_a_life_of_purpose  </td>\n",
       "        </tr>\n",
       "    </tbody>\n",
       "</table>\n",
       "<p>... (40 rows omitted)</p>"
      ],
      "text/plain": [
       "transcript                                                   | url\n",
       "Good morning. How are you?(Laughter)It's been great, has ... | https://www.ted.com/talks/ken_robinson_says_schools_kill ...\n",
       "Thank you so much, Chris. And it's truly a great honor t ... | https://www.ted.com/talks/al_gore_on_averting_climate_crisis\n",
       "(Music: \"The Sound of Silence,\" Simon & Garfunkel)Hello  ... | https://www.ted.com/talks/david_pogue_says_simplicity_sells\n",
       "If you're here today — and I'm very happy that you are — ... | https://www.ted.com/talks/majora_carter_s_tale_of_urban_ ...\n",
       "About 10 years ago, I took on the task to teach global d ... | https://www.ted.com/talks/hans_rosling_shows_the_best_st ...\n",
       "Thank you. I have to tell you I'm both challenged and ex ... | https://www.ted.com/talks/tony_robbins_asks_why_we_do_wh ...\n",
       "On September 10, the morning of my seventh birthday, I c ... | https://www.ted.com/talks/julia_sweeney_on_letting_go_of_god\n",
       "I'm going to present three projects in rapid fire. I don ... | https://www.ted.com/talks/joshua_prince_ramus_on_seattle ...\n",
       "It's wonderful to be back. I love this wonderful gatheri ... | https://www.ted.com/talks/dan_dennett_s_response_to_rick ...\n",
       "I'm often asked, \"What surprised you about the book?\" An ... | https://www.ted.com/talks/rick_warren_on_a_life_of_purpose\n",
       "... (40 rows omitted)"
      ]
     },
     "execution_count": 21,
     "metadata": {},
     "output_type": "execute_result"
    }
   ],
   "source": [
    "filename = \"ted_talks_50.csv\"\n",
    "data = Table.read_table(filename)\n",
    "data"
   ]
  },
  {
   "cell_type": "markdown",
   "metadata": {},
   "source": [
    "We'll work with talk number 42: Peter Donnelly on \"How Statistics Fools Juries\""
   ]
  },
  {
   "cell_type": "code",
   "execution_count": 22,
   "metadata": {},
   "outputs": [
    {
     "name": "stdout",
     "output_type": "stream",
     "text": [
      "https://www.ted.com/talks/peter_donnelly_shows_how_stats_fool_juries\n",
      "As other speakers have said, it's a rather daunting experience — a particularly daunting experience — to be speaking in front of this audience. But unlike the other speakers, I'm not going to tell you about the mysteries of the universe, or the wonders of evolution, or the really clever, innovative ways people are attacking the major inequalities in our world. Or even the challenges of nation-states in the modern global economy. My brief, as you've just heard, is to tell you about statistics — and, to be more precise, to tell you some exciting things about statistics. And that's — (Laughter) — that's rather more challenging than all the speakers before me and all the ones coming after me. (Laughter) One of my senior colleagues told me, when I was a youngster in this profession, rather proudly, that statisticians were people who liked figures but didn't have the personality skills to become accountants. (Laughter) And there's another in-joke among statisticians, and that's, \"How do you tell the introverted statistician from the extroverted statistician?\" To which the answer is, \"The extroverted statistician's the one who looks at the other person's shoes.\" (Laughter) But I want to tell you something useful — and here it is, so concentrate now. This evening, there's a reception in the University's Museum of Natural History. And it's a wonderful setting, as I hope you'll find, and a great icon to the best of the Victorian tradition. It's very unlikely — in this special setting, and this collection of people — but you might just find yourself talking to someone you'd rather wish that you weren't. So here's what you do. When they say to you, \"What do you do?\" — you say, \"I'm a statistician.\" (Laughter) Well, except they've been pre-warned now, and they'll know you're making it up. And then one of two things will happen. They'll either discover their long-lost cousin in the other corner of the room and run over and talk to them. Or they'll suddenly become parched and/or hungry — and often both — and sprint off for a drink and some food. And you'll be left in peace to talk to the person you really want to talk to.It's one of the challenges in our profession to try and explain what we do. We're not top on people's lists for dinner party guests and conversations and so on. And it's something I've never really found a good way of doing. But my wife — who was then my girlfriend — managed it much better than I've ever been able to. Many years ago, when we first started going out, she was working for the BBC in Britain, and I was, at that stage, working in America. I was coming back to visit her. She told this to one of her colleagues, who said, \"Well, what does your boyfriend do?\" Sarah thought quite hard about the things I'd explained — and she concentrated, in those days, on listening. (Laughter) Don't tell her I said that. And she was thinking about the work I did developing mathematical models for understanding evolution and modern genetics. So when her colleague said, \"What does he do?\" She paused and said, \"He models things.\" (Laughter) Well, her colleague suddenly got much more interested than I had any right to expect and went on and said, \"What does he model?\" Well, Sarah thought a little bit more about my work and said, \"Genes.\" (Laughter) \"He models genes.\"That is my first love, and that's what I'll tell you a little bit about. What I want to do more generally is to get you thinking about the place of uncertainty and randomness and chance in our world, and how we react to that, and how well we do or don't think about it. So you've had a pretty easy time up till now — a few laughs, and all that kind of thing — in the talks to date. You've got to think, and I'm going to ask you some questions. So here's the scene for the first question I'm going to ask you. Can you imagine tossing a coin successively? And for some reason — which shall remain rather vague — we're interested in a particular pattern. Here's one — a head, followed by a tail, followed by a tail.So suppose we toss a coin repeatedly. Then the pattern, head-tail-tail, that we've suddenly become fixated with happens here. And you can count: one, two, three, four, five, six, seven, eight, nine, 10 — it happens after the 10th toss. So you might think there are more interesting things to do, but humor me for the moment. Imagine this half of the audience each get out coins, and they toss them until they first see the pattern head-tail-tail. The first time they do it, maybe it happens after the 10th toss, as here. The second time, maybe it's after the fourth toss. The next time, after the 15th toss. So you do that lots and lots of times, and you average those numbers. That's what I want this side to think about.The other half of the audience doesn't like head-tail-tail — they think, for deep cultural reasons, that's boring — and they're much more interested in a different pattern — head-tail-head. So, on this side, you get out your coins, and you toss and toss and toss. And you count the number of times until the pattern head-tail-head appears and you average them. OK? So on this side, you've got a number — you've done it lots of times, so you get it accurately — which is the average number of tosses until head-tail-tail. On this side, you've got a number — the average number of tosses until head-tail-head.So here's a deep mathematical fact — if you've got two numbers, one of three things must be true. Either they're the same, or this one's bigger than this one, or this one's bigger than that one. So what's going on here? So you've all got to think about this, and you've all got to vote — and we're not moving on. And I don't want to end up in the two-minute silence to give you more time to think about it, until everyone's expressed a view. OK. So what you want to do is compare the average number of tosses until we first see head-tail-head with the average number of tosses until we first see head-tail-tail.Who thinks that A is true — that, on average, it'll take longer to see head-tail-head than head-tail-tail? Who thinks that B is true — that on average, they're the same? Who thinks that C is true — that, on average, it'll take less time to see head-tail-head than head-tail-tail? OK, who hasn't voted yet? Because that's really naughty — I said you had to. (Laughter) OK. So most people think B is true. And you might be relieved to know even rather distinguished mathematicians think that. It's not. A is true here. It takes longer, on average. In fact, the average number of tosses till head-tail-head is 10 and the average number of tosses until head-tail-tail is eight. How could that be? Anything different about the two patterns? There is. Head-tail-head overlaps itself. If you went head-tail-head-tail-head, you can cunningly get two occurrences of the pattern in only five tosses. You can't do that with head-tail-tail. That turns out to be important.There are two ways of thinking about this. I'll give you one of them. So imagine — let's suppose we're doing it. On this side — remember, you're excited about head-tail-tail; you're excited about head-tail-head. We start tossing a coin, and we get a head — and you start sitting on the edge of your seat because something great and wonderful, or awesome, might be about to happen. The next toss is a tail — you get really excited. The champagne's on ice just next to you; you've got the glasses chilled to celebrate. You're waiting with bated breath for the final toss. And if it comes down a head, that's great. You're done, and you celebrate. If it's a tail — well, rather disappointedly, you put the glasses away and put the champagne back. And you keep tossing, to wait for the next head, to get excited.On this side, there's a different experience. It's the same for the first two parts of the sequence. You're a little bit excited with the first head — you get rather more excited with the next tail. Then you toss the coin. If it's a tail, you crack open the champagne. If it's a head you're disappointed, but you're still a third of the way to your pattern again. And that's an informal way of presenting it — that's why there's a difference. Another way of thinking about it — if we tossed a coin eight million times, then we'd expect a million head-tail-heads and a million head-tail-tails — but the head-tail-heads could occur in clumps. So if you want to put a million things down amongst eight million positions and you can have some of them overlapping, the clumps will be further apart. It's another way of getting the intuition.What's the point I want to make? It's a very, very simple example, an easily stated question in probability, which every — you're in good company — everybody gets wrong. This is my little diversion into my real passion, which is genetics. There's a connection between head-tail-heads and head-tail-tails in genetics, and it's the following. When you toss a coin, you get a sequence of heads and tails. When you look at DNA, there's a sequence of not two things — heads and tails — but four letters — As, Gs, Cs and Ts. And there are little chemical scissors, called restriction enzymes which cut DNA whenever they see particular patterns. And they're an enormously useful tool in modern molecular biology. And instead of asking the question, \"How long until I see a head-tail-head?\" — you can ask, \"How big will the chunks be when I use a restriction enzyme which cuts whenever it sees G-A-A-G, for example? How long will those chunks be?\"That's a rather trivial connection between probability and genetics. There's a much deeper connection, which I don't have time to go into and that is that modern genetics is a really exciting area of science. And we'll hear some talks later in the conference specifically about that. But it turns out that unlocking the secrets in the information generated by modern experimental technologies, a key part of that has to do with fairly sophisticated — you'll be relieved to know that I do something useful in my day job, rather more sophisticated than the head-tail-head story — but quite sophisticated computer modelings and mathematical modelings and modern statistical techniques. And I will give you two little snippets — two examples — of projects we're involved in in my group in Oxford, both of which I think are rather exciting. You know about the Human Genome Project. That was a project which aimed to read one copy of the human genome. The natural thing to do after you've done that — and that's what this project, the International HapMap Project, which is a collaboration between labs in five or six different countries. Think of the Human Genome Project as learning what we've got in common, and the HapMap Project is trying to understand where there are differences between different people.Why do we care about that? Well, there are lots of reasons. The most pressing one is that we want to understand how some differences make some people susceptible to one disease — type-2 diabetes, for example — and other differences make people more susceptible to heart disease, or stroke, or autism and so on. That's one big project. There's a second big project, recently funded by the Wellcome Trust in this country, involving very large studies — thousands of individuals, with each of eight different diseases, common diseases like type-1 and type-2 diabetes, and coronary heart disease, bipolar disease and so on — to try and understand the genetics. To try and understand what it is about genetic differences that causes the diseases. Why do we want to do that? Because we understand very little about most human diseases. We don't know what causes them. And if we can get in at the bottom and understand the genetics, we'll have a window on the way the disease works, and a whole new way about thinking about disease therapies and preventative treatment and so on. So that's, as I said, the little diversion on my main love.Back to some of the more mundane issues of thinking about uncertainty. Here's another quiz for you — now suppose we've got a test for a disease which isn't infallible, but it's pretty good. It gets it right 99 percent of the time. And I take one of you, or I take someone off the street, and I test them for the disease in question. Let's suppose there's a test for HIV — the virus that causes AIDS — and the test says the person has the disease. What's the chance that they do? The test gets it right 99 percent of the time. So a natural answer is 99 percent. Who likes that answer? Come on — everyone's got to get involved. Don't think you don't trust me anymore. (Laughter) Well, you're right to be a bit skeptical, because that's not the answer. That's what you might think. It's not the answer, and it's not because it's only part of the story. It actually depends on how common or how rare the disease is. So let me try and illustrate that. Here's a little caricature of a million individuals. So let's think about a disease that affects — it's pretty rare, it affects one person in 10,000. Amongst these million individuals, most of them are healthy and some of them will have the disease. And in fact, if this is the prevalence of the disease, about 100 will have the disease and the rest won't. So now suppose we test them all. What happens? Well, amongst the 100 who do have the disease, the test will get it right 99 percent of the time, and 99 will test positive. Amongst all these other people who don't have the disease, the test will get it right 99 percent of the time. It'll only get it wrong one percent of the time. But there are so many of them that there'll be an enormous number of false positives. Put that another way — of all of them who test positive — so here they are, the individuals involved — less than one in 100 actually have the disease. So even though we think the test is accurate, the important part of the story is there's another bit of information we need.Here's the key intuition. What we have to do, once we know the test is positive, is to weigh up the plausibility, or the likelihood, of two competing explanations. Each of those explanations has a likely bit and an unlikely bit. One explanation is that the person doesn't have the disease — that's overwhelmingly likely, if you pick someone at random — but the test gets it wrong, which is unlikely. The other explanation is that the person does have the disease — that's unlikely — but the test gets it right, which is likely. And the number we end up with — that number which is a little bit less than one in 100 — is to do with how likely one of those explanations is relative to the other. Each of them taken together is unlikely.Here's a more topical example of exactly the same thing. Those of you in Britain will know about what's become rather a celebrated case of a woman called Sally Clark, who had two babies who died suddenly. And initially, it was thought that they died of what's known informally as \"cot death,\" and more formally as \"Sudden Infant Death Syndrome.\" For various reasons, she was later charged with murder. And at the trial, her trial, a very distinguished pediatrician gave evidence that the chance of two cot deaths, innocent deaths, in a family like hers — which was professional and non-smoking — was one in 73 million. To cut a long story short, she was convicted at the time. Later, and fairly recently, acquitted on appeal — in fact, on the second appeal. And just to set it in context, you can imagine how awful it is for someone to have lost one child, and then two, if they're innocent, to be convicted of murdering them. To be put through the stress of the trial, convicted of murdering them — and to spend time in a women's prison, where all the other prisoners think you killed your children — is a really awful thing to happen to someone. And it happened in large part here because the expert got the statistics horribly wrong, in two different ways.So where did he get the one in 73 million number? He looked at some research, which said the chance of one cot death in a family like Sally Clark's is about one in 8,500. So he said, \"I'll assume that if you have one cot death in a family, the chance of a second child dying from cot death aren't changed.\" So that's what statisticians would call an assumption of independence. It's like saying, \"If you toss a coin and get a head the first time, that won't affect the chance of getting a head the second time.\" So if you toss a coin twice, the chance of getting a head twice are a half — that's the chance the first time — times a half — the chance a second time. So he said, \"Here, I'll assume that these events are independent. When you multiply 8,500 together twice, you get about 73 million.\" And none of this was stated to the court as an assumption or presented to the jury that way. Unfortunately here — and, really, regrettably — first of all, in a situation like this you'd have to verify it empirically. And secondly, it's palpably false. There are lots and lots of things that we don't know about sudden infant deaths. It might well be that there are environmental factors that we're not aware of, and it's pretty likely to be the case that there are genetic factors we're not aware of. So if a family suffers from one cot death, you'd put them in a high-risk group. They've probably got these environmental risk factors and/or genetic risk factors we don't know about. And to argue, then, that the chance of a second death is as if you didn't know that information is really silly. It's worse than silly — it's really bad science. Nonetheless, that's how it was presented, and at trial nobody even argued it. That's the first problem. The second problem is, what does the number of one in 73 million mean? So after Sally Clark was convicted — you can imagine, it made rather a splash in the press — one of the journalists from one of Britain's more reputable newspapers wrote that what the expert had said was, \"The chance that she was innocent was one in 73 million.\" Now, that's a logical error. It's exactly the same logical error as the logical error of thinking that after the disease test, which is 99 percent accurate, the chance of having the disease is 99 percent. In the disease example, we had to bear in mind two things, one of which was the possibility that the test got it right or not. And the other one was the chance, a priori, that the person had the disease or not. It's exactly the same in this context. There are two things involved — two parts to the explanation. We want to know how likely, or relatively how likely, two different explanations are. One of them is that Sally Clark was innocent — which is, a priori, overwhelmingly likely — most mothers don't kill their children. And the second part of the explanation is that she suffered an incredibly unlikely event. Not as unlikely as one in 73 million, but nonetheless rather unlikely. The other explanation is that she was guilty. Now, we probably think a priori that's unlikely. And we certainly should think in the context of a criminal trial that that's unlikely, because of the presumption of innocence. And then if she were trying to kill the children, she succeeded. So the chance that she's innocent isn't one in 73 million. We don't know what it is. It has to do with weighing up the strength of the other evidence against her and the statistical evidence. We know the children died. What matters is how likely or unlikely, relative to each other, the two explanations are. And they're both implausible. There's a situation where errors in statistics had really profound and really unfortunate consequences. In fact, there are two other women who were convicted on the basis of the evidence of this pediatrician, who have subsequently been released on appeal. Many cases were reviewed. And it's particularly topical because he's currently facing a disrepute charge at Britain's General Medical Council.So just to conclude — what are the take-home messages from this? Well, we know that randomness and uncertainty and chance are very much a part of our everyday life. It's also true — and, although, you, as a collective, are very special in many ways, you're completely typical in not getting the examples I gave right. It's very well documented that people get things wrong. They make errors of logic in reasoning with uncertainty. We can cope with the subtleties of language brilliantly — and there are interesting evolutionary questions about how we got here. We are not good at reasoning with uncertainty. That's an issue in our everyday lives. As you've heard from many of the talks, statistics underpins an enormous amount of research in science — in social science, in medicine and indeed, quite a lot of industry. All of quality control, which has had a major impact on industrial processing, is underpinned by statistics. It's something we're bad at doing. At the very least, we should recognize that, and we tend not to. To go back to the legal context, at the Sally Clark trial all of the lawyers just accepted what the expert said. So if a pediatrician had come out and said to a jury, \"I know how to build bridges. I've built one down the road. Please drive your car home over it,\" they would have said, \"Well, pediatricians don't know how to build bridges. That's what engineers do.\" On the other hand, he came out and effectively said, or implied, \"I know how to reason with uncertainty. I know how to do statistics.\" And everyone said, \"Well, that's fine. He's an expert.\" So we need to understand where our competence is and isn't. Exactly the same kinds of issues arose in the early days of DNA profiling, when scientists, and lawyers and in some cases judges, routinely misrepresented evidence. Usually — one hopes — innocently, but misrepresented evidence. Forensic scientists said, \"The chance that this guy's innocent is one in three million.\" Even if you believe the number, just like the 73 million to one, that's not what it meant. And there have been celebrated appeal cases in Britain and elsewhere because of that.And just to finish in the context of the legal system. It's all very well to say, \"Let's do our best to present the evidence.\" But more and more, in cases of DNA profiling — this is another one — we expect juries, who are ordinary people — and it's documented they're very bad at this — we expect juries to be able to cope with the sorts of reasoning that goes on. In other spheres of life, if people argued — well, except possibly for politics — but in other spheres of life, if people argued illogically, we'd say that's not a good thing. We sort of expect it of politicians and don't hope for much more. In the case of uncertainty, we get it wrong all the time — and at the very least, we should be aware of that, and ideally, we might try and do something about it. Thanks very much.\n"
     ]
    }
   ],
   "source": [
    "tt_text = data.column('transcript')[42]\n",
    "tt_url = data.column('url')[42]\n",
    "print(tt_url)\n",
    "print(tt_text)"
   ]
  },
  {
   "cell_type": "markdown",
   "metadata": {},
   "source": [
    "### 2.1 Lower case\n",
    "\n",
    "Convert the text to lower case"
   ]
  },
  {
   "cell_type": "code",
   "execution_count": 23,
   "metadata": {},
   "outputs": [
    {
     "name": "stdout",
     "output_type": "stream",
     "text": [
      "as other speakers have said, it's a rather daunting experience — a particularly daunting experience — to be speaking in front of this audience. but unlike the other speakers, i'm not going to tell you about the mysteries of the universe, or the wonders of evolution, or the really clever, innovative ways people are attacking the major inequalities in our world. or even the challenges of nation-states in the modern global economy. my brief, as you've just heard, is to tell you about statistics — and, to be more precise, to tell you some exciting things about statistics. and that's — (laughter) — that's rather more challenging than all the speakers before me and all the ones coming after me. (laughter) one of my senior colleagues told me, when i was a youngster in this profession, rather proudly, that statisticians were people who liked figures but didn't have the personality skills to become accountants. (laughter) and there's another in-joke among statisticians, and that's, \"how do you tell the introverted statistician from the extroverted statistician?\" to which the answer is, \"the extroverted statistician's the one who looks at the other person's shoes.\" (laughter) but i want to tell you something useful — and here it is, so concentrate now. this evening, there's a reception in the university's museum of natural history. and it's a wonderful setting, as i hope you'll find, and a great icon to the best of the victorian tradition. it's very unlikely — in this special setting, and this collection of people — but you might just find yourself talking to someone you'd rather wish that you weren't. so here's what you do. when they say to you, \"what do you do?\" — you say, \"i'm a statistician.\" (laughter) well, except they've been pre-warned now, and they'll know you're making it up. and then one of two things will happen. they'll either discover their long-lost cousin in the other corner of the room and run over and talk to them. or they'll suddenly become parched and/or hungry — and often both — and sprint off for a drink and some food. and you'll be left in peace to talk to the person you really want to talk to.it's one of the challenges in our profession to try and explain what we do. we're not top on people's lists for dinner party guests and conversations and so on. and it's something i've never really found a good way of doing. but my wife — who was then my girlfriend — managed it much better than i've ever been able to. many years ago, when we first started going out, she was working for the bbc in britain, and i was, at that stage, working in america. i was coming back to visit her. she told this to one of her colleagues, who said, \"well, what does your boyfriend do?\" sarah thought quite hard about the things i'd explained — and she concentrated, in those days, on listening. (laughter) don't tell her i said that. and she was thinking about the work i did developing mathematical models for understanding evolution and modern genetics. so when her colleague said, \"what does he do?\" she paused and said, \"he models things.\" (laughter) well, her colleague suddenly got much more interested than i had any right to expect and went on and said, \"what does he model?\" well, sarah thought a little bit more about my work and said, \"genes.\" (laughter) \"he models genes.\"that is my first love, and that's what i'll tell you a little bit about. what i want to do more generally is to get you thinking about the place of uncertainty and randomness and chance in our world, and how we react to that, and how well we do or don't think about it. so you've had a pretty easy time up till now — a few laughs, and all that kind of thing — in the talks to date. you've got to think, and i'm going to ask you some questions. so here's the scene for the first question i'm going to ask you. can you imagine tossing a coin successively? and for some reason — which shall remain rather vague — we're interested in a particular pattern. here's one — a head, followed by a tail, followed by a tail.so suppose we toss a coin repeatedly. then the pattern, head-tail-tail, that we've suddenly become fixated with happens here. and you can count: one, two, three, four, five, six, seven, eight, nine, 10 — it happens after the 10th toss. so you might think there are more interesting things to do, but humor me for the moment. imagine this half of the audience each get out coins, and they toss them until they first see the pattern head-tail-tail. the first time they do it, maybe it happens after the 10th toss, as here. the second time, maybe it's after the fourth toss. the next time, after the 15th toss. so you do that lots and lots of times, and you average those numbers. that's what i want this side to think about.the other half of the audience doesn't like head-tail-tail — they think, for deep cultural reasons, that's boring — and they're much more interested in a different pattern — head-tail-head. so, on this side, you get out your coins, and you toss and toss and toss. and you count the number of times until the pattern head-tail-head appears and you average them. ok? so on this side, you've got a number — you've done it lots of times, so you get it accurately — which is the average number of tosses until head-tail-tail. on this side, you've got a number — the average number of tosses until head-tail-head.so here's a deep mathematical fact — if you've got two numbers, one of three things must be true. either they're the same, or this one's bigger than this one, or this one's bigger than that one. so what's going on here? so you've all got to think about this, and you've all got to vote — and we're not moving on. and i don't want to end up in the two-minute silence to give you more time to think about it, until everyone's expressed a view. ok. so what you want to do is compare the average number of tosses until we first see head-tail-head with the average number of tosses until we first see head-tail-tail.who thinks that a is true — that, on average, it'll take longer to see head-tail-head than head-tail-tail? who thinks that b is true — that on average, they're the same? who thinks that c is true — that, on average, it'll take less time to see head-tail-head than head-tail-tail? ok, who hasn't voted yet? because that's really naughty — i said you had to. (laughter) ok. so most people think b is true. and you might be relieved to know even rather distinguished mathematicians think that. it's not. a is true here. it takes longer, on average. in fact, the average number of tosses till head-tail-head is 10 and the average number of tosses until head-tail-tail is eight. how could that be? anything different about the two patterns? there is. head-tail-head overlaps itself. if you went head-tail-head-tail-head, you can cunningly get two occurrences of the pattern in only five tosses. you can't do that with head-tail-tail. that turns out to be important.there are two ways of thinking about this. i'll give you one of them. so imagine — let's suppose we're doing it. on this side — remember, you're excited about head-tail-tail; you're excited about head-tail-head. we start tossing a coin, and we get a head — and you start sitting on the edge of your seat because something great and wonderful, or awesome, might be about to happen. the next toss is a tail — you get really excited. the champagne's on ice just next to you; you've got the glasses chilled to celebrate. you're waiting with bated breath for the final toss. and if it comes down a head, that's great. you're done, and you celebrate. if it's a tail — well, rather disappointedly, you put the glasses away and put the champagne back. and you keep tossing, to wait for the next head, to get excited.on this side, there's a different experience. it's the same for the first two parts of the sequence. you're a little bit excited with the first head — you get rather more excited with the next tail. then you toss the coin. if it's a tail, you crack open the champagne. if it's a head you're disappointed, but you're still a third of the way to your pattern again. and that's an informal way of presenting it — that's why there's a difference. another way of thinking about it — if we tossed a coin eight million times, then we'd expect a million head-tail-heads and a million head-tail-tails — but the head-tail-heads could occur in clumps. so if you want to put a million things down amongst eight million positions and you can have some of them overlapping, the clumps will be further apart. it's another way of getting the intuition.what's the point i want to make? it's a very, very simple example, an easily stated question in probability, which every — you're in good company — everybody gets wrong. this is my little diversion into my real passion, which is genetics. there's a connection between head-tail-heads and head-tail-tails in genetics, and it's the following. when you toss a coin, you get a sequence of heads and tails. when you look at dna, there's a sequence of not two things — heads and tails — but four letters — as, gs, cs and ts. and there are little chemical scissors, called restriction enzymes which cut dna whenever they see particular patterns. and they're an enormously useful tool in modern molecular biology. and instead of asking the question, \"how long until i see a head-tail-head?\" — you can ask, \"how big will the chunks be when i use a restriction enzyme which cuts whenever it sees g-a-a-g, for example? how long will those chunks be?\"that's a rather trivial connection between probability and genetics. there's a much deeper connection, which i don't have time to go into and that is that modern genetics is a really exciting area of science. and we'll hear some talks later in the conference specifically about that. but it turns out that unlocking the secrets in the information generated by modern experimental technologies, a key part of that has to do with fairly sophisticated — you'll be relieved to know that i do something useful in my day job, rather more sophisticated than the head-tail-head story — but quite sophisticated computer modelings and mathematical modelings and modern statistical techniques. and i will give you two little snippets — two examples — of projects we're involved in in my group in oxford, both of which i think are rather exciting. you know about the human genome project. that was a project which aimed to read one copy of the human genome. the natural thing to do after you've done that — and that's what this project, the international hapmap project, which is a collaboration between labs in five or six different countries. think of the human genome project as learning what we've got in common, and the hapmap project is trying to understand where there are differences between different people.why do we care about that? well, there are lots of reasons. the most pressing one is that we want to understand how some differences make some people susceptible to one disease — type-2 diabetes, for example — and other differences make people more susceptible to heart disease, or stroke, or autism and so on. that's one big project. there's a second big project, recently funded by the wellcome trust in this country, involving very large studies — thousands of individuals, with each of eight different diseases, common diseases like type-1 and type-2 diabetes, and coronary heart disease, bipolar disease and so on — to try and understand the genetics. to try and understand what it is about genetic differences that causes the diseases. why do we want to do that? because we understand very little about most human diseases. we don't know what causes them. and if we can get in at the bottom and understand the genetics, we'll have a window on the way the disease works, and a whole new way about thinking about disease therapies and preventative treatment and so on. so that's, as i said, the little diversion on my main love.back to some of the more mundane issues of thinking about uncertainty. here's another quiz for you — now suppose we've got a test for a disease which isn't infallible, but it's pretty good. it gets it right 99 percent of the time. and i take one of you, or i take someone off the street, and i test them for the disease in question. let's suppose there's a test for hiv — the virus that causes aids — and the test says the person has the disease. what's the chance that they do? the test gets it right 99 percent of the time. so a natural answer is 99 percent. who likes that answer? come on — everyone's got to get involved. don't think you don't trust me anymore. (laughter) well, you're right to be a bit skeptical, because that's not the answer. that's what you might think. it's not the answer, and it's not because it's only part of the story. it actually depends on how common or how rare the disease is. so let me try and illustrate that. here's a little caricature of a million individuals. so let's think about a disease that affects — it's pretty rare, it affects one person in 10,000. amongst these million individuals, most of them are healthy and some of them will have the disease. and in fact, if this is the prevalence of the disease, about 100 will have the disease and the rest won't. so now suppose we test them all. what happens? well, amongst the 100 who do have the disease, the test will get it right 99 percent of the time, and 99 will test positive. amongst all these other people who don't have the disease, the test will get it right 99 percent of the time. it'll only get it wrong one percent of the time. but there are so many of them that there'll be an enormous number of false positives. put that another way — of all of them who test positive — so here they are, the individuals involved — less than one in 100 actually have the disease. so even though we think the test is accurate, the important part of the story is there's another bit of information we need.here's the key intuition. what we have to do, once we know the test is positive, is to weigh up the plausibility, or the likelihood, of two competing explanations. each of those explanations has a likely bit and an unlikely bit. one explanation is that the person doesn't have the disease — that's overwhelmingly likely, if you pick someone at random — but the test gets it wrong, which is unlikely. the other explanation is that the person does have the disease — that's unlikely — but the test gets it right, which is likely. and the number we end up with — that number which is a little bit less than one in 100 — is to do with how likely one of those explanations is relative to the other. each of them taken together is unlikely.here's a more topical example of exactly the same thing. those of you in britain will know about what's become rather a celebrated case of a woman called sally clark, who had two babies who died suddenly. and initially, it was thought that they died of what's known informally as \"cot death,\" and more formally as \"sudden infant death syndrome.\" for various reasons, she was later charged with murder. and at the trial, her trial, a very distinguished pediatrician gave evidence that the chance of two cot deaths, innocent deaths, in a family like hers — which was professional and non-smoking — was one in 73 million. to cut a long story short, she was convicted at the time. later, and fairly recently, acquitted on appeal — in fact, on the second appeal. and just to set it in context, you can imagine how awful it is for someone to have lost one child, and then two, if they're innocent, to be convicted of murdering them. to be put through the stress of the trial, convicted of murdering them — and to spend time in a women's prison, where all the other prisoners think you killed your children — is a really awful thing to happen to someone. and it happened in large part here because the expert got the statistics horribly wrong, in two different ways.so where did he get the one in 73 million number? he looked at some research, which said the chance of one cot death in a family like sally clark's is about one in 8,500. so he said, \"i'll assume that if you have one cot death in a family, the chance of a second child dying from cot death aren't changed.\" so that's what statisticians would call an assumption of independence. it's like saying, \"if you toss a coin and get a head the first time, that won't affect the chance of getting a head the second time.\" so if you toss a coin twice, the chance of getting a head twice are a half — that's the chance the first time — times a half — the chance a second time. so he said, \"here, i'll assume that these events are independent. when you multiply 8,500 together twice, you get about 73 million.\" and none of this was stated to the court as an assumption or presented to the jury that way. unfortunately here — and, really, regrettably — first of all, in a situation like this you'd have to verify it empirically. and secondly, it's palpably false. there are lots and lots of things that we don't know about sudden infant deaths. it might well be that there are environmental factors that we're not aware of, and it's pretty likely to be the case that there are genetic factors we're not aware of. so if a family suffers from one cot death, you'd put them in a high-risk group. they've probably got these environmental risk factors and/or genetic risk factors we don't know about. and to argue, then, that the chance of a second death is as if you didn't know that information is really silly. it's worse than silly — it's really bad science. nonetheless, that's how it was presented, and at trial nobody even argued it. that's the first problem. the second problem is, what does the number of one in 73 million mean? so after sally clark was convicted — you can imagine, it made rather a splash in the press — one of the journalists from one of britain's more reputable newspapers wrote that what the expert had said was, \"the chance that she was innocent was one in 73 million.\" now, that's a logical error. it's exactly the same logical error as the logical error of thinking that after the disease test, which is 99 percent accurate, the chance of having the disease is 99 percent. in the disease example, we had to bear in mind two things, one of which was the possibility that the test got it right or not. and the other one was the chance, a priori, that the person had the disease or not. it's exactly the same in this context. there are two things involved — two parts to the explanation. we want to know how likely, or relatively how likely, two different explanations are. one of them is that sally clark was innocent — which is, a priori, overwhelmingly likely — most mothers don't kill their children. and the second part of the explanation is that she suffered an incredibly unlikely event. not as unlikely as one in 73 million, but nonetheless rather unlikely. the other explanation is that she was guilty. now, we probably think a priori that's unlikely. and we certainly should think in the context of a criminal trial that that's unlikely, because of the presumption of innocence. and then if she were trying to kill the children, she succeeded. so the chance that she's innocent isn't one in 73 million. we don't know what it is. it has to do with weighing up the strength of the other evidence against her and the statistical evidence. we know the children died. what matters is how likely or unlikely, relative to each other, the two explanations are. and they're both implausible. there's a situation where errors in statistics had really profound and really unfortunate consequences. in fact, there are two other women who were convicted on the basis of the evidence of this pediatrician, who have subsequently been released on appeal. many cases were reviewed. and it's particularly topical because he's currently facing a disrepute charge at britain's general medical council.so just to conclude — what are the take-home messages from this? well, we know that randomness and uncertainty and chance are very much a part of our everyday life. it's also true — and, although, you, as a collective, are very special in many ways, you're completely typical in not getting the examples i gave right. it's very well documented that people get things wrong. they make errors of logic in reasoning with uncertainty. we can cope with the subtleties of language brilliantly — and there are interesting evolutionary questions about how we got here. we are not good at reasoning with uncertainty. that's an issue in our everyday lives. as you've heard from many of the talks, statistics underpins an enormous amount of research in science — in social science, in medicine and indeed, quite a lot of industry. all of quality control, which has had a major impact on industrial processing, is underpinned by statistics. it's something we're bad at doing. at the very least, we should recognize that, and we tend not to. to go back to the legal context, at the sally clark trial all of the lawyers just accepted what the expert said. so if a pediatrician had come out and said to a jury, \"i know how to build bridges. i've built one down the road. please drive your car home over it,\" they would have said, \"well, pediatricians don't know how to build bridges. that's what engineers do.\" on the other hand, he came out and effectively said, or implied, \"i know how to reason with uncertainty. i know how to do statistics.\" and everyone said, \"well, that's fine. he's an expert.\" so we need to understand where our competence is and isn't. exactly the same kinds of issues arose in the early days of dna profiling, when scientists, and lawyers and in some cases judges, routinely misrepresented evidence. usually — one hopes — innocently, but misrepresented evidence. forensic scientists said, \"the chance that this guy's innocent is one in three million.\" even if you believe the number, just like the 73 million to one, that's not what it meant. and there have been celebrated appeal cases in britain and elsewhere because of that.and just to finish in the context of the legal system. it's all very well to say, \"let's do our best to present the evidence.\" but more and more, in cases of dna profiling — this is another one — we expect juries, who are ordinary people — and it's documented they're very bad at this — we expect juries to be able to cope with the sorts of reasoning that goes on. in other spheres of life, if people argued — well, except possibly for politics — but in other spheres of life, if people argued illogically, we'd say that's not a good thing. we sort of expect it of politicians and don't hope for much more. in the case of uncertainty, we get it wrong all the time — and at the very least, we should be aware of that, and ideally, we might try and do something about it. thanks very much.\n"
     ]
    }
   ],
   "source": [
    "tt_text = tt_text.lower()\n",
    "print(tt_text)\n"
   ]
  },
  {
   "cell_type": "markdown",
   "metadata": {},
   "source": [
    "### 2.2 Remove non-letters\n",
    "\n",
    "Remove all characters that are not space or the letters a-z\n"
   ]
  },
  {
   "cell_type": "code",
   "execution_count": 24,
   "metadata": {},
   "outputs": [
    {
     "name": "stdout",
     "output_type": "stream",
     "text": [
      "as other speakers have said its a rather daunting experience  a particularly daunting experience  to be speaking in front of this audience but unlike the other speakers im not going to tell you about the mysteries of the universe or the wonders of evolution or the really clever innovative ways people are attacking the major inequalities in our world or even the challenges of nationstates in the modern global economy my brief as youve just heard is to tell you about statistics  and to be more precise to tell you some exciting things about statistics and thats  laughter  thats rather more challenging than all the speakers before me and all the ones coming after me laughter one of my senior colleagues told me when i was a youngster in this profession rather proudly that statisticians were people who liked figures but didnt have the personality skills to become accountants laughter and theres another injoke among statisticians and thats how do you tell the introverted statistician from the extroverted statistician to which the answer is the extroverted statisticians the one who looks at the other persons shoes laughter but i want to tell you something useful  and here it is so concentrate now this evening theres a reception in the universitys museum of natural history and its a wonderful setting as i hope youll find and a great icon to the best of the victorian tradition its very unlikely  in this special setting and this collection of people  but you might just find yourself talking to someone youd rather wish that you werent so heres what you do when they say to you what do you do  you say im a statistician laughter well except theyve been prewarned now and theyll know youre making it up and then one of two things will happen theyll either discover their longlost cousin in the other corner of the room and run over and talk to them or theyll suddenly become parched andor hungry  and often both  and sprint off for a drink and some food and youll be left in peace to talk to the person you really want to talk toits one of the challenges in our profession to try and explain what we do were not top on peoples lists for dinner party guests and conversations and so on and its something ive never really found a good way of doing but my wife  who was then my girlfriend  managed it much better than ive ever been able to many years ago when we first started going out she was working for the bbc in britain and i was at that stage working in america i was coming back to visit her she told this to one of her colleagues who said well what does your boyfriend do sarah thought quite hard about the things id explained  and she concentrated in those days on listening laughter dont tell her i said that and she was thinking about the work i did developing mathematical models for understanding evolution and modern genetics so when her colleague said what does he do she paused and said he models things laughter well her colleague suddenly got much more interested than i had any right to expect and went on and said what does he model well sarah thought a little bit more about my work and said genes laughter he models genesthat is my first love and thats what ill tell you a little bit about what i want to do more generally is to get you thinking about the place of uncertainty and randomness and chance in our world and how we react to that and how well we do or dont think about it so youve had a pretty easy time up till now  a few laughs and all that kind of thing  in the talks to date youve got to think and im going to ask you some questions so heres the scene for the first question im going to ask you can you imagine tossing a coin successively and for some reason  which shall remain rather vague  were interested in a particular pattern heres one  a head followed by a tail followed by a tailso suppose we toss a coin repeatedly then the pattern headtailtail that weve suddenly become fixated with happens here and you can count one two three four five six seven eight nine   it happens after the th toss so you might think there are more interesting things to do but humor me for the moment imagine this half of the audience each get out coins and they toss them until they first see the pattern headtailtail the first time they do it maybe it happens after the th toss as here the second time maybe its after the fourth toss the next time after the th toss so you do that lots and lots of times and you average those numbers thats what i want this side to think aboutthe other half of the audience doesnt like headtailtail  they think for deep cultural reasons thats boring  and theyre much more interested in a different pattern  headtailhead so on this side you get out your coins and you toss and toss and toss and you count the number of times until the pattern headtailhead appears and you average them ok so on this side youve got a number  youve done it lots of times so you get it accurately  which is the average number of tosses until headtailtail on this side youve got a number  the average number of tosses until headtailheadso heres a deep mathematical fact  if youve got two numbers one of three things must be true either theyre the same or this ones bigger than this one or this ones bigger than that one so whats going on here so youve all got to think about this and youve all got to vote  and were not moving on and i dont want to end up in the twominute silence to give you more time to think about it until everyones expressed a view ok so what you want to do is compare the average number of tosses until we first see headtailhead with the average number of tosses until we first see headtailtailwho thinks that a is true  that on average itll take longer to see headtailhead than headtailtail who thinks that b is true  that on average theyre the same who thinks that c is true  that on average itll take less time to see headtailhead than headtailtail ok who hasnt voted yet because thats really naughty  i said you had to laughter ok so most people think b is true and you might be relieved to know even rather distinguished mathematicians think that its not a is true here it takes longer on average in fact the average number of tosses till headtailhead is  and the average number of tosses until headtailtail is eight how could that be anything different about the two patterns there is headtailhead overlaps itself if you went headtailheadtailhead you can cunningly get two occurrences of the pattern in only five tosses you cant do that with headtailtail that turns out to be importantthere are two ways of thinking about this ill give you one of them so imagine  lets suppose were doing it on this side  remember youre excited about headtailtail youre excited about headtailhead we start tossing a coin and we get a head  and you start sitting on the edge of your seat because something great and wonderful or awesome might be about to happen the next toss is a tail  you get really excited the champagnes on ice just next to you youve got the glasses chilled to celebrate youre waiting with bated breath for the final toss and if it comes down a head thats great youre done and you celebrate if its a tail  well rather disappointedly you put the glasses away and put the champagne back and you keep tossing to wait for the next head to get excitedon this side theres a different experience its the same for the first two parts of the sequence youre a little bit excited with the first head  you get rather more excited with the next tail then you toss the coin if its a tail you crack open the champagne if its a head youre disappointed but youre still a third of the way to your pattern again and thats an informal way of presenting it  thats why theres a difference another way of thinking about it  if we tossed a coin eight million times then wed expect a million headtailheads and a million headtailtails  but the headtailheads could occur in clumps so if you want to put a million things down amongst eight million positions and you can have some of them overlapping the clumps will be further apart its another way of getting the intuitionwhats the point i want to make its a very very simple example an easily stated question in probability which every  youre in good company  everybody gets wrong this is my little diversion into my real passion which is genetics theres a connection between headtailheads and headtailtails in genetics and its the following when you toss a coin you get a sequence of heads and tails when you look at dna theres a sequence of not two things  heads and tails  but four letters  as gs cs and ts and there are little chemical scissors called restriction enzymes which cut dna whenever they see particular patterns and theyre an enormously useful tool in modern molecular biology and instead of asking the question how long until i see a headtailhead  you can ask how big will the chunks be when i use a restriction enzyme which cuts whenever it sees gaag for example how long will those chunks bethats a rather trivial connection between probability and genetics theres a much deeper connection which i dont have time to go into and that is that modern genetics is a really exciting area of science and well hear some talks later in the conference specifically about that but it turns out that unlocking the secrets in the information generated by modern experimental technologies a key part of that has to do with fairly sophisticated  youll be relieved to know that i do something useful in my day job rather more sophisticated than the headtailhead story  but quite sophisticated computer modelings and mathematical modelings and modern statistical techniques and i will give you two little snippets  two examples  of projects were involved in in my group in oxford both of which i think are rather exciting you know about the human genome project that was a project which aimed to read one copy of the human genome the natural thing to do after youve done that  and thats what this project the international hapmap project which is a collaboration between labs in five or six different countries think of the human genome project as learning what weve got in common and the hapmap project is trying to understand where there are differences between different peoplewhy do we care about that well there are lots of reasons the most pressing one is that we want to understand how some differences make some people susceptible to one disease  type diabetes for example  and other differences make people more susceptible to heart disease or stroke or autism and so on thats one big project theres a second big project recently funded by the wellcome trust in this country involving very large studies  thousands of individuals with each of eight different diseases common diseases like type and type diabetes and coronary heart disease bipolar disease and so on  to try and understand the genetics to try and understand what it is about genetic differences that causes the diseases why do we want to do that because we understand very little about most human diseases we dont know what causes them and if we can get in at the bottom and understand the genetics well have a window on the way the disease works and a whole new way about thinking about disease therapies and preventative treatment and so on so thats as i said the little diversion on my main loveback to some of the more mundane issues of thinking about uncertainty heres another quiz for you  now suppose weve got a test for a disease which isnt infallible but its pretty good it gets it right  percent of the time and i take one of you or i take someone off the street and i test them for the disease in question lets suppose theres a test for hiv  the virus that causes aids  and the test says the person has the disease whats the chance that they do the test gets it right  percent of the time so a natural answer is  percent who likes that answer come on  everyones got to get involved dont think you dont trust me anymore laughter well youre right to be a bit skeptical because thats not the answer thats what you might think its not the answer and its not because its only part of the story it actually depends on how common or how rare the disease is so let me try and illustrate that heres a little caricature of a million individuals so lets think about a disease that affects  its pretty rare it affects one person in  amongst these million individuals most of them are healthy and some of them will have the disease and in fact if this is the prevalence of the disease about  will have the disease and the rest wont so now suppose we test them all what happens well amongst the  who do have the disease the test will get it right  percent of the time and  will test positive amongst all these other people who dont have the disease the test will get it right  percent of the time itll only get it wrong one percent of the time but there are so many of them that therell be an enormous number of false positives put that another way  of all of them who test positive  so here they are the individuals involved  less than one in  actually have the disease so even though we think the test is accurate the important part of the story is theres another bit of information we needheres the key intuition what we have to do once we know the test is positive is to weigh up the plausibility or the likelihood of two competing explanations each of those explanations has a likely bit and an unlikely bit one explanation is that the person doesnt have the disease  thats overwhelmingly likely if you pick someone at random  but the test gets it wrong which is unlikely the other explanation is that the person does have the disease  thats unlikely  but the test gets it right which is likely and the number we end up with  that number which is a little bit less than one in   is to do with how likely one of those explanations is relative to the other each of them taken together is unlikelyheres a more topical example of exactly the same thing those of you in britain will know about whats become rather a celebrated case of a woman called sally clark who had two babies who died suddenly and initially it was thought that they died of whats known informally as cot death and more formally as sudden infant death syndrome for various reasons she was later charged with murder and at the trial her trial a very distinguished pediatrician gave evidence that the chance of two cot deaths innocent deaths in a family like hers  which was professional and nonsmoking  was one in  million to cut a long story short she was convicted at the time later and fairly recently acquitted on appeal  in fact on the second appeal and just to set it in context you can imagine how awful it is for someone to have lost one child and then two if theyre innocent to be convicted of murdering them to be put through the stress of the trial convicted of murdering them  and to spend time in a womens prison where all the other prisoners think you killed your children  is a really awful thing to happen to someone and it happened in large part here because the expert got the statistics horribly wrong in two different waysso where did he get the one in  million number he looked at some research which said the chance of one cot death in a family like sally clarks is about one in  so he said ill assume that if you have one cot death in a family the chance of a second child dying from cot death arent changed so thats what statisticians would call an assumption of independence its like saying if you toss a coin and get a head the first time that wont affect the chance of getting a head the second time so if you toss a coin twice the chance of getting a head twice are a half  thats the chance the first time  times a half  the chance a second time so he said here ill assume that these events are independent when you multiply  together twice you get about  million and none of this was stated to the court as an assumption or presented to the jury that way unfortunately here  and really regrettably  first of all in a situation like this youd have to verify it empirically and secondly its palpably false there are lots and lots of things that we dont know about sudden infant deaths it might well be that there are environmental factors that were not aware of and its pretty likely to be the case that there are genetic factors were not aware of so if a family suffers from one cot death youd put them in a highrisk group theyve probably got these environmental risk factors andor genetic risk factors we dont know about and to argue then that the chance of a second death is as if you didnt know that information is really silly its worse than silly  its really bad science nonetheless thats how it was presented and at trial nobody even argued it thats the first problem the second problem is what does the number of one in  million mean so after sally clark was convicted  you can imagine it made rather a splash in the press  one of the journalists from one of britains more reputable newspapers wrote that what the expert had said was the chance that she was innocent was one in  million now thats a logical error its exactly the same logical error as the logical error of thinking that after the disease test which is  percent accurate the chance of having the disease is  percent in the disease example we had to bear in mind two things one of which was the possibility that the test got it right or not and the other one was the chance a priori that the person had the disease or not its exactly the same in this context there are two things involved  two parts to the explanation we want to know how likely or relatively how likely two different explanations are one of them is that sally clark was innocent  which is a priori overwhelmingly likely  most mothers dont kill their children and the second part of the explanation is that she suffered an incredibly unlikely event not as unlikely as one in  million but nonetheless rather unlikely the other explanation is that she was guilty now we probably think a priori thats unlikely and we certainly should think in the context of a criminal trial that thats unlikely because of the presumption of innocence and then if she were trying to kill the children she succeeded so the chance that shes innocent isnt one in  million we dont know what it is it has to do with weighing up the strength of the other evidence against her and the statistical evidence we know the children died what matters is how likely or unlikely relative to each other the two explanations are and theyre both implausible theres a situation where errors in statistics had really profound and really unfortunate consequences in fact there are two other women who were convicted on the basis of the evidence of this pediatrician who have subsequently been released on appeal many cases were reviewed and its particularly topical because hes currently facing a disrepute charge at britains general medical councilso just to conclude  what are the takehome messages from this well we know that randomness and uncertainty and chance are very much a part of our everyday life its also true  and although you as a collective are very special in many ways youre completely typical in not getting the examples i gave right its very well documented that people get things wrong they make errors of logic in reasoning with uncertainty we can cope with the subtleties of language brilliantly  and there are interesting evolutionary questions about how we got here we are not good at reasoning with uncertainty thats an issue in our everyday lives as youve heard from many of the talks statistics underpins an enormous amount of research in science  in social science in medicine and indeed quite a lot of industry all of quality control which has had a major impact on industrial processing is underpinned by statistics its something were bad at doing at the very least we should recognize that and we tend not to to go back to the legal context at the sally clark trial all of the lawyers just accepted what the expert said so if a pediatrician had come out and said to a jury i know how to build bridges ive built one down the road please drive your car home over it they would have said well pediatricians dont know how to build bridges thats what engineers do on the other hand he came out and effectively said or implied i know how to reason with uncertainty i know how to do statistics and everyone said well thats fine hes an expert so we need to understand where our competence is and isnt exactly the same kinds of issues arose in the early days of dna profiling when scientists and lawyers and in some cases judges routinely misrepresented evidence usually  one hopes  innocently but misrepresented evidence forensic scientists said the chance that this guys innocent is one in three million even if you believe the number just like the  million to one thats not what it meant and there have been celebrated appeal cases in britain and elsewhere because of thatand just to finish in the context of the legal system its all very well to say lets do our best to present the evidence but more and more in cases of dna profiling  this is another one  we expect juries who are ordinary people  and its documented theyre very bad at this  we expect juries to be able to cope with the sorts of reasoning that goes on in other spheres of life if people argued  well except possibly for politics  but in other spheres of life if people argued illogically wed say thats not a good thing we sort of expect it of politicians and dont hope for much more in the case of uncertainty we get it wrong all the time  and at the very least we should be aware of that and ideally we might try and do something about it thanks very much\n"
     ]
    }
   ],
   "source": [
    "#help(re.sub)\n",
    "tt_text = re.sub('[^a-z\\s]','',tt_text)\n",
    "\n",
    "print(tt_text)"
   ]
  },
  {
   "cell_type": "markdown",
   "metadata": {},
   "source": [
    "### 2.3 Remove extra space\n",
    "\n",
    "Remove all extra spaces, by replacing two or more spaces by a single space\n",
    "\n"
   ]
  },
  {
   "cell_type": "code",
   "execution_count": 25,
   "metadata": {},
   "outputs": [
    {
     "name": "stdout",
     "output_type": "stream",
     "text": [
      "as other speakers have said its a rather daunting experience a particularly daunting experience to be speaking in front of this audience but unlike the other speakers im not going to tell you about the mysteries of the universe or the wonders of evolution or the really clever innovative ways people are attacking the major inequalities in our world or even the challenges of nationstates in the modern global economy my brief as youve just heard is to tell you about statistics and to be more precise to tell you some exciting things about statistics and thats laughter thats rather more challenging than all the speakers before me and all the ones coming after me laughter one of my senior colleagues told me when i was a youngster in this profession rather proudly that statisticians were people who liked figures but didnt have the personality skills to become accountants laughter and theres another injoke among statisticians and thats how do you tell the introverted statistician from the extroverted statistician to which the answer is the extroverted statisticians the one who looks at the other persons shoes laughter but i want to tell you something useful and here it is so concentrate now this evening theres a reception in the universitys museum of natural history and its a wonderful setting as i hope youll find and a great icon to the best of the victorian tradition its very unlikely in this special setting and this collection of people but you might just find yourself talking to someone youd rather wish that you werent so heres what you do when they say to you what do you do you say im a statistician laughter well except theyve been prewarned now and theyll know youre making it up and then one of two things will happen theyll either discover their longlost cousin in the other corner of the room and run over and talk to them or theyll suddenly become parched andor hungry and often both and sprint off for a drink and some food and youll be left in peace to talk to the person you really want to talk toits one of the challenges in our profession to try and explain what we do were not top on peoples lists for dinner party guests and conversations and so on and its something ive never really found a good way of doing but my wife who was then my girlfriend managed it much better than ive ever been able to many years ago when we first started going out she was working for the bbc in britain and i was at that stage working in america i was coming back to visit her she told this to one of her colleagues who said well what does your boyfriend do sarah thought quite hard about the things id explained and she concentrated in those days on listening laughter dont tell her i said that and she was thinking about the work i did developing mathematical models for understanding evolution and modern genetics so when her colleague said what does he do she paused and said he models things laughter well her colleague suddenly got much more interested than i had any right to expect and went on and said what does he model well sarah thought a little bit more about my work and said genes laughter he models genesthat is my first love and thats what ill tell you a little bit about what i want to do more generally is to get you thinking about the place of uncertainty and randomness and chance in our world and how we react to that and how well we do or dont think about it so youve had a pretty easy time up till now a few laughs and all that kind of thing in the talks to date youve got to think and im going to ask you some questions so heres the scene for the first question im going to ask you can you imagine tossing a coin successively and for some reason which shall remain rather vague were interested in a particular pattern heres one a head followed by a tail followed by a tailso suppose we toss a coin repeatedly then the pattern headtailtail that weve suddenly become fixated with happens here and you can count one two three four five six seven eight nine it happens after the th toss so you might think there are more interesting things to do but humor me for the moment imagine this half of the audience each get out coins and they toss them until they first see the pattern headtailtail the first time they do it maybe it happens after the th toss as here the second time maybe its after the fourth toss the next time after the th toss so you do that lots and lots of times and you average those numbers thats what i want this side to think aboutthe other half of the audience doesnt like headtailtail they think for deep cultural reasons thats boring and theyre much more interested in a different pattern headtailhead so on this side you get out your coins and you toss and toss and toss and you count the number of times until the pattern headtailhead appears and you average them ok so on this side youve got a number youve done it lots of times so you get it accurately which is the average number of tosses until headtailtail on this side youve got a number the average number of tosses until headtailheadso heres a deep mathematical fact if youve got two numbers one of three things must be true either theyre the same or this ones bigger than this one or this ones bigger than that one so whats going on here so youve all got to think about this and youve all got to vote and were not moving on and i dont want to end up in the twominute silence to give you more time to think about it until everyones expressed a view ok so what you want to do is compare the average number of tosses until we first see headtailhead with the average number of tosses until we first see headtailtailwho thinks that a is true that on average itll take longer to see headtailhead than headtailtail who thinks that b is true that on average theyre the same who thinks that c is true that on average itll take less time to see headtailhead than headtailtail ok who hasnt voted yet because thats really naughty i said you had to laughter ok so most people think b is true and you might be relieved to know even rather distinguished mathematicians think that its not a is true here it takes longer on average in fact the average number of tosses till headtailhead is and the average number of tosses until headtailtail is eight how could that be anything different about the two patterns there is headtailhead overlaps itself if you went headtailheadtailhead you can cunningly get two occurrences of the pattern in only five tosses you cant do that with headtailtail that turns out to be importantthere are two ways of thinking about this ill give you one of them so imagine lets suppose were doing it on this side remember youre excited about headtailtail youre excited about headtailhead we start tossing a coin and we get a head and you start sitting on the edge of your seat because something great and wonderful or awesome might be about to happen the next toss is a tail you get really excited the champagnes on ice just next to you youve got the glasses chilled to celebrate youre waiting with bated breath for the final toss and if it comes down a head thats great youre done and you celebrate if its a tail well rather disappointedly you put the glasses away and put the champagne back and you keep tossing to wait for the next head to get excitedon this side theres a different experience its the same for the first two parts of the sequence youre a little bit excited with the first head you get rather more excited with the next tail then you toss the coin if its a tail you crack open the champagne if its a head youre disappointed but youre still a third of the way to your pattern again and thats an informal way of presenting it thats why theres a difference another way of thinking about it if we tossed a coin eight million times then wed expect a million headtailheads and a million headtailtails but the headtailheads could occur in clumps so if you want to put a million things down amongst eight million positions and you can have some of them overlapping the clumps will be further apart its another way of getting the intuitionwhats the point i want to make its a very very simple example an easily stated question in probability which every youre in good company everybody gets wrong this is my little diversion into my real passion which is genetics theres a connection between headtailheads and headtailtails in genetics and its the following when you toss a coin you get a sequence of heads and tails when you look at dna theres a sequence of not two things heads and tails but four letters as gs cs and ts and there are little chemical scissors called restriction enzymes which cut dna whenever they see particular patterns and theyre an enormously useful tool in modern molecular biology and instead of asking the question how long until i see a headtailhead you can ask how big will the chunks be when i use a restriction enzyme which cuts whenever it sees gaag for example how long will those chunks bethats a rather trivial connection between probability and genetics theres a much deeper connection which i dont have time to go into and that is that modern genetics is a really exciting area of science and well hear some talks later in the conference specifically about that but it turns out that unlocking the secrets in the information generated by modern experimental technologies a key part of that has to do with fairly sophisticated youll be relieved to know that i do something useful in my day job rather more sophisticated than the headtailhead story but quite sophisticated computer modelings and mathematical modelings and modern statistical techniques and i will give you two little snippets two examples of projects were involved in in my group in oxford both of which i think are rather exciting you know about the human genome project that was a project which aimed to read one copy of the human genome the natural thing to do after youve done that and thats what this project the international hapmap project which is a collaboration between labs in five or six different countries think of the human genome project as learning what weve got in common and the hapmap project is trying to understand where there are differences between different peoplewhy do we care about that well there are lots of reasons the most pressing one is that we want to understand how some differences make some people susceptible to one disease type diabetes for example and other differences make people more susceptible to heart disease or stroke or autism and so on thats one big project theres a second big project recently funded by the wellcome trust in this country involving very large studies thousands of individuals with each of eight different diseases common diseases like type and type diabetes and coronary heart disease bipolar disease and so on to try and understand the genetics to try and understand what it is about genetic differences that causes the diseases why do we want to do that because we understand very little about most human diseases we dont know what causes them and if we can get in at the bottom and understand the genetics well have a window on the way the disease works and a whole new way about thinking about disease therapies and preventative treatment and so on so thats as i said the little diversion on my main loveback to some of the more mundane issues of thinking about uncertainty heres another quiz for you now suppose weve got a test for a disease which isnt infallible but its pretty good it gets it right percent of the time and i take one of you or i take someone off the street and i test them for the disease in question lets suppose theres a test for hiv the virus that causes aids and the test says the person has the disease whats the chance that they do the test gets it right percent of the time so a natural answer is percent who likes that answer come on everyones got to get involved dont think you dont trust me anymore laughter well youre right to be a bit skeptical because thats not the answer thats what you might think its not the answer and its not because its only part of the story it actually depends on how common or how rare the disease is so let me try and illustrate that heres a little caricature of a million individuals so lets think about a disease that affects its pretty rare it affects one person in amongst these million individuals most of them are healthy and some of them will have the disease and in fact if this is the prevalence of the disease about will have the disease and the rest wont so now suppose we test them all what happens well amongst the who do have the disease the test will get it right percent of the time and will test positive amongst all these other people who dont have the disease the test will get it right percent of the time itll only get it wrong one percent of the time but there are so many of them that therell be an enormous number of false positives put that another way of all of them who test positive so here they are the individuals involved less than one in actually have the disease so even though we think the test is accurate the important part of the story is theres another bit of information we needheres the key intuition what we have to do once we know the test is positive is to weigh up the plausibility or the likelihood of two competing explanations each of those explanations has a likely bit and an unlikely bit one explanation is that the person doesnt have the disease thats overwhelmingly likely if you pick someone at random but the test gets it wrong which is unlikely the other explanation is that the person does have the disease thats unlikely but the test gets it right which is likely and the number we end up with that number which is a little bit less than one in is to do with how likely one of those explanations is relative to the other each of them taken together is unlikelyheres a more topical example of exactly the same thing those of you in britain will know about whats become rather a celebrated case of a woman called sally clark who had two babies who died suddenly and initially it was thought that they died of whats known informally as cot death and more formally as sudden infant death syndrome for various reasons she was later charged with murder and at the trial her trial a very distinguished pediatrician gave evidence that the chance of two cot deaths innocent deaths in a family like hers which was professional and nonsmoking was one in million to cut a long story short she was convicted at the time later and fairly recently acquitted on appeal in fact on the second appeal and just to set it in context you can imagine how awful it is for someone to have lost one child and then two if theyre innocent to be convicted of murdering them to be put through the stress of the trial convicted of murdering them and to spend time in a womens prison where all the other prisoners think you killed your children is a really awful thing to happen to someone and it happened in large part here because the expert got the statistics horribly wrong in two different waysso where did he get the one in million number he looked at some research which said the chance of one cot death in a family like sally clarks is about one in so he said ill assume that if you have one cot death in a family the chance of a second child dying from cot death arent changed so thats what statisticians would call an assumption of independence its like saying if you toss a coin and get a head the first time that wont affect the chance of getting a head the second time so if you toss a coin twice the chance of getting a head twice are a half thats the chance the first time times a half the chance a second time so he said here ill assume that these events are independent when you multiply together twice you get about million and none of this was stated to the court as an assumption or presented to the jury that way unfortunately here and really regrettably first of all in a situation like this youd have to verify it empirically and secondly its palpably false there are lots and lots of things that we dont know about sudden infant deaths it might well be that there are environmental factors that were not aware of and its pretty likely to be the case that there are genetic factors were not aware of so if a family suffers from one cot death youd put them in a highrisk group theyve probably got these environmental risk factors andor genetic risk factors we dont know about and to argue then that the chance of a second death is as if you didnt know that information is really silly its worse than silly its really bad science nonetheless thats how it was presented and at trial nobody even argued it thats the first problem the second problem is what does the number of one in million mean so after sally clark was convicted you can imagine it made rather a splash in the press one of the journalists from one of britains more reputable newspapers wrote that what the expert had said was the chance that she was innocent was one in million now thats a logical error its exactly the same logical error as the logical error of thinking that after the disease test which is percent accurate the chance of having the disease is percent in the disease example we had to bear in mind two things one of which was the possibility that the test got it right or not and the other one was the chance a priori that the person had the disease or not its exactly the same in this context there are two things involved two parts to the explanation we want to know how likely or relatively how likely two different explanations are one of them is that sally clark was innocent which is a priori overwhelmingly likely most mothers dont kill their children and the second part of the explanation is that she suffered an incredibly unlikely event not as unlikely as one in million but nonetheless rather unlikely the other explanation is that she was guilty now we probably think a priori thats unlikely and we certainly should think in the context of a criminal trial that thats unlikely because of the presumption of innocence and then if she were trying to kill the children she succeeded so the chance that shes innocent isnt one in million we dont know what it is it has to do with weighing up the strength of the other evidence against her and the statistical evidence we know the children died what matters is how likely or unlikely relative to each other the two explanations are and theyre both implausible theres a situation where errors in statistics had really profound and really unfortunate consequences in fact there are two other women who were convicted on the basis of the evidence of this pediatrician who have subsequently been released on appeal many cases were reviewed and its particularly topical because hes currently facing a disrepute charge at britains general medical councilso just to conclude what are the takehome messages from this well we know that randomness and uncertainty and chance are very much a part of our everyday life its also true and although you as a collective are very special in many ways youre completely typical in not getting the examples i gave right its very well documented that people get things wrong they make errors of logic in reasoning with uncertainty we can cope with the subtleties of language brilliantly and there are interesting evolutionary questions about how we got here we are not good at reasoning with uncertainty thats an issue in our everyday lives as youve heard from many of the talks statistics underpins an enormous amount of research in science in social science in medicine and indeed quite a lot of industry all of quality control which has had a major impact on industrial processing is underpinned by statistics its something were bad at doing at the very least we should recognize that and we tend not to to go back to the legal context at the sally clark trial all of the lawyers just accepted what the expert said so if a pediatrician had come out and said to a jury i know how to build bridges ive built one down the road please drive your car home over it they would have said well pediatricians dont know how to build bridges thats what engineers do on the other hand he came out and effectively said or implied i know how to reason with uncertainty i know how to do statistics and everyone said well thats fine hes an expert so we need to understand where our competence is and isnt exactly the same kinds of issues arose in the early days of dna profiling when scientists and lawyers and in some cases judges routinely misrepresented evidence usually one hopes innocently but misrepresented evidence forensic scientists said the chance that this guys innocent is one in three million even if you believe the number just like the million to one thats not what it meant and there have been celebrated appeal cases in britain and elsewhere because of thatand just to finish in the context of the legal system its all very well to say lets do our best to present the evidence but more and more in cases of dna profiling this is another one we expect juries who are ordinary people and its documented theyre very bad at this we expect juries to be able to cope with the sorts of reasoning that goes on in other spheres of life if people argued well except possibly for politics but in other spheres of life if people argued illogically wed say thats not a good thing we sort of expect it of politicians and dont hope for much more in the case of uncertainty we get it wrong all the time and at the very least we should be aware of that and ideally we might try and do something about it thanks very much\n"
     ]
    }
   ],
   "source": [
    "tt_text = re.sub('\\s+',' ',tt_text)\n",
    "print(tt_text)"
   ]
  },
  {
   "cell_type": "markdown",
   "metadata": {},
   "source": [
    "### 2.4 Count statistics\n",
    "\n",
    "Count the number of times the word \"statistics\" appears in the Ted Talk"
   ]
  },
  {
   "cell_type": "code",
   "execution_count": 27,
   "metadata": {},
   "outputs": [
    {
     "name": "stdout",
     "output_type": "stream",
     "text": [
      "7\n"
     ]
    }
   ],
   "source": [
    "tt_statistics_count = len(re.findall('statistics',tt_text))\n",
    "print(tt_statistics_count)"
   ]
  },
  {
   "cell_type": "code",
   "execution_count": 53,
   "metadata": {},
   "outputs": [
    {
     "name": "stdout",
     "output_type": "stream",
     "text": [
      "Help on function findall in module re:\n",
      "\n",
      "findall(pattern, string, flags=0)\n",
      "    Return a list of all non-overlapping matches in the string.\n",
      "    \n",
      "    If one or more capturing groups are present in the pattern, return\n",
      "    a list of groups; this will be a list of tuples if the pattern\n",
      "    has more than one group.\n",
      "    \n",
      "    Empty matches are included in the result.\n",
      "\n"
     ]
    }
   ],
   "source": [
    "help(re.findall)"
   ]
  },
  {
   "cell_type": "markdown",
   "metadata": {},
   "source": [
    "### 2.5 Creating a vocabulary\n",
    "\n",
    "Recall that we can use the `Counter` class to build the vocabulary.  Counter is a Python dictionary where keys are the objects to be counted and the values are their counts. Using the `Counter` class, create a vocabulary of all unique words that appear in the talk, using the processed form `tt_text`. How many words are there?"
   ]
  },
  {
   "cell_type": "code",
   "execution_count": 28,
   "metadata": {},
   "outputs": [
    {
     "data": {
      "text/plain": [
       "882"
      ]
     },
     "execution_count": 28,
     "metadata": {},
     "output_type": "execute_result"
    }
   ],
   "source": [
    "num_tokens = Counter(tt_text)\n",
    "\n",
    "num_tokens = Counter(tt_text.split(' '))\n",
    "num_tokens\n",
    "\n",
    "\n",
    "# since num_tokens is kond of like a table, e can just look at its length\n",
    "\n",
    "len(num_tokens)"
   ]
  },
  {
   "cell_type": "markdown",
   "metadata": {},
   "source": [
    "### 2.6 Most common words\n",
    "\n",
    "What are the 10 most frequently used words in the talk?\n"
   ]
  },
  {
   "cell_type": "code",
   "execution_count": 55,
   "metadata": {},
   "outputs": [
    {
     "data": {
      "text/plain": [
       "[('the', 226),\n",
       " ('and', 146),\n",
       " ('of', 125),\n",
       " ('a', 105),\n",
       " ('to', 102),\n",
       " ('in', 80),\n",
       " ('that', 69),\n",
       " ('you', 68),\n",
       " ('is', 57),\n",
       " ('it', 45)]"
      ]
     },
     "execution_count": 55,
     "metadata": {},
     "output_type": "execute_result"
    }
   ],
   "source": [
    "most_common = num_tokens.most_common(10)\n",
    "most_common"
   ]
  },
  {
   "cell_type": "code",
   "execution_count": null,
   "metadata": {},
   "outputs": [],
   "source": []
  }
 ],
 "metadata": {
  "anaconda-cloud": {},
  "celltoolbar": "Raw Cell Format",
  "kernelspec": {
   "display_name": "Python 3",
   "language": "python",
   "name": "python3"
  },
  "language_info": {
   "codemirror_mode": {
    "name": "ipython",
    "version": 3
   },
   "file_extension": ".py",
   "mimetype": "text/x-python",
   "name": "python",
   "nbconvert_exporter": "python",
   "pygments_lexer": "ipython3",
   "version": "3.6.7"
  }
 },
 "nbformat": 4,
 "nbformat_minor": 1
}
