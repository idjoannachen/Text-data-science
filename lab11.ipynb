{
 "cells": [
  {
   "cell_type": "markdown",
   "metadata": {
    "colab_type": "text",
    "id": "MnwRDFPlrYNL"
   },
   "source": [
    "# Lab 10: Sentiment Analysis for Beer Reviews (2/2)"
   ]
  },
  {
   "cell_type": "markdown",
   "metadata": {
    "colab_type": "text",
    "id": "r8O9Y6KarYNO"
   },
   "source": [
    "<br>\n",
    "\n",
    "[<img width=500 align=\"center\" margin=\"20\" src=\"wc_feel.jpg\">](http://www.recommend.beer/analysis/)\n",
    "\n",
    "\n",
    "In this lab we will continue working with beer reviews for sentiment analysis. We will build better classifiers by using document embeddings and methods like logistic regression and KNN classification.\n",
    "\n",
    "Document embeddings are representations of documents as vectors, and are analogous to word embeddings. They can be constructed from word embeddings by composing them, or by building them in a similar manner to word embeddings.\n",
    "\n",
    "Classifiers are models that take as input a set of features and output a discrete label (a class like 'positive', 'negative', 'neutral'). The input features we will use are the document embeddings of the review. Whereas we previously used rule-based methods based on small lists of words to construct the sentiment classifier, now we will use machine learning methods to approximate a relationship between reviews and their sentiment.\n",
    "\n",
    "We will explore three types of models in this lab:\n",
    "- Document embeddings by taking the mean of word embeddings\n",
    "- Document embeddings by taking a weighted sum of word embeddings\n",
    "- Document embeddings by using Doc2Vec, an algorithm that is similar in spirit to Word2Vec."
   ]
  },
  {
   "cell_type": "markdown",
   "metadata": {
    "colab_type": "text",
    "id": "vBNpZMLUrYNP"
   },
   "source": [
    "As always, load the usual modules."
   ]
  },
  {
   "cell_type": "code",
   "execution_count": 1,
   "metadata": {
    "colab": {
     "base_uri": "https://localhost:8080/",
     "height": 105
    },
    "colab_type": "code",
    "id": "Ar6lpRy4rYNQ",
    "outputId": "42dae45a-8c38-47f8-d301-4f4458457b73"
   },
   "outputs": [],
   "source": [
    "from datascience import *\n",
    "import numpy as np\n",
    "import re\n",
    "import gensim\n",
    "\n",
    "from collections import Counter\n",
    "\n",
    "import logging\n",
    "logging.basicConfig(format='%(asctime)s : %(levelname)s : %(message)s', level=logging.ERROR)\n",
    "logging.root.level = logging.CRITICAL \n",
    "\n",
    "import warnings\n",
    "warnings.filterwarnings(\"ignore\",category=DeprecationWarning)\n",
    "\n",
    "# direct plots to appear within the cell, and set their style\n",
    "%matplotlib inline\n",
    "import matplotlib.pyplot as plt\n",
    "plt.style.use('fivethirtyeight')"
   ]
  },
  {
   "cell_type": "markdown",
   "metadata": {
    "colab_type": "text",
    "id": "Q0k0h1-0rYNV"
   },
   "source": [
    "## Load and Split Dataset\n",
    "\n",
    "As before, load the `csv` file that contains our beer reviews."
   ]
  },
  {
   "cell_type": "code",
   "execution_count": 2,
   "metadata": {
    "colab": {
     "base_uri": "https://localhost:8080/",
     "height": 242
    },
    "colab_type": "code",
    "id": "67dV--jzrYNW",
    "outputId": "e62b3f27-6c6c-488d-b3df-4488b58ac27d"
   },
   "outputs": [
    {
     "data": {
      "text/html": [
       "<table border=\"1\" class=\"dataframe\">\n",
       "    <thead>\n",
       "        <tr>\n",
       "            <th>beer_ABV</th> <th>beer_beerId</th> <th>beer_brewerId</th> <th>beer_name</th> <th>beer_style</th> <th>review_appearance</th> <th>review_aroma</th> <th>review_overall</th> <th>review_palate</th> <th>review_profileName</th> <th>review_taste</th> <th>review_text</th> <th>review_time</th>\n",
       "        </tr>\n",
       "    </thead>\n",
       "    <tbody>\n",
       "        <tr>\n",
       "            <td>5.4     </td> <td>63836      </td> <td>8481         </td> <td>John Harvards Simcoe IPA</td> <td>India Pale Ale &#40;IPA&#41;</td> <td>4/5              </td> <td>6/10        </td> <td>13/20         </td> <td>3/5          </td> <td>hopdog            </td> <td>6/10        </td> <td>On tap at the Springfield, PA location. Poured a deep an ...</td> <td>1157587200 </td>\n",
       "        </tr>\n",
       "        <tr>\n",
       "            <td>6.5     </td> <td>58511      </td> <td>3228         </td> <td>Barley Island Barfly IPA</td> <td>India Pale Ale &#40;IPA&#41;</td> <td>3/5              </td> <td>5/10        </td> <td>8/20          </td> <td>2/5          </td> <td>jake65            </td> <td>4/10        </td> <td>Bottle:  Pours a murky caramel color with a modest, crea ...</td> <td>1227744000 </td>\n",
       "        </tr>\n",
       "    </tbody>\n",
       "</table>\n",
       "<p>... (9998 rows omitted)</p>"
      ],
      "text/plain": [
       "<IPython.core.display.HTML object>"
      ]
     },
     "metadata": {},
     "output_type": "display_data"
    }
   ],
   "source": [
    "# load file and build table\n",
    "filename = \"ratings.csv\"\n",
    "data = Table.read_table(filename)\n",
    "sample_size = data.num_rows\n",
    "data.show(2)"
   ]
  },
  {
   "cell_type": "markdown",
   "metadata": {
    "colab_type": "text",
    "id": "WCmVq7lgrYNa"
   },
   "source": [
    "As before, transform the review scores from strings like `\"4/5\"` into integers like `4`."
   ]
  },
  {
   "cell_type": "code",
   "execution_count": 3,
   "metadata": {
    "colab": {
     "base_uri": "https://localhost:8080/",
     "height": 208
    },
    "colab_type": "code",
    "id": "B6WGuGNkrYNb",
    "outputId": "91b8fb77-d732-4b9a-f5d1-adeb8b4e5492"
   },
   "outputs": [
    {
     "data": {
      "text/html": [
       "<table border=\"1\" class=\"dataframe\">\n",
       "    <thead>\n",
       "        <tr>\n",
       "            <th>beer_ABV</th> <th>beer_beerId</th> <th>beer_brewerId</th> <th>beer_name</th> <th>beer_style</th> <th>review_profileName</th> <th>review_text</th> <th>review_time</th> <th>review_appearance</th> <th>review_aroma</th> <th>review_overall</th> <th>review_palate</th> <th>review_taste</th>\n",
       "        </tr>\n",
       "    </thead>\n",
       "    <tbody>\n",
       "        <tr>\n",
       "            <td>5.4     </td> <td>63836      </td> <td>8481         </td> <td>John Harvards Simcoe IPA</td> <td>India Pale Ale &#40;IPA&#41;</td> <td>hopdog            </td> <td>On tap at the Springfield, PA location. Poured a deep an ...</td> <td>1157587200 </td> <td>4                </td> <td>6           </td> <td>13            </td> <td>3            </td> <td>6           </td>\n",
       "        </tr>\n",
       "        <tr>\n",
       "            <td>6.5     </td> <td>58511      </td> <td>3228         </td> <td>Barley Island Barfly IPA</td> <td>India Pale Ale &#40;IPA&#41;</td> <td>jake65            </td> <td>Bottle:  Pours a murky caramel color with a modest, crea ...</td> <td>1227744000 </td> <td>3                </td> <td>5           </td> <td>8             </td> <td>2            </td> <td>4           </td>\n",
       "        </tr>\n",
       "    </tbody>\n",
       "</table>\n",
       "<p>... (9998 rows omitted)</p>"
      ],
      "text/plain": [
       "<IPython.core.display.HTML object>"
      ]
     },
     "metadata": {},
     "output_type": "display_data"
    }
   ],
   "source": [
    "# transform columns with scoring into ints\n",
    "review_cols = [\"review_appearance\", \"review_aroma\", \"review_overall\", \"review_palate\", \"review_taste\"]\n",
    "\n",
    "def transform_int(score):\n",
    "    return int(re.match(r'([0-9]*)\\/', score)[1])\n",
    "\n",
    "for col in review_cols:\n",
    "    review_score = data.apply(transform_int, col)\n",
    "    data = data.drop(col)\n",
    "    data = data.with_column(col, review_score)\n",
    "\n",
    "data.show(2)"
   ]
  },
  {
   "cell_type": "markdown",
   "metadata": {
    "colab_type": "text",
    "id": "Ho4j5ew0rYNg"
   },
   "source": [
    "Now, label the reviews into 3 classes: positive, neutral and negative. \n",
    "\n",
    "Previously, we took the the first third of reviews sorted by increasing overall review score as labelled negative, the next third neutral, and the last third positive. The problem with this is that a review given a score of, say 15, may be labelled as neutral and another review with that same score may be labelled as positive.\n",
    "\n",
    "A better approach is to find the overall review score associated to the review at the 33rd and 66th percentile, and define our class thresholds according to that score."
   ]
  },
  {
   "cell_type": "code",
   "execution_count": 4,
   "metadata": {
    "colab": {
     "base_uri": "https://localhost:8080/",
     "height": 364
    },
    "colab_type": "code",
    "id": "p7vgKjfHrYNg",
    "outputId": "280bffbc-2a42-4b8b-ff1c-ab0ec9fd6bbc"
   },
   "outputs": [
    {
     "name": "stdout",
     "output_type": "stream",
     "text": [
      "negative threshold: 12\n",
      "neutral threshold: 15\n",
      "\n"
     ]
    },
    {
     "data": {
      "text/html": [
       "<table border=\"1\" class=\"dataframe\">\n",
       "    <thead>\n",
       "        <tr>\n",
       "            <th>beer_ABV</th> <th>beer_beerId</th> <th>beer_brewerId</th> <th>beer_name</th> <th>beer_style</th> <th>review_profileName</th> <th>review_text</th> <th>review_time</th> <th>review_appearance</th> <th>review_aroma</th> <th>review_overall</th> <th>review_palate</th> <th>review_taste</th> <th>class</th>\n",
       "        </tr>\n",
       "    </thead>\n",
       "    <tbody>\n",
       "        <tr>\n",
       "            <td>5       </td> <td>51707      </td> <td>156          </td> <td>Lakefront New Grist Sorghum Beer</td> <td>Specialty Grain     </td> <td>roder60           </td> <td>Poured a very light offwhite offyellow color with almost ...</td> <td>1193875200 </td> <td>1                </td> <td>2           </td> <td>1             </td> <td>1            </td> <td>2           </td> <td>1    </td>\n",
       "        </tr>\n",
       "        <tr>\n",
       "            <td>5       </td> <td>44918      </td> <td>49           </td> <td>Molson Kick                     </td> <td>Spice/Herb/Vegetable</td> <td>Kinger            </td> <td>UPDATED: JAN 2, 2006 Bottle. I cant believe I was into t ...</td> <td>1135987200 </td> <td>1                </td> <td>1           </td> <td>1             </td> <td>1            </td> <td>1           </td> <td>1    </td>\n",
       "        </tr>\n",
       "    </tbody>\n",
       "</table>\n",
       "<p>... (9998 rows omitted)</p>"
      ],
      "text/plain": [
       "<IPython.core.display.HTML object>"
      ]
     },
     "metadata": {},
     "output_type": "display_data"
    }
   ],
   "source": [
    "# sort by increasing review overall score\n",
    "data = data.sort(\"review_overall\")\n",
    "\n",
    "# label class\n",
    "c2i = {\"negative\": 1,\n",
    "       \"neutral\": 2,\n",
    "       \"positive\": 3}\n",
    "\n",
    "# find score associated with tertiles\n",
    "thresh_neg = np.percentile(data.column(\"review_overall\"), q=33)\n",
    "thresh_neu = np.percentile(data.column(\"review_overall\"), q=66)\n",
    "\n",
    "print('negative threshold: %.0f\\nneutral threshold: %.0f\\n' % (thresh_neg, thresh_neu))\n",
    "\n",
    "# label classes\n",
    "def label_class(score, thresh_neg, thresh_neu):\n",
    "    if score <= thresh_neg:\n",
    "        return c2i[\"negative\"]\n",
    "    elif score <= thresh_neu:\n",
    "        return c2i[\"neutral\"]\n",
    "    else:\n",
    "        return c2i[\"positive\"]\n",
    "scores = data.column(\"review_overall\")\n",
    "labels = [label_class(score, thresh_neg, thresh_neu) for score in scores] \n",
    "\n",
    "# add to data\n",
    "data = data.with_column(\"class\", labels)\n",
    "data.show(2)"
   ]
  },
  {
   "cell_type": "markdown",
   "metadata": {
    "colab_type": "text",
    "id": "5KoFUUUirYNk"
   },
   "source": [
    "Let's take a look at the distribution of the resulting classes."
   ]
  },
  {
   "cell_type": "code",
   "execution_count": 5,
   "metadata": {
    "colab": {
     "base_uri": "https://localhost:8080/",
     "height": 262
    },
    "colab_type": "code",
    "id": "JDhW5MMQrYNl",
    "outputId": "c4c20deb-8afa-4f03-f5a9-2d36b7b51f70"
   },
   "outputs": [
    {
     "data": {
      "image/png": "[encoded data removed]",
      "text/plain": [
       "<Figure size 432x288 with 1 Axes>"
      ]
     },
     "metadata": {},
     "output_type": "display_data"
    }
   ],
   "source": [
    "plt.hist(labels)\n",
    "plt.show()"
   ]
  },
  {
   "cell_type": "markdown",
   "metadata": {
    "colab_type": "text",
    "id": "aVgyFgI_rYNp"
   },
   "source": [
    "In the following sections, we again develop different models to score the sentiment of a beer review. As before, split the dataset into a training set (80%) and test set (20%). Recall that the training set will be used to develop the model, while the test set will be used to evaluate the model. This allows us to more reliably evaluate the model. "
   ]
  },
  {
   "cell_type": "code",
   "execution_count": 6,
   "metadata": {
    "colab": {},
    "colab_type": "code",
    "id": "9f7e9QXirYNq"
   },
   "outputs": [],
   "source": [
    "# split to training and test set\n",
    "from sklearn.model_selection import train_test_split\n",
    "seed = 123\n",
    "\n",
    "train, test = train_test_split(data.to_df(), test_size=0.20, random_state=seed)\n",
    "train = Table.from_df(train)\n",
    "test = Table.from_df(test)\n",
    "\n",
    "x_train = train.column(\"review_text\")\n",
    "y_train = train.column(\"class\")\n",
    "scores_train = train.column(\"review_overall\")\n",
    "\n",
    "x_test = test.column(\"review_text\")\n",
    "y_test = test.column(\"class\")\n",
    "scores_test = test.column(\"review_overall\")"
   ]
  },
  {
   "cell_type": "markdown",
   "metadata": {
    "colab_type": "text",
    "id": "l1l5RYa_rYNz"
   },
   "source": [
    "## Load GloVe Word Embeddings"
   ]
  },
  {
   "cell_type": "markdown",
   "metadata": {
    "colab_type": "text",
    "id": "idtRMKQRrYNz"
   },
   "source": [
    "Let's load the 100-dimensional GloVe embeddings we worked with in labs 08 and 09. Recall that these are trained using word cooccurrence counts from about 6 billion words of text from Wikipedia pages."
   ]
  },
  {
   "cell_type": "code",
   "execution_count": 7,
   "metadata": {
    "colab": {
     "base_uri": "https://localhost:8080/",
     "height": 88
    },
    "colab_type": "code",
    "id": "XBWGmrKWrYN0",
    "outputId": "330eb53a-704d-41a8-de34-250c7cde6e75"
   },
   "outputs": [],
   "source": [
    "import gensim\n",
    "import gensim.downloader as gdl\n",
    "from gensim.models import KeyedVectors\n",
    "\n",
    "glove = gdl.load(\"glove-wiki-gigaword-100\")"
   ]
  },
  {
   "cell_type": "markdown",
   "metadata": {
    "colab_type": "text",
    "id": "Q9eg-ktSrYN3"
   },
   "source": [
    "## Utility Functions"
   ]
  },
  {
   "cell_type": "markdown",
   "metadata": {
    "colab_type": "text",
    "id": "2uvrvN3frYN4"
   },
   "source": [
    "Let's define the functions we've been using for preprocessing of documents. Recall that we also lemmatize words (verbs) to derive their root form."
   ]
  },
  {
   "cell_type": "code",
   "execution_count": 8,
   "metadata": {
    "colab": {},
    "colab_type": "code",
    "id": "vojeFVqrrYN5"
   },
   "outputs": [],
   "source": [
    "from nltk.stem import WordNetLemmatizer\n",
    "lemmatizer = WordNetLemmatizer()\n",
    "\n",
    "def is_numeric(string):\n",
    "    return any(char.isdigit() for char in string)\n",
    "\n",
    "def has_poss_contr(string):\n",
    "    return '\\'s' in string\n",
    "\n",
    "def empty_string(string):\n",
    "    return not string\n",
    "\n",
    "def remove_string(string):\n",
    "    return is_numeric(string) or has_poss_contr(string) or empty_string(string)\n",
    "\n",
    "def preprocess_data(docs):\n",
    "    docs = [re.sub(r'[^\\w\\s]', '', doc) for doc in docs]\n",
    "    docs_tok = [doc.lower().strip().split(' ') for doc in docs]\n",
    "    docs_tok = [[tok for tok in doc if not remove_string(tok)] for doc in docs_tok]\n",
    "    docs_tok = [[lemmatizer.lemmatize(tok, pos='v') for tok in doc] for doc in docs_tok]\n",
    "    return docs_tok"
   ]
  },
  {
   "cell_type": "markdown",
   "metadata": {
    "colab_type": "text",
    "id": "_rxiUZjMrYN_"
   },
   "source": [
    "We now define a couple more utility functions. The first filters a list of `tokens` and only keeps those that are in `vocab`. This helps us deal with tokens that may be out of GloVe's vocabulary by removing them. The second (from the previous lab) uses a model to predict the classes of reviews in `features`, and calculates the accuracy against `labels`."
   ]
  },
  {
   "cell_type": "code",
   "execution_count": 9,
   "metadata": {
    "colab": {},
    "colab_type": "code",
    "id": "G8xyJ9HArYOB"
   },
   "outputs": [],
   "source": [
    "def filter_not_in_vocab(tokens, vocab):\n",
    "    return [token for token in tokens if token in vocab]\n",
    "\n",
    "def evaluate(model, features, labels, split=None):\n",
    "    pred_class = model.predict(features)\n",
    "    acc = np.mean(np.equal(labels, pred_class))\n",
    "    print(\"Classification accuracy (%s): %f\" % (split, acc))\n",
    "    return pred_class"
   ]
  },
  {
   "cell_type": "markdown",
   "metadata": {
    "colab_type": "text",
    "id": "9s6sbgO6rYOE"
   },
   "source": [
    "## 1) Document Embeddings by Taking the Mean of Word Embeddings"
   ]
  },
  {
   "cell_type": "markdown",
   "metadata": {
    "colab_type": "text",
    "id": "g6ObE-WurYOF"
   },
   "source": [
    "One simple approach to obtaining document embeddings is to average out all the word embeddings for each token in the document.\n",
    "\n",
    "$$\n",
    "    a = \\frac{1}{|D|}\\sum_{w \\in D} \\phi(w)\n",
    "$$\n",
    "\n",
    "The result will be stored in a matrix, a data structure that stores an array of arrays.\n",
    "\n",
    "$$\n",
    "    \\begin{pmatrix}\n",
    "        a_1 & a_2 & \\dots & a_d \\\\\n",
    "        b_1 & b_2 & \\dots & b_d \\\\\n",
    "        \\vdots & \\vdots & \\ddots & \\vdots \\\\\n",
    "        c_1 & c_2 & \\dots & c_d \\\\\n",
    "    \\end{pmatrix}\n",
    "$$\n",
    "\n",
    "Each row in this matrix corresponds to a document embedding (a list of numbers `a = [a_1,a_2,...,a_d]`). Each embedding will, in our case, be of size $d=100$ since we average over 100-dimensional GloVe vectors. This will be the vector representation of a review. So, the matrix has $n$ rows and $d = 100$ columns, where $n$ is the number of documents."
   ]
  },
  {
   "cell_type": "code",
   "execution_count": 10,
   "metadata": {
    "colab": {
     "base_uri": "https://localhost:8080/",
     "height": 68
    },
    "colab_type": "code",
    "id": "MSuOyXK9sjWH",
    "outputId": "42223cfb-ba7e-422a-ba54-fe5a1c8ebd22"
   },
   "outputs": [],
   "source": [
    "# import nltk\n",
    "# nltk.download('wordnet')"
   ]
  },
  {
   "cell_type": "code",
   "execution_count": 11,
   "metadata": {
    "colab": {},
    "colab_type": "code",
    "id": "BlJyw8tGrYOG"
   },
   "outputs": [],
   "source": [
    "def get_doc_emb_avg(docs, emb_model):\n",
    "    \n",
    "    # vocab\n",
    "    if emb_model == glove:\n",
    "        vocab = glove.vocab\n",
    "    elif emb_model == w2v:\n",
    "        vocab = w2v.wv.vocab\n",
    "    \n",
    "    # preprocess data and filter tokens not in  vocab\n",
    "    docs_tok = preprocess_data(docs)\n",
    "    docs_tok = [filter_not_in_vocab(docs, vocab) for docs in docs_tok]\n",
    "    \n",
    "    # function to average vectors\n",
    "    def average_vectors(tokens):\n",
    "        vectors = []\n",
    "        for token in tokens:\n",
    "            vectors.append(emb_model[token])\n",
    "        return np.mean(vectors, axis=0)\n",
    "    \n",
    "    # get a list of document vectors\n",
    "    docs_emb = [average_vectors(tokens) for tokens in docs_tok]\n",
    "    \n",
    "    # stack document vectors into matrix\n",
    "    docs_emb = np.vstack(docs_emb)\n",
    "    \n",
    "    return docs_emb"
   ]
  },
  {
   "cell_type": "markdown",
   "metadata": {
    "colab_type": "text",
    "id": "qmg0d60erYOJ"
   },
   "source": [
    "Below, we compute the document embeddings for `x_train` and `x_test` respectively. We also scale the embeddings so that they have mean 0 and variance 1; this is also called \"standardization.\" It's a typical step in many machine learning methods so they will behave well, and we've also seen it for many statistical procedures in YData.\n"
   ]
  },
  {
   "cell_type": "code",
   "execution_count": 12,
   "metadata": {
    "colab": {},
    "colab_type": "code",
    "id": "IHdjyE8RrYOJ"
   },
   "outputs": [],
   "source": [
    "# get document embeddings \n",
    "from sklearn.preprocessing import StandardScaler\n",
    "scaler = StandardScaler()\n",
    "\n",
    "docs_emb_train = get_doc_emb_avg(x_train, glove)\n",
    "docs_emb_test = get_doc_emb_avg(x_test, glove)\n",
    "\n",
    "# scale the document embeddings \n",
    "x_train_feat = scaler.fit_transform(docs_emb_train)\n",
    "x_test_feat = scaler.transform(docs_emb_test)"
   ]
  },
  {
   "cell_type": "markdown",
   "metadata": {
    "colab_type": "text",
    "id": "4emmrmD9rYON"
   },
   "source": [
    "Next, we train our classifier. The first classifier we will consider is logistic regression. The simpler case is to predict among two classes (binary). \n",
    "\n",
    "$$\n",
    "logit(\\hat{p}) = \\hat{\\beta_0} + \\hat{\\beta_{1}}x_1 + ... + \\hat{\\beta_{100}}x_{100}\n",
    "$$\n",
    "\n",
    "In this case, we learn the coefficients $\\beta$, just as we would for linear regression. Taking the weighted sum of components of the document embedding, weighting component $x_j$ by $\\beta_j$, gives the log odds of the document belonging to a class.\n",
    "\n",
    "In our case, we predict among 3 possible classes, so we have to extend binary logistic regression to multinomial logistic regression."
   ]
  },
  {
   "cell_type": "code",
   "execution_count": 13,
   "metadata": {
    "colab": {
     "base_uri": "https://localhost:8080/",
     "height": 85
    },
    "colab_type": "code",
    "id": "Z1cfZ1uQrYOP",
    "outputId": "703bc12d-c27b-493f-ec6c-9314a7c90100"
   },
   "outputs": [
    {
     "name": "stdout",
     "output_type": "stream",
     "text": [
      "Classification accuracy (train): 0.570500\n",
      "Classification accuracy (test): 0.555000\n"
     ]
    },
    {
     "name": "stderr",
     "output_type": "stream",
     "text": [
      "/opt/tljh/user/lib/python3.6/site-packages/sklearn/linear_model/_sag.py:330: ConvergenceWarning: The max_iter was reached which means the coef_ did not converge\n",
      "  \"the coef_ did not converge\", ConvergenceWarning)\n"
     ]
    }
   ],
   "source": [
    "# train multinomial logistic regression\n",
    "from sklearn.linear_model import LogisticRegression\n",
    "\n",
    "clf = LogisticRegression(random_state=0, multi_class='multinomial', \n",
    "                                solver='sag', max_iter=100)\n",
    "model = clf.fit(x_train_feat, y_train)\n",
    "\n",
    "# evaluate model on train set\n",
    "preds_train = evaluate(model, x_train_feat, y_train, split=\"train\")\n",
    "\n",
    "# evaluate model on test set\n",
    "preds_test = evaluate(model, x_test_feat, y_test, split=\"test\")\n",
    "\n",
    "# from sklearn.metrics import classification_report, confusion_matrix  \n",
    "# print(confusion_matrix(y_test, preds_test))  \n",
    "# print(classification_report(y_test, preds_test))  "
   ]
  },
  {
   "cell_type": "markdown",
   "metadata": {
    "colab_type": "text",
    "id": "iqkPtScPrYOT"
   },
   "source": [
    "The logistic regression gives us 0.555 accuraccy over the test set. Not bad!\n",
    "\n",
    "We also try a k-NN classifier.\n",
    "\n",
    "<img width=350 src=\"http://res.cloudinary.com/dyd911kmh/image/upload/f_auto,q_auto:best/v1531424125/Knn_k1_z96jba.png\">\n",
    "\n",
    "The idea of the k-NN classifier is to find the nearest k neighbors to a document in the vector space. The majority label among these k neighbors becomes the label of that document. We'll start with 1 nearest neighbor."
   ]
  },
  {
   "cell_type": "code",
   "execution_count": 14,
   "metadata": {
    "colab": {
     "base_uri": "https://localhost:8080/",
     "height": 51
    },
    "colab_type": "code",
    "id": "2jsJ0Ot0rYOU",
    "outputId": "17bd9d26-08ee-4372-f6a4-842b3def2145"
   },
   "outputs": [
    {
     "name": "stdout",
     "output_type": "stream",
     "text": [
      "Classification accuracy (train): 0.999250\n",
      "Classification accuracy (test): 0.405500\n"
     ]
    }
   ],
   "source": [
    "# train KNN classifier\n",
    "from sklearn.neighbors import KNeighborsClassifier  \n",
    "clf = KNeighborsClassifier(n_neighbors=1)  \n",
    "model = clf.fit(x_train_feat, y_train) \n",
    "\n",
    "# evaluate model on train set\n",
    "preds_train = evaluate(model, x_train_feat, y_train, split=\"train\")\n",
    "\n",
    "# evaluate model on test set\n",
    "preds_test = evaluate(model, x_test_feat, y_test, split=\"test\")\n",
    "\n",
    "# from sklearn.metrics import classification_report, confusion_matrix  \n",
    "# print(confusion_matrix(y_test, preds_test))  \n",
    "# print(classification_report(y_test, preds_test))  "
   ]
  },
  {
   "cell_type": "markdown",
   "metadata": {
    "colab_type": "text",
    "id": "J1dZ7Ss5rYOY"
   },
   "source": [
    "The k-NN classifier doesn't perform as well as the logistic regression model. Can you suggest any reasons for this?"
   ]
  },
  {
   "cell_type": "markdown",
   "metadata": {
    "colab_type": "text",
    "id": "1Mel9OqorYOZ"
   },
   "source": [
    "## Your turn! (1/2)\n",
    "\n",
    "### Evaluating different k\n",
    "\n",
    "Currently, we set $k=1$ so we effectively have a nearest neighbor classifier. How would performance change as we vary $k$?\n",
    "\n",
    "Plot the training accuracy and test acccuracy of a k-NN classifier againt $k$. You want two lines in your plot.  You can use the following outline to get started."
   ]
  },
  {
   "cell_type": "code",
   "execution_count": 15,
   "metadata": {
    "colab": {
     "base_uri": "https://localhost:8080/",
     "height": 1000
    },
    "colab_type": "code",
    "id": "djdaCRVCrYOa",
    "outputId": "187b6d74-046d-481d-9526-aaac1377c7e6"
   },
   "outputs": [
    {
     "name": "stdout",
     "output_type": "stream",
     "text": [
      "Classification accuracy (train): 0.999250\n",
      "Classification accuracy (test): 0.405500\n",
      "Classification accuracy (train): 0.711500\n",
      "Classification accuracy (test): 0.433000\n",
      "Classification accuracy (train): 0.649500\n",
      "Classification accuracy (test): 0.455000\n",
      "Classification accuracy (train): 0.614375\n",
      "Classification accuracy (test): 0.445000\n",
      "Classification accuracy (train): 0.598375\n",
      "Classification accuracy (test): 0.447500\n",
      "Classification accuracy (train): 0.580125\n",
      "Classification accuracy (test): 0.448000\n",
      "Classification accuracy (train): 0.571125\n",
      "Classification accuracy (test): 0.451500\n",
      "Classification accuracy (train): 0.557250\n",
      "Classification accuracy (test): 0.464000\n",
      "Classification accuracy (train): 0.548750\n",
      "Classification accuracy (test): 0.465500\n",
      "Classification accuracy (train): 0.543625\n",
      "Classification accuracy (test): 0.453000\n",
      "Classification accuracy (train): 0.543000\n",
      "Classification accuracy (test): 0.458500\n",
      "Classification accuracy (train): 0.536375\n",
      "Classification accuracy (test): 0.456500\n",
      "Classification accuracy (train): 0.529000\n",
      "Classification accuracy (test): 0.448500\n",
      "Classification accuracy (train): 0.531625\n",
      "Classification accuracy (test): 0.454000\n",
      "Classification accuracy (train): 0.532250\n",
      "Classification accuracy (test): 0.456000\n",
      "Classification accuracy (train): 0.529250\n",
      "Classification accuracy (test): 0.458000\n",
      "Classification accuracy (train): 0.529000\n",
      "Classification accuracy (test): 0.459000\n",
      "Classification accuracy (train): 0.532125\n",
      "Classification accuracy (test): 0.457000\n",
      "Classification accuracy (train): 0.530750\n",
      "Classification accuracy (test): 0.466000\n",
      "Classification accuracy (train): 0.525625\n",
      "Classification accuracy (test): 0.465000\n",
      "Classification accuracy (train): 0.524875\n",
      "Classification accuracy (test): 0.464000\n",
      "Classification accuracy (train): 0.521250\n",
      "Classification accuracy (test): 0.469000\n",
      "Classification accuracy (train): 0.517625\n",
      "Classification accuracy (test): 0.471500\n",
      "Classification accuracy (train): 0.514250\n",
      "Classification accuracy (test): 0.471500\n",
      "Classification accuracy (train): 0.513375\n",
      "Classification accuracy (test): 0.472000\n"
     ]
    },
    {
     "data": {
      "image/png": "[encoded data removed]",
      "text/plain": [
       "<Figure size 432x288 with 1 Axes>"
      ]
     },
     "metadata": {},
     "output_type": "display_data"
    }
   ],
   "source": [
    "# define arrays for storing accuracies\n",
    "accuracy_train = []\n",
    "accuracy_test = []\n",
    "# add to data\n",
    "data = data.with_column(\"class\", labels)\n",
    "# define how we vary neighbours; don't change this!\n",
    "neighbors = np.arange(1, 50, 2)\n",
    "for k in neighbors:\n",
    "    \n",
    "    # train a KNN classifier with param k\n",
    "    clf = KNeighborsClassifier(n_neighbors=k)  \n",
    "    model = clf.fit(x_train_feat, y_train)\n",
    "\n",
    "    # Note that this gives you the accuracy:\n",
    "    # 100*sum(y_train==preds_train)/len(preds_train)\n",
    "\n",
    "    # evaluate model on training set\n",
    "    preds_train = evaluate(model, x_train_feat, y_train, split=\"train\")\n",
    "    accuracy_train.append(100*sum(y_train==preds_train)/len(preds_train))\n",
    "    \n",
    "    # evaluate model on test set\n",
    "    preds_test = evaluate(model, x_test_feat, y_test, split=\"test\") \n",
    "    accuracy_test.append(100*sum(y_test==preds_test)/len(preds_test))\n",
    "    \n",
    "\n",
    "# plot both relationships on a graph\n",
    "# x axis: neighbours\n",
    "# y axis: training accuracy, test accuracy\n",
    "\n",
    "plt.plot(neighbors,accuracy_train)\n",
    "plt.plot(neighbors,accuracy_test)\n",
    "plt.show()"
   ]
  },
  {
   "cell_type": "markdown",
   "metadata": {},
   "source": [
    "The performance can be seen to decrease over the training data and increase over the test data. It starts at nearly 100% for training, because it is overfit, which is also why is so low over the test data. Both the training and test accuracies can be seen to approach about 50%. Since the training and test accuracies are around the same, the model will generalize better and have a better overall performance even though the training accuracy is lower."
   ]
  },
  {
   "cell_type": "markdown",
   "metadata": {
    "colab_type": "text",
    "id": "Vpi9SbJ0rYOd"
   },
   "source": [
    "## 2) Document Embeddings using Weighted Sum of  Word Vectors"
   ]
  },
  {
   "cell_type": "markdown",
   "metadata": {
    "colab_type": "text",
    "id": "2TMJBZq2rYOf"
   },
   "source": [
    "Another way to obtain document embeddings is to take a *weighted* sum of word embeddings. Intuitively, some words will be more important the others&mdash;this is why we selected lexicons of positive and negative words in the last lab. But how  should we weight the word embeddings? \n",
    "\n",
    "We can use tf-idf as weights. tf stands for *term frequency*, and idf stands for *inverse document frequency*. This is a statistical measure of how important a word is to a particular document among a large corpus of documents. \n",
    "\n",
    "Intuitively, the tf term reflects the idea that the importance of a word increases if it appears in a document more times. \n",
    "\n",
    "$$\n",
    "    \\text{tf}_D(w) = \\frac{\\text{# appearances of w in document D}}{\\text{# words in D}}\n",
    "$$\n",
    "\n",
    "The idf term reflects the idea that the importance of a word decreases if it appears across many documents; e.g., `the` will appear in almost all documents, and so it's not informative.\n",
    "\n",
    "$$\n",
    "    \\text{idf}(w) = \\log\\left(\\frac{\\text{# documents}}{\\text{# documents that contain w}}\\right)\n",
    "$$\n",
    "\n",
    "The tf-idf weight of a term is then just the product of tf and idf:\n",
    "\n",
    "$$\n",
    "    \\text{tf-idf}_D(w) = tf(w) \\times idf(w)\n",
    "$$\n",
    "\n",
    "We use this tf-idf weight for word w to form a weighted sum of the GloVe embedding vectors to obtain a document embedding:\n",
    "\n",
    "$$\n",
    "    a = \\sum_{w \\in D} \\text{tf-idf}_D(w) \\times \\phi(w)\n",
    "$$\n",
    "\n",
    "As before, we store document embeddings in a matrix."
   ]
  },
  {
   "cell_type": "code",
   "execution_count": 16,
   "metadata": {
    "colab": {},
    "colab_type": "code",
    "id": "owFTVol6rYOg"
   },
   "outputs": [],
   "source": [
    "from gensim.corpora import Dictionary\n",
    "from gensim.models.tfidfmodel import TfidfModel\n",
    "from gensim.matutils import sparse2full\n",
    "    \n",
    "def get_doc_emb_tfidf(docs, emb_model):\n",
    "    \n",
    "    # vocab\n",
    "    if emb_model == glove:\n",
    "        vocab = glove.vocab\n",
    "    elif emb_model == w2v:\n",
    "        vocab = w2v.wv.vocab\n",
    "    \n",
    "    # build dictionary (vocabulary) over training set\n",
    "    docs_tok = preprocess_data(docs)\n",
    "    docs_tok = [filter_not_in_vocab(docs, vocab) for docs in docs_tok]\n",
    "    docs_dict = Dictionary(docs_tok)\n",
    "    docs_dict.filter_extremes(no_below=35, no_above=0.08)\n",
    "    docs_dict.compactify()\n",
    "\n",
    "    # build tfidf matrix for tokens in dictionary\n",
    "    docs_corpus = [docs_dict.doc2bow(doc) for doc in docs_tok]\n",
    "    model_tfidf = TfidfModel(docs_corpus, id2word=docs_dict)\n",
    "    docs_tfidf  = model_tfidf[docs_corpus]\n",
    "    docs_vecs   = np.vstack([sparse2full(c, len(docs_dict)) for c in docs_tfidf])\n",
    "\n",
    "    # build matrix of glove vectors for each token\n",
    "    tfidf_emb_vecs = np.vstack([emb_model[docs_dict[i]] for i in range(len(docs_dict))])\n",
    "    \n",
    "    # build document vectors, weighted by tfidf\n",
    "    docs_emb = np.dot(docs_vecs, tfidf_emb_vecs) \n",
    "    return docs_emb"
   ]
  },
  {
   "cell_type": "markdown",
   "metadata": {
    "colab_type": "text",
    "id": "mG3qxLAPrYOl"
   },
   "source": [
    "We scale the embeddings as before."
   ]
  },
  {
   "cell_type": "code",
   "execution_count": 17,
   "metadata": {
    "colab": {},
    "colab_type": "code",
    "id": "d1mULDx2rYOm"
   },
   "outputs": [],
   "source": [
    "# get document embeddings \n",
    "from sklearn.preprocessing import StandardScaler\n",
    "x_full = np.concatenate((x_train, x_test), axis=0)\n",
    "docs_emb = get_doc_emb_tfidf(x_full, glove)\n",
    "\n",
    "# we have to split into the embeddings for train docs and for test docs\n",
    "docs_emb_train = docs_emb[:train.num_rows,]\n",
    "docs_emb_test = docs_emb[train.num_rows:,] \n",
    "\n",
    "# scale embeddings\n",
    "x_train_feat = scaler.fit_transform(docs_emb_train)\n",
    "x_test_feat = scaler.transform(docs_emb_test)"
   ]
  },
  {
   "cell_type": "markdown",
   "metadata": {
    "colab_type": "text",
    "id": "HpqJOjuPrYOp"
   },
   "source": [
    "Finally, we train new classifiers using logistic regression and k-NN classification."
   ]
  },
  {
   "cell_type": "code",
   "execution_count": 18,
   "metadata": {
    "colab": {
     "base_uri": "https://localhost:8080/",
     "height": 51
    },
    "colab_type": "code",
    "id": "o4sxlTBCrYOp",
    "outputId": "5349bfed-582c-46f8-9154-820324d3dcdc"
   },
   "outputs": [
    {
     "name": "stdout",
     "output_type": "stream",
     "text": [
      "Classification accuracy (train): 0.553000\n",
      "Classification accuracy (test): 0.523500\n"
     ]
    }
   ],
   "source": [
    "# train multinomial logistic regression\n",
    "from sklearn.linear_model import LogisticRegression\n",
    "\n",
    "clf = LogisticRegression(random_state=0, multi_class='multinomial', \n",
    "                         solver='sag', max_iter=100)\n",
    "model = clf.fit(x_train_feat, y_train)\n",
    "\n",
    "# evaluate model on train set\n",
    "preds_train = evaluate(model, x_train_feat, y_train, split=\"train\")\n",
    "\n",
    "# evaluate model on test set\n",
    "preds_test = evaluate(model, x_test_feat, y_test, split=\"test\")\n",
    "\n",
    "# from sklearn.metrics import classification_report, confusion_matrix  \n",
    "# print(confusion_matrix(y_test, preds_test))  \n",
    "# print(classification_report(y_test, preds_test))  "
   ]
  },
  {
   "cell_type": "markdown",
   "metadata": {
    "colab_type": "text",
    "id": "W4Y1XCiirYOs"
   },
   "source": [
    "What can we say about the accuracy compared with the previous logistic regression model? Can you think of any possible explanation for this? How might we try to improve the model?\n"
   ]
  },
  {
   "cell_type": "markdown",
   "metadata": {
    "colab_type": "text",
    "id": "rTMRp-qBrYOt"
   },
   "source": [
    "Next we'll train the k-NN classifier."
   ]
  },
  {
   "cell_type": "code",
   "execution_count": 19,
   "metadata": {
    "colab": {
     "base_uri": "https://localhost:8080/",
     "height": 51
    },
    "colab_type": "code",
    "id": "pnNpi8nNrYOt",
    "outputId": "65527de8-e34f-4864-acc8-fbee4c859186"
   },
   "outputs": [
    {
     "name": "stdout",
     "output_type": "stream",
     "text": [
      "Classification accuracy (train): 0.609375\n",
      "Classification accuracy (test): 0.459500\n"
     ]
    }
   ],
   "source": [
    "# train KNN classifier\n",
    "from sklearn.neighbors import KNeighborsClassifier  \n",
    "clf = KNeighborsClassifier(n_neighbors=7)  \n",
    "model = clf.fit(x_train_feat, y_train) \n",
    "\n",
    "# evaluate model on train set\n",
    "preds_train = evaluate(model, x_train_feat, y_train, split=\"train\")\n",
    "\n",
    "# evaluate model on test set\n",
    "preds_test = evaluate(model, x_test_feat, y_test, split=\"test\")\n",
    "\n",
    "# from sklearn.metrics import classification_report, confusion_matrix  \n",
    "# print(confusion_matrix(y_test, preds_test))  \n",
    "# print(classification_report(y_test, preds_test))  "
   ]
  },
  {
   "cell_type": "markdown",
   "metadata": {
    "colab_type": "text",
    "id": "Z1iSsghqrYOx"
   },
   "source": [
    "## Document Embeddings using Doc2Vec"
   ]
  },
  {
   "cell_type": "markdown",
   "metadata": {
    "colab_type": "text",
    "id": "ueadC3f7rYOy"
   },
   "source": [
    "The last method we will consider for document embeddings is called Doc2Vec. The details are not necessary here, but the algorithm is similar to Word2Vec. This takes a while to run, so we can simply load from a previously saved model."
   ]
  },
  {
   "cell_type": "code",
   "execution_count": 20,
   "metadata": {
    "colab": {},
    "colab_type": "code",
    "id": "0MUcyeMhrYOy"
   },
   "outputs": [],
   "source": [
    "from gensim.models.doc2vec import Doc2Vec, TaggedDocument\n",
    "x_full = np.concatenate((x_train, x_test), axis=0)\n",
    "\n",
    "docs = preprocess_data(x_full)\n",
    "tagged_docs = [TaggedDocument(words=d, tags=[str(i)]) for i, d in enumerate(docs)]"
   ]
  },
  {
   "cell_type": "code",
   "execution_count": 21,
   "metadata": {
    "colab": {},
    "colab_type": "code",
    "id": "tAucAFZ-rYO2"
   },
   "outputs": [],
   "source": [
    "# # train d2v model\n",
    "# max_epochs = 100\n",
    "# vec_size = 100\n",
    "# alpha = 0.025\n",
    "\n",
    "# d2v = Doc2Vec(size=vec_size,\n",
    "#               alpha=alpha, \n",
    "#               min_alpha=0.00025,\n",
    "#               min_count=1,\n",
    "#               dm=1)\n",
    "  \n",
    "# d2v.build_vocab(tagged_docs)\n",
    "\n",
    "# for epoch in range(max_epochs):\n",
    "#     if epoch % 10 == 0:\n",
    "#         print('iteration {0}'.format(epoch))\n",
    "#     d2v.train(tagged_docs,\n",
    "#                 total_examples=d2v.corpus_count,\n",
    "#                 epochs=model.iter)\n",
    "#     # decrease the learning rate\n",
    "#     d2v.alpha -= 0.0002\n",
    "#     # fix the learning rate, no decay\n",
    "#     d2v.min_alpha = d2v.alpha\n",
    "\n",
    "# d2v.save(\"100-d2v.model\")"
   ]
  },
  {
   "cell_type": "code",
   "execution_count": 22,
   "metadata": {
    "colab": {
     "base_uri": "https://localhost:8080/",
     "height": 71
    },
    "colab_type": "code",
    "id": "b8ot0lsBrYO5",
    "outputId": "7eb34d84-7911-4da0-f4e5-ee81ca43de39"
   },
   "outputs": [],
   "source": [
    "d2v = Doc2Vec.load(\"100-d2v.model\")"
   ]
  },
  {
   "cell_type": "markdown",
   "metadata": {
    "colab_type": "text",
    "id": "u-BARjUNrYO8"
   },
   "source": [
    "As before, scale the embeddings."
   ]
  },
  {
   "cell_type": "code",
   "execution_count": 23,
   "metadata": {
    "colab": {},
    "colab_type": "code",
    "id": "BkSB7Rw5rYO8"
   },
   "outputs": [],
   "source": [
    "from sklearn.preprocessing import StandardScaler\n",
    "scaler = StandardScaler()\n",
    "\n",
    "# build the matrix\n",
    "docs_emb = np.vstack([d2v.docvecs[str(i)] for i in range(data.num_rows)])\n",
    "\n",
    "# we have to split into the embeddings for train docs and for test docs\n",
    "docs_emb_train = docs_emb[:train.num_rows,]\n",
    "docs_emb_test = docs_emb[train.num_rows:,] \n",
    "\n",
    "# scale embeddings\n",
    "x_train_feat = scaler.fit_transform(docs_emb_train)\n",
    "x_test_feat = scaler.transform(docs_emb_test)"
   ]
  },
  {
   "cell_type": "markdown",
   "metadata": {
    "colab_type": "text",
    "id": "dgufWfgErYO-"
   },
   "source": [
    "Train a logistic regression model..."
   ]
  },
  {
   "cell_type": "code",
   "execution_count": 24,
   "metadata": {
    "colab": {
     "base_uri": "https://localhost:8080/",
     "height": 51
    },
    "colab_type": "code",
    "id": "LrzRZbq1rYPA",
    "outputId": "c101e9dd-9f8a-4fb8-ddab-7a8bf5be58f1"
   },
   "outputs": [
    {
     "name": "stdout",
     "output_type": "stream",
     "text": [
      "Classification accuracy (train): 0.615875\n",
      "Classification accuracy (test): 0.590500\n"
     ]
    }
   ],
   "source": [
    "# train multinomial logistic regression\n",
    "from sklearn.linear_model import LogisticRegression\n",
    "\n",
    "clf = LogisticRegression(random_state=0, multi_class='multinomial', \n",
    "                         solver='sag', max_iter=100)\n",
    "model = clf.fit(x_train_feat, y_train)\n",
    "\n",
    "# evaluate model on train set\n",
    "preds_train = evaluate(model, x_train_feat, y_train, split=\"train\")\n",
    "\n",
    "# evaluate model on test set\n",
    "preds_test = evaluate(model, x_test_feat, y_test, split=\"test\")\n",
    "\n",
    "# from sklearn.metrics import classification_report, confusion_matrix  \n",
    "# print(confusion_matrix(y_test, preds_test))  \n",
    "# print(classification_report(y_test, preds_test))  "
   ]
  },
  {
   "cell_type": "markdown",
   "metadata": {
    "colab_type": "text",
    "id": "E6vTwkOPrYPD"
   },
   "source": [
    "The model performs well, with 0.591 accuracy on the test set. \n",
    "\n",
    "Train a KNN classifier..."
   ]
  },
  {
   "cell_type": "code",
   "execution_count": 25,
   "metadata": {
    "colab": {
     "base_uri": "https://localhost:8080/",
     "height": 51
    },
    "colab_type": "code",
    "id": "CHHBkh3ErYPE",
    "outputId": "b1745847-3698-4682-e77b-ed095b3ee658"
   },
   "outputs": [
    {
     "name": "stdout",
     "output_type": "stream",
     "text": [
      "Classification accuracy (train): 1.000000\n",
      "Classification accuracy (test): 0.381000\n"
     ]
    }
   ],
   "source": [
    "# train KNN classifier\n",
    "from sklearn.neighbors import KNeighborsClassifier  \n",
    "clf = KNeighborsClassifier(n_neighbors=1)  \n",
    "model = clf.fit(x_train_feat, y_train) \n",
    "\n",
    "# evaluate model on train set\n",
    "preds_train = evaluate(model, x_train_feat, y_train, split=\"train\")\n",
    "\n",
    "# evaluate model on test set\n",
    "preds_test = evaluate(model, x_test_feat, y_test, split=\"test\")\n",
    "\n",
    "# from sklearn.metrics import classification_report, confusion_matrix  \n",
    "# print(confusion_matrix(y_test, preds_test))  \n",
    "# print(classification_report(y_test, preds_test))  "
   ]
  },
  {
   "cell_type": "markdown",
   "metadata": {
    "colab_type": "text",
    "id": "i1ZYI1A0rYPH"
   },
   "source": [
    "This seems to do poorly once again."
   ]
  },
  {
   "cell_type": "markdown",
   "metadata": {
    "colab_type": "text",
    "id": "Fr0dYp_ErYPH"
   },
   "source": [
    "## Your turn! (2/2)\n",
    "\n",
    "### Word2Vec embeddings\n",
    "\n",
    "Currently, we use GloVe word embeddings to build document embeddings. How might the performance change if we use Word2Vec embeddings constructed from the training set instead?\n",
    "\n",
    "First, train word embeddings on `x_train` by filling in the following chunk."
   ]
  },
  {
   "cell_type": "code",
   "execution_count": null,
   "metadata": {
    "colab": {},
    "colab_type": "code",
    "id": "2miClRMo-Mw6"
   },
   "outputs": [],
   "source": []
  },
  {
   "cell_type": "code",
   "execution_count": 26,
   "metadata": {
    "colab": {},
    "colab_type": "code",
    "id": "VL1cfeCvrYPI"
   },
   "outputs": [],
   "source": [
    "from gensim.models import word2vec\n",
    "logging.basicConfig(format='%(asctime)s : %(levelname)s : %(message)s', \\\n",
    "                    level=logging.INFO)\n",
    "\n",
    "docs = preprocess_data(x_train)\n",
    "w2v = word2vec.Word2Vec(docs, size=100, window=10, iter=10, min_count=10)\n"
   ]
  },
  {
   "cell_type": "code",
   "execution_count": 27,
   "metadata": {
    "colab": {},
    "colab_type": "code",
    "id": "2eJmsddbDG3k"
   },
   "outputs": [],
   "source": [
    "# from gensim.models import word2vec\n",
    "# logging.basicConfig(format='%(asctime)s : %(levelname)s : %(message)s', \\\n",
    "#                     level=logging.INFO)\n",
    "# max_epochs = 100\n",
    "# vec_size = 100\n",
    "# alpha = 0.025\n",
    "# docs = preprocess_data(x_train)\n",
    "# tagged_docs = [' '.join(i) for i in docs]#[TaggedDocument(words=d, tags=[str(i)]) for i, d in enumerate(docs)]\n",
    "# # print(tagged_docs[:10])\n",
    "# w2v = word2vec.Word2Vec(docs, size=100, window=10, iter=10, min_count=10)\n",
    "# #build_vocab(sentences=None, corpus_file=None, update=False, progress_per=10000, keep_raw_vocab=False, trim_rule=None, **kwargs\n",
    "# w2v.build_vocab(sentences = tagged_docs, update = True)\n",
    "\n",
    "# for epoch in range(max_epochs):\n",
    "#     if epoch % 10 == 0:\n",
    "#         print('iteration {0}'.format(epoch))\n",
    "#     w2v.train(tagged_docs,\n",
    "#                 total_examples=w2v.corpus_count,\n",
    "#                 epochs=10)\n",
    "#     # decrease the learning rate\n",
    "#     w2v.alpha -= 0.0002\n",
    "#     # fix the learning rate, no decay\n",
    "#     w2v.min_alpha = w2v.alpha\n"
   ]
  },
  {
   "cell_type": "code",
   "execution_count": 28,
   "metadata": {
    "colab": {
     "base_uri": "https://localhost:8080/",
     "height": 71
    },
    "colab_type": "code",
    "id": "x6pI43We63bi",
    "outputId": "39b2a2e8-83c3-487b-dab5-90e889241a78"
   },
   "outputs": [],
   "source": [
    "# w2v.save(\"100-w2v.model\")"
   ]
  },
  {
   "cell_type": "markdown",
   "metadata": {
    "colab_type": "text",
    "id": "zbXhvsMCrYPL"
   },
   "source": [
    "Second, get document embeddings via the first method (mean of word embeddings). Then, scale the document embeddings. Your code for the following chunks should look like what has been given above."
   ]
  },
  {
   "cell_type": "code",
   "execution_count": 29,
   "metadata": {
    "colab": {},
    "colab_type": "code",
    "id": "KIbpLmtrrYPL"
   },
   "outputs": [],
   "source": [
    "# get document embeddings\n",
    "docs_emb_train = get_doc_emb_avg(x_train, w2v)\n",
    "docs_emb_test = get_doc_emb_avg(x_test, w2v)\n",
    "\n",
    "# scale the document embeddings \n",
    "x_train_feat = scaler.fit_transform(docs_emb_train)\n",
    "x_test_feat = scaler.transform(docs_emb_test)"
   ]
  },
  {
   "cell_type": "markdown",
   "metadata": {
    "colab_type": "text",
    "id": "pHycyvt9rYPO"
   },
   "source": [
    "Third, train a logistic regression model, and evaluate its performance."
   ]
  },
  {
   "cell_type": "code",
   "execution_count": 30,
   "metadata": {
    "colab": {
     "base_uri": "https://localhost:8080/",
     "height": 85
    },
    "colab_type": "code",
    "id": "gSfGpx-5rYPP",
    "outputId": "5611a4f4-fe6c-46f9-fe44-947c2e12fa5a"
   },
   "outputs": [
    {
     "name": "stdout",
     "output_type": "stream",
     "text": [
      "Classification accuracy (train): 0.594250\n",
      "Classification accuracy (test): 0.571000\n"
     ]
    },
    {
     "name": "stderr",
     "output_type": "stream",
     "text": [
      "/opt/tljh/user/lib/python3.6/site-packages/sklearn/linear_model/_sag.py:330: ConvergenceWarning: The max_iter was reached which means the coef_ did not converge\n",
      "  \"the coef_ did not converge\", ConvergenceWarning)\n"
     ]
    }
   ],
   "source": [
    "# train and evaluate logistic regression model\n",
    "clf = LogisticRegression(random_state=0, multi_class='multinomial', \n",
    "                         solver='sag', max_iter=100)\n",
    "model = clf.fit(x_train_feat, y_train)\n",
    "\n",
    "# evaluate model on train set\n",
    "preds_train = evaluate(model, x_train_feat, y_train, split=\"train\")\n",
    "\n",
    "# evaluate model on test set\n",
    "preds_test = evaluate(model, x_test_feat, y_test, split=\"test\")\n"
   ]
  },
  {
   "cell_type": "markdown",
   "metadata": {
    "colab_type": "text",
    "id": "4zMReXDxrYPU"
   },
   "source": [
    "Fourth, train a KNN classifier model, and evaluate its performance."
   ]
  },
  {
   "cell_type": "code",
   "execution_count": 31,
   "metadata": {
    "colab": {
     "base_uri": "https://localhost:8080/",
     "height": 51
    },
    "colab_type": "code",
    "id": "egmf3pCSrYPU",
    "outputId": "ce6d44bd-d478-4f8c-d8c3-d40332c80642"
   },
   "outputs": [
    {
     "name": "stdout",
     "output_type": "stream",
     "text": [
      "Classification accuracy (train): 0.999125\n",
      "Classification accuracy (test): 0.461000\n"
     ]
    }
   ],
   "source": [
    "# train and evaluate KNN classifier model\n",
    "clf = KNeighborsClassifier(n_neighbors=1)  \n",
    "model = clf.fit(x_train_feat, y_train) \n",
    "\n",
    "# evaluate model on train set\n",
    "preds_train = evaluate(model, x_train_feat, y_train, split=\"train\")\n",
    "\n",
    "# evaluate model on test set\n",
    "preds_test = evaluate(model, x_test_feat, y_test, split=\"test\")"
   ]
  },
  {
   "cell_type": "code",
   "execution_count": 32,
   "metadata": {
    "colab": {
     "base_uri": "https://localhost:8080/",
     "height": 1000
    },
    "colab_type": "code",
    "id": "Pt7jUKptEYrC",
    "outputId": "78f8cde3-15ad-4fa8-8227-f5a108a35565"
   },
   "outputs": [
    {
     "name": "stdout",
     "output_type": "stream",
     "text": [
      "Classification accuracy (train): 0.999125\n",
      "Classification accuracy (test): 0.461000\n",
      "Classification accuracy (train): 0.721375\n",
      "Classification accuracy (test): 0.490000\n",
      "Classification accuracy (train): 0.666625\n",
      "Classification accuracy (test): 0.516000\n",
      "Classification accuracy (train): 0.651750\n",
      "Classification accuracy (test): 0.524500\n",
      "Classification accuracy (train): 0.635625\n",
      "Classification accuracy (test): 0.531500\n",
      "Classification accuracy (train): 0.623125\n",
      "Classification accuracy (test): 0.535000\n",
      "Classification accuracy (train): 0.618750\n",
      "Classification accuracy (test): 0.525000\n",
      "Classification accuracy (train): 0.610250\n",
      "Classification accuracy (test): 0.532000\n",
      "Classification accuracy (train): 0.607625\n",
      "Classification accuracy (test): 0.540500\n",
      "Classification accuracy (train): 0.600125\n",
      "Classification accuracy (test): 0.549000\n",
      "Classification accuracy (train): 0.596625\n",
      "Classification accuracy (test): 0.548500\n",
      "Classification accuracy (train): 0.598875\n",
      "Classification accuracy (test): 0.545500\n",
      "Classification accuracy (train): 0.595250\n",
      "Classification accuracy (test): 0.545000\n",
      "Classification accuracy (train): 0.594375\n",
      "Classification accuracy (test): 0.549000\n",
      "Classification accuracy (train): 0.591875\n",
      "Classification accuracy (test): 0.558000\n",
      "Classification accuracy (train): 0.593750\n",
      "Classification accuracy (test): 0.546500\n",
      "Classification accuracy (train): 0.589750\n",
      "Classification accuracy (test): 0.542500\n",
      "Classification accuracy (train): 0.589625\n",
      "Classification accuracy (test): 0.548000\n",
      "Classification accuracy (train): 0.586000\n",
      "Classification accuracy (test): 0.541500\n",
      "Classification accuracy (train): 0.582875\n",
      "Classification accuracy (test): 0.553000\n",
      "Classification accuracy (train): 0.584875\n",
      "Classification accuracy (test): 0.548500\n",
      "Classification accuracy (train): 0.584250\n",
      "Classification accuracy (test): 0.556000\n",
      "Classification accuracy (train): 0.581375\n",
      "Classification accuracy (test): 0.551000\n",
      "Classification accuracy (train): 0.581000\n",
      "Classification accuracy (test): 0.555000\n",
      "Classification accuracy (train): 0.580875\n",
      "Classification accuracy (test): 0.554000\n"
     ]
    },
    {
     "data": {
      "image/png": "[encoded data removed]",
      "text/plain": [
       "<Figure size 432x288 with 1 Axes>"
      ]
     },
     "metadata": {},
     "output_type": "display_data"
    }
   ],
   "source": [
    "# define arrays for storing accuracies\n",
    "accuracy_train = []\n",
    "accuracy_test = []\n",
    "# add to data\n",
    "data = data.with_column(\"class\", labels)\n",
    "# define how we vary neighbours; don't change this!\n",
    "neighbors = np.arange(1, 50, 2)\n",
    "for k in neighbors:\n",
    "    \n",
    "    # train a KNN classifier with param k\n",
    "    clf = KNeighborsClassifier(n_neighbors=k)  \n",
    "    model = clf.fit(x_train_feat, y_train)\n",
    "\n",
    "    # Note that this gives you the accuracy:\n",
    "    # 100*sum(y_train==preds_train)/len(preds_train)\n",
    "\n",
    "    # evaluate model on training set\n",
    "    preds_train = evaluate(model, x_train_feat, y_train, split=\"train\")\n",
    "    accuracy_train.append(100*sum(y_train==preds_train)/len(preds_train))\n",
    "    \n",
    "    # evaluate model on test set\n",
    "    preds_test = evaluate(model, x_test_feat, y_test, split=\"test\") \n",
    "    accuracy_test.append(100*sum(y_test==preds_test)/len(preds_test))\n",
    "    \n",
    "\n",
    "# plot both relationships on a graph\n",
    "# x axis: neighbours\n",
    "# y axis: training accuracy, test accuracy\n",
    "\n",
    "plt.plot(neighbors,accuracy_train)\n",
    "plt.plot(neighbors,accuracy_test)\n",
    "plt.show()"
   ]
  },
  {
   "cell_type": "markdown",
   "metadata": {
    "colab_type": "text",
    "id": "_G2OZmnQrYPY"
   },
   "source": [
    "Discuss the performance of the models. How do they compare with the GloVe embeddings?"
   ]
  },
  {
   "cell_type": "markdown",
   "metadata": {
    "colab_type": "text",
    "id": "hnEjiJE1EL0h"
   },
   "source": [
    "The models were very similar. Logistic regression was slightly better for w2v than GloVe, but worse than doc2vec. The kNN had results very similar to GloVe for the one iteration, so I decided to train similar to how it was done in part 1. Over a period of time, w2v outperformed the GloVe embeddings. With GloVe, the accuracies seemed to hover around 50%. For w2v, they seem to hover around 56%."
   ]
  }
 ],
 "metadata": {
  "accelerator": "GPU",
  "colab": {
   "collapsed_sections": [],
   "name": "lab11.ipynb",
   "provenance": [],
   "toc_visible": true
  },
  "kernelspec": {
   "display_name": "Python 3",
   "language": "python",
   "name": "python3"
  },
  "language_info": {
   "codemirror_mode": {
    "name": "ipython",
    "version": 3
   },
   "file_extension": ".py",
   "mimetype": "text/x-python",
   "name": "python",
   "nbconvert_exporter": "python",
   "pygments_lexer": "ipython3",
   "version": "3.6.7"
  }
 },
 "nbformat": 4,
 "nbformat_minor": 1
}
